{
 "cells": [
  {
   "cell_type": "code",
   "execution_count": 2,
   "id": "beca6cbe-0945-4d62-b064-c5cc5bf974d9",
   "metadata": {},
   "outputs": [
    {
     "name": "stdout",
     "output_type": "stream",
     "text": [
      "6\n"
     ]
    }
   ],
   "source": [
    "print(6)"
   ]
  },
  {
   "cell_type": "code",
   "execution_count": 3,
   "id": "a8fe2e95-8652-4947-a4a3-4860acc1f5ef",
   "metadata": {},
   "outputs": [
    {
     "name": "stdout",
     "output_type": "stream",
     "text": [
      "6\n"
     ]
    }
   ],
   "source": [
    "print(6)"
   ]
  },
  {
   "cell_type": "code",
   "execution_count": null,
   "id": "8456f123-4a20-4633-a98c-d7c959b227d2",
   "metadata": {},
   "outputs": [],
   "source": [
    "Run : CTRL +ENTER\n",
    "    shift +Enter\n",
    "Add cell : Esc +b\n",
    "asterisk indicates running of code\n",
    "empty stands indicate no excution of code\n",
    "number indicate end of excution of code\n",
    "# indicates heading "
   ]
  },
  {
   "cell_type": "markdown",
   "id": "1ee5f172-75fb-43c6-b4d2-1ac2cba9107e",
   "metadata": {},
   "source": [
    "## second heading(font small hunch)"
   ]
  },
  {
   "cell_type": "code",
   "execution_count": 5,
   "id": "6bed5cdc-e032-4ba2-96e4-bb3cc15d9b7b",
   "metadata": {},
   "outputs": [],
   "source": [
    "### third heading \n",
    "#### fourth heading \n",
    "\n",
    "\n",
    "\n",
    "###### sixth heading\n"
   ]
  },
  {
   "cell_type": "markdown",
   "id": "17c995aa-d53c-470b-ae8f-127948b91d1b",
   "metadata": {},
   "source": [
    "- A\n",
    "- B\n"
   ]
  },
  {
   "cell_type": "markdown",
   "id": "d8ca8a87-c2b6-44c1-bc11-7292df03906a",
   "metadata": {},
   "source": [
    "1. A\n",
    "2. B\n"
   ]
  },
  {
   "cell_type": "markdown",
   "id": "2ab6dfb8-c632-4754-a602-8b768b11ab6f",
   "metadata": {},
   "source": [
    "## Numpy"
   ]
  },
  {
   "cell_type": "code",
   "execution_count": null,
   "id": "a3850a92-3d76-4865-9eb6-e2af01424afb",
   "metadata": {},
   "outputs": [],
   "source": [
    "Numerical Python \n",
    "Computing /statistical\n",
    "homogeneous"
   ]
  },
  {
   "cell_type": "code",
   "execution_count": 10,
   "id": "439335f7-a2e3-404b-b6cb-245fdc8b6f16",
   "metadata": {},
   "outputs": [
    {
     "name": "stdout",
     "output_type": "stream",
     "text": [
      "[5, 6, 7, 8, 'data']\n"
     ]
    }
   ],
   "source": [
    "abc=[5,6,7,8,'data']\n",
    "print(abc)"
   ]
  },
  {
   "cell_type": "code",
   "execution_count": 1,
   "id": "efbc43ed-1631-4348-a473-5248bc6d6eab",
   "metadata": {},
   "outputs": [
    {
     "name": "stdout",
     "output_type": "stream",
     "text": [
      "Requirement already satisfied: numpy in c:\\users\\admin\\appdata\\local\\programs\\python\\python313\\lib\\site-packages (2.2.5)\n",
      "Note: you may need to restart the kernel to use updated packages.\n"
     ]
    },
    {
     "name": "stderr",
     "output_type": "stream",
     "text": [
      "\n",
      "[notice] A new release of pip is available: 24.3.1 -> 25.1.1\n",
      "[notice] To update, run: python.exe -m pip install --upgrade pip\n"
     ]
    }
   ],
   "source": [
    "pip install numpy\n"
   ]
  },
  {
   "cell_type": "code",
   "execution_count": 3,
   "id": "9cb17fcc-3f9e-4a3c-9ff0-ccbb186c12e5",
   "metadata": {},
   "outputs": [
    {
     "name": "stdout",
     "output_type": "stream",
     "text": [
      "Requirement already satisfied: pip in c:\\users\\admin\\appdata\\local\\programs\\python\\python313\\lib\\site-packages (24.3.1)\n",
      "Collecting pip\n",
      "  Downloading pip-25.1.1-py3-none-any.whl.metadata (3.6 kB)\n",
      "Downloading pip-25.1.1-py3-none-any.whl (1.8 MB)\n",
      "   ---------------------------------------- 0.0/1.8 MB ? eta -:--:--\n",
      "   ----- ---------------------------------- 0.3/1.8 MB ? eta -:--:--\n",
      "   ---------------------- ----------------- 1.0/1.8 MB 3.6 MB/s eta 0:00:01\n",
      "   ---------------------------------------- 1.8/1.8 MB 3.3 MB/s eta 0:00:00\n",
      "Installing collected packages: pip\n",
      "  Attempting uninstall: pip\n",
      "    Found existing installation: pip 24.3.1\n",
      "    Uninstalling pip-24.3.1:\n",
      "      Successfully uninstalled pip-24.3.1\n",
      "Successfully installed pip-25.1.1\n",
      "Note: you may need to restart the kernel to use updated packages.\n"
     ]
    }
   ],
   "source": [
    "pip install --upgrade pip"
   ]
  },
  {
   "cell_type": "code",
   "execution_count": 3,
   "id": "4b378a26-1d8e-477c-b41a-bff522fb65d0",
   "metadata": {},
   "outputs": [],
   "source": [
    "import numpy as np"
   ]
  },
  {
   "cell_type": "code",
   "execution_count": 8,
   "id": "5ed84902-2c31-481e-899c-ddbb348647e9",
   "metadata": {},
   "outputs": [
    {
     "name": "stdout",
     "output_type": "stream",
     "text": [
      "[ 5  7  4  9 12]\n"
     ]
    }
   ],
   "source": [
    "x=np.array([5,7,4,9,12])\n",
    "print(x)"
   ]
  },
  {
   "cell_type": "code",
   "execution_count": 1,
   "id": "58d5c8d7-6637-4a8e-9539-80262a13d40b",
   "metadata": {},
   "outputs": [
    {
     "ename": "SyntaxError",
     "evalue": "invalid syntax (965766793.py, line 1)",
     "output_type": "error",
     "traceback": [
      "  \u001b[36mCell\u001b[39m\u001b[36m \u001b[39m\u001b[32mIn[1]\u001b[39m\u001b[32m, line 1\u001b[39m\n\u001b[31m    \u001b[39m\u001b[31m1. numpy indexing\u001b[39m\n       ^\n\u001b[31mSyntaxError\u001b[39m\u001b[31m:\u001b[39m invalid syntax\n"
     ]
    }
   ],
   "source": [
    "1. numpy indexing \n",
    "2. numpy slicing\n",
    "Attributes\n",
    "shape\n",
    "size\n",
    "ndim\n",
    "type\n"
   ]
  },
  {
   "cell_type": "code",
   "execution_count": 7,
   "id": "0571b9f1-92b3-412b-8211-4c3191b16e7f",
   "metadata": {},
   "outputs": [
    {
     "name": "stdout",
     "output_type": "stream",
     "text": [
      "[1 4 7]\n"
     ]
    }
   ],
   "source": [
    "a=np.array([1,2,3,4,5,6,7,8])\n",
    "print(a[: : 3])\n"
   ]
  },
  {
   "cell_type": "code",
   "execution_count": 8,
   "id": "ba4d49f4-aeb8-4060-aa24-e664a04563cd",
   "metadata": {},
   "outputs": [
    {
     "name": "stdout",
     "output_type": "stream",
     "text": [
      "[1 2 3 4 5]\n"
     ]
    }
   ],
   "source": [
    "print(a[ :5])"
   ]
  },
  {
   "cell_type": "code",
   "execution_count": 11,
   "id": "7ca445f0-010f-48c8-9ab4-cf1e84ccdd9d",
   "metadata": {},
   "outputs": [
    {
     "name": "stdout",
     "output_type": "stream",
     "text": [
      "[[1 2 3]\n",
      " [4 5 6]\n",
      " [7 8 9]]\n"
     ]
    }
   ],
   "source": [
    "ar=np.array([[1,2,3],\n",
    "            [4,5,6],\n",
    "            [7,8,9]])\n",
    "print(ar)"
   ]
  },
  {
   "cell_type": "code",
   "execution_count": 12,
   "id": "c0a4e71c-87c4-469a-a916-7c5db42d7767",
   "metadata": {},
   "outputs": [
    {
     "name": "stdout",
     "output_type": "stream",
     "text": [
      "[[5 6]\n",
      " [8 9]]\n"
     ]
    }
   ],
   "source": [
    "print(ar[1: , 1:])"
   ]
  },
  {
   "cell_type": "code",
   "execution_count": 13,
   "id": "e03e9a3b-d23f-47f0-a9dd-bf8d9a9b9ea7",
   "metadata": {},
   "outputs": [
    {
     "name": "stdout",
     "output_type": "stream",
     "text": [
      "[[7 8 9]]\n"
     ]
    }
   ],
   "source": [
    "print(ar[2: , : ])"
   ]
  },
  {
   "cell_type": "code",
   "execution_count": 14,
   "id": "c390990a-ea18-470a-92b0-a1db4f8c3c60",
   "metadata": {},
   "outputs": [
    {
     "name": "stdout",
     "output_type": "stream",
     "text": [
      "6\n"
     ]
    }
   ],
   "source": [
    "print(ar[1,2])"
   ]
  },
  {
   "cell_type": "code",
   "execution_count": 15,
   "id": "66524f91-21f2-4547-a9a4-1727b30e0d5d",
   "metadata": {},
   "outputs": [
    {
     "name": "stdout",
     "output_type": "stream",
     "text": [
      "9\n"
     ]
    }
   ],
   "source": [
    "print(ar[2,2])"
   ]
  },
  {
   "cell_type": "code",
   "execution_count": 16,
   "id": "e28fab25-dcb5-48db-a571-a3c9a2db9d02",
   "metadata": {},
   "outputs": [
    {
     "name": "stdout",
     "output_type": "stream",
     "text": [
      "5\n"
     ]
    }
   ],
   "source": [
    "print(a[4])"
   ]
  },
  {
   "cell_type": "code",
   "execution_count": 17,
   "id": "f061b840-47dd-4d0b-97ef-c54871462e30",
   "metadata": {},
   "outputs": [
    {
     "name": "stdout",
     "output_type": "stream",
     "text": [
      "2\n"
     ]
    }
   ],
   "source": [
    "print(ar.ndim)"
   ]
  },
  {
   "cell_type": "code",
   "execution_count": 18,
   "id": "f4dc1694-e1a4-430f-bda2-ad4aa46bed5f",
   "metadata": {},
   "outputs": [
    {
     "name": "stdout",
     "output_type": "stream",
     "text": [
      "(3, 3)\n"
     ]
    }
   ],
   "source": [
    "print(ar.shape)"
   ]
  },
  {
   "cell_type": "code",
   "execution_count": 19,
   "id": "4883ccb7-f4e2-41e6-b760-34c66b7190f9",
   "metadata": {},
   "outputs": [
    {
     "name": "stdout",
     "output_type": "stream",
     "text": [
      "9\n"
     ]
    }
   ],
   "source": [
    "print(ar.size)"
   ]
  },
  {
   "cell_type": "code",
   "execution_count": 20,
   "id": "e16e3194-417c-4d49-8cb5-e2f5bc0ea0f1",
   "metadata": {},
   "outputs": [
    {
     "name": "stdout",
     "output_type": "stream",
     "text": [
      "<class 'numpy.ndarray'>\n"
     ]
    }
   ],
   "source": [
    "print(type(ar))"
   ]
  },
  {
   "cell_type": "code",
   "execution_count": 21,
   "id": "fe2e99e8-cbd2-4600-a101-7bf52391844f",
   "metadata": {},
   "outputs": [
    {
     "name": "stdout",
     "output_type": "stream",
     "text": [
      "8\n"
     ]
    }
   ],
   "source": [
    "print(a.size)"
   ]
  },
  {
   "cell_type": "code",
   "execution_count": 22,
   "id": "88a6615f-a5af-4e15-9235-f886aa0e6b7a",
   "metadata": {},
   "outputs": [
    {
     "name": "stdout",
     "output_type": "stream",
     "text": [
      "(8,)\n"
     ]
    }
   ],
   "source": [
    "print(a.shape)"
   ]
  },
  {
   "cell_type": "code",
   "execution_count": null,
   "id": "47a60067-ff88-43bd-a519-eeec52993ba6",
   "metadata": {},
   "outputs": [],
   "source": []
  }
 ],
 "metadata": {
  "kernelspec": {
   "display_name": "Python 3 (ipykernel)",
   "language": "python",
   "name": "python3"
  },
  "language_info": {
   "codemirror_mode": {
    "name": "ipython",
    "version": 3
   },
   "file_extension": ".py",
   "mimetype": "text/x-python",
   "name": "python",
   "nbconvert_exporter": "python",
   "pygments_lexer": "ipython3",
   "version": "3.13.0"
  }
 },
 "nbformat": 4,
 "nbformat_minor": 5
}
