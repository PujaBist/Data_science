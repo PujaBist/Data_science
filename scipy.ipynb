{
 "cells": [
  {
   "cell_type": "code",
   "execution_count": null,
   "id": "40b0f54f-062b-46ce-bcb3-7e1a3733e777",
   "metadata": {},
   "outputs": [],
   "source": [
    "H0: Coin is fair (p_head =0.5)\n",
    "H1: Coin is unfair (p_head < 0.5)"
   ]
  },
  {
   "cell_type": "code",
   "execution_count": null,
   "id": "c854f023-3adc-4e04-a24a-2a4460691b6f",
   "metadata": {},
   "outputs": [],
   "source": [
    "scipy( used for statics, scientific and techanical computing)"
   ]
  },
  {
   "cell_type": "code",
   "execution_count": 6,
   "id": "173ae335-4ce6-4f57-a3c4-0842892897b1",
   "metadata": {},
   "outputs": [],
   "source": [
    "n=10\n",
    "p_head=0.5\n",
    "ob_head=2\n",
    "alpha=0.05\n",
    "# pvalue < alpha, reject H0\n",
    "#pvalue= p (head<= 2)\n"
   ]
  },
  {
   "cell_type": "code",
   "execution_count": 1,
   "id": "630a64a7-3711-4f8f-ad10-15100c97421d",
   "metadata": {},
   "outputs": [
    {
     "name": "stdout",
     "output_type": "stream",
     "text": [
      "Requirement already satisfied: scipy in c:\\users\\admin\\anaconda3\\lib\\site-packages (1.13.1)\n",
      "Requirement already satisfied: numpy<2.3,>=1.22.4 in c:\\users\\admin\\anaconda3\\lib\\site-packages (from scipy) (1.26.4)\n",
      "Note: you may need to restart the kernel to use updated packages.\n"
     ]
    }
   ],
   "source": [
    "pip install scipy"
   ]
  },
  {
   "cell_type": "code",
   "execution_count": 1,
   "id": "9a2ab188-0ffb-4860-8253-5e34e974b737",
   "metadata": {},
   "outputs": [],
   "source": [
    "from scipy.stats import binom"
   ]
  },
  {
   "cell_type": "code",
   "execution_count": 7,
   "id": "9943636b-cdd9-49ac-9afc-e5c04a5bfe90",
   "metadata": {},
   "outputs": [],
   "source": [
    "# x(observed) ,n, prob of p \n",
    "pvalue=binom.cdf(ob_head, n, p_head)"
   ]
  },
  {
   "cell_type": "code",
   "execution_count": 8,
   "id": "f1ff7f81-48f4-4de9-a7d8-fc343e083be8",
   "metadata": {},
   "outputs": [
    {
     "data": {
      "text/plain": [
       "0.0546875"
      ]
     },
     "execution_count": 8,
     "metadata": {},
     "output_type": "execute_result"
    }
   ],
   "source": [
    "pvalue # prob of atmost of 2 head"
   ]
  },
  {
   "cell_type": "code",
   "execution_count": 9,
   "id": "81c7e112-a8ee-44e5-9dd2-c2e46b8a767c",
   "metadata": {},
   "outputs": [
    {
     "name": "stdout",
     "output_type": "stream",
     "text": [
      "Do not rejct H0\n"
     ]
    }
   ],
   "source": [
    "if pvalue < alpha :\n",
    "    print('Reject H0')\n",
    "else :\n",
    "    print('Do not rejct H0')"
   ]
  },
  {
   "cell_type": "code",
   "execution_count": null,
   "id": "e5d45a4e-f4e8-4815-b72c-f66ad19a8c7f",
   "metadata": {},
   "outputs": [],
   "source": [
    "scipy.stats : Statiscal analaysis\n",
    "scipy.optimze : minimizing, root finding, curve fitting\n",
    "scipy.integrate : for integration\n",
    "scipy.linlag : for sloving linear algebra"
   ]
  }
 ],
 "metadata": {
  "kernelspec": {
   "display_name": "Python 3 (ipykernel)",
   "language": "python",
   "name": "python3"
  },
  "language_info": {
   "codemirror_mode": {
    "name": "ipython",
    "version": 3
   },
   "file_extension": ".py",
   "mimetype": "text/x-python",
   "name": "python",
   "nbconvert_exporter": "python",
   "pygments_lexer": "ipython3",
   "version": "3.12.7"
  }
 },
 "nbformat": 4,
 "nbformat_minor": 5
}
