{
 "cells": [
  {
   "cell_type": "markdown",
   "id": "54b883e8-8e1b-4eea-b0b7-73286635efdc",
   "metadata": {},
   "source": [
    "# Pandas"
   ]
  },
  {
   "cell_type": "code",
   "execution_count": 1,
   "id": "1497a59c-bbc6-4d9e-9ec2-e2dcc4f3aaf8",
   "metadata": {},
   "outputs": [],
   "source": [
    "#\"Python Data Analysis Library\""
   ]
  },
  {
   "cell_type": "code",
   "execution_count": null,
   "id": "d2b53480-b227-4ddd-bd4e-269d57317c7d",
   "metadata": {},
   "outputs": [],
   "source": [
    "there are 2 types of data sturcture \n",
    "they are \n",
    "1) series\n",
    "2) DataFrame"
   ]
  },
  {
   "cell_type": "code",
   "execution_count": 2,
   "id": "cef4ef81-eaed-488a-b3b8-34008f1f50da",
   "metadata": {},
   "outputs": [
    {
     "name": "stdout",
     "output_type": "stream",
     "text": [
      "Requirement already satisfied: pandas in c:\\users\\admin\\appdata\\local\\programs\\python\\python313\\lib\\site-packages (2.2.3)\n",
      "Requirement already satisfied: numpy>=1.26.0 in c:\\users\\admin\\appdata\\local\\programs\\python\\python313\\lib\\site-packages (from pandas) (2.2.5)\n",
      "Requirement already satisfied: python-dateutil>=2.8.2 in c:\\users\\admin\\appdata\\local\\programs\\python\\python313\\lib\\site-packages (from pandas) (2.9.0.post0)\n",
      "Requirement already satisfied: pytz>=2020.1 in c:\\users\\admin\\appdata\\local\\programs\\python\\python313\\lib\\site-packages (from pandas) (2025.2)\n",
      "Requirement already satisfied: tzdata>=2022.7 in c:\\users\\admin\\appdata\\local\\programs\\python\\python313\\lib\\site-packages (from pandas) (2025.2)\n",
      "Requirement already satisfied: six>=1.5 in c:\\users\\admin\\appdata\\local\\programs\\python\\python313\\lib\\site-packages (from python-dateutil>=2.8.2->pandas) (1.17.0)\n",
      "Note: you may need to restart the kernel to use updated packages.\n"
     ]
    }
   ],
   "source": [
    "pip install pandas"
   ]
  },
  {
   "cell_type": "code",
   "execution_count": 2,
   "id": "77116914-9b68-4e81-836d-78409f698ab7",
   "metadata": {},
   "outputs": [],
   "source": [
    "import pandas as pd"
   ]
  },
  {
   "cell_type": "code",
   "execution_count": 7,
   "id": "80eab10c-6ace-4d8a-bc25-927309c240d2",
   "metadata": {},
   "outputs": [
    {
     "name": "stdout",
     "output_type": "stream",
     "text": [
      "a    1\n",
      "b    2\n",
      "c    3\n",
      "d    4\n",
      "e    5\n",
      "dtype: int64\n"
     ]
    }
   ],
   "source": [
    "#Series \n",
    "x=pd.Series([1,2,3,4,5],index=['a','b','c','d','e'])\n",
    "print(x)"
   ]
  },
  {
   "cell_type": "code",
   "execution_count": 21,
   "id": "a3344666-181f-44c1-8841-9d44a7ea02cf",
   "metadata": {},
   "outputs": [
    {
     "name": "stdout",
     "output_type": "stream",
     "text": [
      "0    1\n",
      "1    2\n",
      "2    3\n",
      "3    4\n",
      "4    5\n",
      "dtype: int64\n"
     ]
    }
   ],
   "source": [
    "#Series \n",
    "x=pd.Series([1,2,3,4,5],index=range(0,5))\n",
    "print(x)"
   ]
  },
  {
   "cell_type": "code",
   "execution_count": 6,
   "id": "8e88a607-8c2d-4c0c-a9d4-b7a7d2aae52d",
   "metadata": {},
   "outputs": [
    {
     "data": {
      "text/plain": [
       "np.int64(2)"
      ]
     },
     "execution_count": 6,
     "metadata": {},
     "output_type": "execute_result"
    }
   ],
   "source": [
    ".loc()\n",
    ".iloc()"
   ]
  },
  {
   "cell_type": "code",
   "execution_count": 4,
   "id": "385f4efd-f466-4625-b4e3-a85ea49f6f93",
   "metadata": {},
   "outputs": [
    {
     "name": "stdout",
     "output_type": "stream",
     "text": [
      "Math    10\n",
      "Sci     20\n",
      "Eng     30\n",
      "dtype: int64\n"
     ]
    }
   ],
   "source": [
    "s = pd.Series([10, 20, 30], index=['Math', 'Sci', 'Eng'])\n",
    "print(s)"
   ]
  },
  {
   "cell_type": "code",
   "execution_count": 7,
   "id": "527d1b42-5f4a-4809-922d-bfa9ecd71b15",
   "metadata": {},
   "outputs": [
    {
     "name": "stdout",
     "output_type": "stream",
     "text": [
      "Math       95\n",
      "Science    88\n",
      "English    92\n",
      "dtype: int64\n"
     ]
    }
   ],
   "source": [
    "x=pd.Series([95,88,92],index=['Math','Science','English'])\n",
    "print(x)"
   ]
  },
  {
   "cell_type": "code",
   "execution_count": 9,
   "id": "2db616d8-abde-4342-8c1f-b295b95e2e0b",
   "metadata": {},
   "outputs": [
    {
     "name": "stdout",
     "output_type": "stream",
     "text": [
      "88\n"
     ]
    }
   ],
   "source": [
    "print(x['Science'])"
   ]
  },
  {
   "cell_type": "code",
   "execution_count": 13,
   "id": "ea2e0c1f-8b65-4d75-be9d-c72278b627e0",
   "metadata": {},
   "outputs": [
    {
     "name": "stdout",
     "output_type": "stream",
     "text": [
      "Math       95\n",
      "Science    88\n",
      "English    94\n",
      "dtype: int64\n"
     ]
    }
   ],
   "source": [
    "x['English']=94\n",
    "print(x)"
   ]
  },
  {
   "cell_type": "code",
   "execution_count": 18,
   "id": "981bc7e0-2553-4c6a-bb1c-1665e653e5e3",
   "metadata": {},
   "outputs": [
    {
     "name": "stdout",
     "output_type": "stream",
     "text": [
      "Math        95\n",
      "Science     88\n",
      "English     94\n",
      "Computer    90\n",
      "dtype: int64\n"
     ]
    }
   ],
   "source": [
    "x['Computer']=90\n",
    "print(x)"
   ]
  },
  {
   "cell_type": "code",
   "execution_count": null,
   "id": "d860afc4-2e23-4029-8c3a-1c59deca56ba",
   "metadata": {},
   "outputs": [],
   "source": []
  },
  {
   "cell_type": "code",
   "execution_count": 25,
   "id": "1eb7d154-5f01-48c2-9586-ff58e764dc2e",
   "metadata": {},
   "outputs": [
    {
     "name": "stdout",
     "output_type": "stream",
     "text": [
      "   Name  Age  Marks\n",
      "0  Puja   21     92\n",
      "1  Riya   22     89\n",
      "2  Amit   23     85\n"
     ]
    }
   ],
   "source": [
    "data={\n",
    "    'Name':['Puja','Riya','Amit'],\n",
    "    'Age':[21,22,23],\n",
    "    'Marks':[92,89,85]}\n",
    "\n",
    "x=pd.DataFrame(data)\n",
    "print(x)"
   ]
  },
  {
   "cell_type": "code",
   "execution_count": 28,
   "id": "2070078d-36fd-4c0e-9930-a1c579eb41a8",
   "metadata": {},
   "outputs": [
    {
     "name": "stdout",
     "output_type": "stream",
     "text": [
      "0    21\n",
      "1    22\n",
      "2    23\n",
      "Name: Age, dtype: int64\n"
     ]
    }
   ],
   "source": [
    "print(x['Age'])"
   ]
  },
  {
   "cell_type": "code",
   "execution_count": 32,
   "id": "851dcf22-50fb-46ef-b019-d3aba6d1b52f",
   "metadata": {},
   "outputs": [
    {
     "name": "stdout",
     "output_type": "stream",
     "text": [
      "Name     Puja\n",
      "Age        21\n",
      "Marks      92\n",
      "Name: 0, dtype: object\n"
     ]
    }
   ],
   "source": [
    "print(x.loc[0])"
   ]
  },
  {
   "cell_type": "code",
   "execution_count": 35,
   "id": "4498a587-665c-41fb-b379-90a4c4e28796",
   "metadata": {},
   "outputs": [
    {
     "name": "stdout",
     "output_type": "stream",
     "text": [
      "0    92\n",
      "1    89\n",
      "2    85\n",
      "Name: Marks, dtype: int64\n"
     ]
    }
   ],
   "source": [
    "print(x.loc[:,'Marks'])"
   ]
  },
  {
   "cell_type": "code",
   "execution_count": 38,
   "id": "93f01717-a7c0-4184-aade-655df64f463f",
   "metadata": {},
   "outputs": [
    {
     "name": "stdout",
     "output_type": "stream",
     "text": [
      "Name    Riya\n",
      "Age       22\n",
      "Name: 1, dtype: object\n"
     ]
    }
   ],
   "source": [
    "print(x.loc[1,['Name','Age']])"
   ]
  },
  {
   "cell_type": "code",
   "execution_count": 44,
   "id": "75e2877b-641a-4d5f-b294-6bdfd9852cbe",
   "metadata": {},
   "outputs": [
    {
     "name": "stdout",
     "output_type": "stream",
     "text": [
      "   Name  Age  Marks\n",
      "0  Puja   21     92\n"
     ]
    }
   ],
   "source": [
    "print(x.loc[x[ 'Name']== 'Puja'])"
   ]
  },
  {
   "cell_type": "code",
   "execution_count": 45,
   "id": "243729b9-379e-4f69-a831-1ef3e036f16d",
   "metadata": {},
   "outputs": [
    {
     "name": "stdout",
     "output_type": "stream",
     "text": [
      "Name     Puja\n",
      "Age        21\n",
      "Marks      92\n",
      "Name: 0, dtype: object\n"
     ]
    }
   ],
   "source": [
    "print(x.loc[0])"
   ]
  },
  {
   "cell_type": "code",
   "execution_count": 51,
   "id": "6f346ea8-62ab-407c-be5b-21fdc4180c6e",
   "metadata": {},
   "outputs": [
    {
     "name": "stdout",
     "output_type": "stream",
     "text": [
      "22\n"
     ]
    }
   ],
   "source": [
    "print(x.loc[1 ,'Age'])"
   ]
  },
  {
   "cell_type": "code",
   "execution_count": 56,
   "id": "4cea506d-fad4-41bc-b804-8a34a1c001f8",
   "metadata": {},
   "outputs": [
    {
     "name": "stdout",
     "output_type": "stream",
     "text": [
      "Name     Amit\n",
      "Marks      85\n",
      "Name: 2, dtype: object\n"
     ]
    }
   ],
   "source": [
    "print(x.loc[2,['Name','Marks']])"
   ]
  },
  {
   "cell_type": "code",
   "execution_count": 64,
   "id": "5e6c7054-6289-4f8b-b8e4-4149c1439e4f",
   "metadata": {},
   "outputs": [
    {
     "name": "stdout",
     "output_type": "stream",
     "text": [
      "0    92\n",
      "1    89\n",
      "2    85\n",
      "Name: Marks, dtype: int64\n"
     ]
    }
   ],
   "source": [
    "print(x.loc[:,'Marks'])"
   ]
  },
  {
   "cell_type": "code",
   "execution_count": 72,
   "id": "2f9dbf71-caec-418b-a804-9f086e6ce524",
   "metadata": {},
   "outputs": [
    {
     "name": "stdout",
     "output_type": "stream",
     "text": [
      "   Name  Age  Marks\n",
      "0  Puja   21     92\n"
     ]
    }
   ],
   "source": [
    "print(x.loc[ x[ 'Name']=='Puja'])"
   ]
  },
  {
   "cell_type": "code",
   "execution_count": null,
   "id": "94144979-0311-4000-a00e-9fe0c1e0f44f",
   "metadata": {},
   "outputs": [],
   "source": []
  },
  {
   "cell_type": "code",
   "execution_count": 3,
   "id": "5b4c9e34-1a35-4d9f-8417-fc466278c7fa",
   "metadata": {},
   "outputs": [
    {
     "name": "stdout",
     "output_type": "stream",
     "text": [
      "a    5\n",
      "b    6\n",
      "c    7\n",
      "d    8\n",
      "e    9\n",
      "dtype: int64\n"
     ]
    }
   ],
   "source": [
    "# series \n",
    "x=pd.Series([5,6,7,8,9],index=['a','b','c','d','e'])\n",
    "print(x)"
   ]
  },
  {
   "cell_type": "code",
   "execution_count": 5,
   "id": "2f79a4ec-707e-4e4c-a535-91cf5a1f576d",
   "metadata": {},
   "outputs": [
    {
     "name": "stdout",
     "output_type": "stream",
     "text": [
      "5\n"
     ]
    }
   ],
   "source": [
    "print(x['a'])"
   ]
  },
  {
   "cell_type": "code",
   "execution_count": 7,
   "id": "b7fc08de-6b0b-41d2-978c-57b1af1073cc",
   "metadata": {},
   "outputs": [
    {
     "name": "stdout",
     "output_type": "stream",
     "text": [
      "a    5\n",
      "b    6\n",
      "c    7\n",
      "d    8\n",
      "dtype: int64\n"
     ]
    }
   ],
   "source": [
    "print(x['a':'d'])"
   ]
  },
  {
   "cell_type": "code",
   "execution_count": 8,
   "id": "231cca18-ee6f-465e-966b-d7a402541781",
   "metadata": {},
   "outputs": [
    {
     "name": "stdout",
     "output_type": "stream",
     "text": [
      "0    5\n",
      "1    6\n",
      "2    7\n",
      "3    8\n",
      "4    9\n",
      "dtype: int64\n"
     ]
    }
   ],
   "source": [
    "# series \n",
    "x=pd.Series([5,6,7,8,9])\n",
    "print(x)"
   ]
  },
  {
   "cell_type": "code",
   "execution_count": 10,
   "id": "fbaf3da6-38c2-446f-8e53-b52e83b20cee",
   "metadata": {},
   "outputs": [
    {
     "data": {
      "text/plain": [
       "np.int64(6)"
      ]
     },
     "execution_count": 10,
     "metadata": {},
     "output_type": "execute_result"
    }
   ],
   "source": [
    "x.loc[1]"
   ]
  },
  {
   "cell_type": "code",
   "execution_count": 11,
   "id": "ad407162-9c03-4d62-895a-fba78cb33643",
   "metadata": {},
   "outputs": [
    {
     "name": "stdout",
     "output_type": "stream",
     "text": [
      "a    5\n",
      "b    6\n",
      "c    7\n",
      "d    8\n",
      "e    9\n",
      "dtype: int64\n"
     ]
    }
   ],
   "source": [
    "# series \n",
    "x=pd.Series([5,6,7,8,9],index=['a','b','c','d','e'])\n",
    "print(x)"
   ]
  },
  {
   "cell_type": "code",
   "execution_count": 12,
   "id": "cb314aef-3a1d-4446-b436-a1b9bbaafb73",
   "metadata": {},
   "outputs": [
    {
     "data": {
      "text/plain": [
       "np.int64(6)"
      ]
     },
     "execution_count": 12,
     "metadata": {},
     "output_type": "execute_result"
    }
   ],
   "source": [
    "x.loc['b']"
   ]
  },
  {
   "cell_type": "code",
   "execution_count": null,
   "id": "d822da12-170a-4668-8d65-fb2dd3fedb46",
   "metadata": {},
   "outputs": [],
   "source": [
    ".loc=> explicit lock\n",
    "to get access through only index\n",
    "\n"
   ]
  },
  {
   "cell_type": "code",
   "execution_count": null,
   "id": "1db9d97f-855d-42d3-808e-497fa4b87692",
   "metadata": {},
   "outputs": [],
   "source": [
    ".iloc => implicit lock\n",
    "yo le 2 ota lock rakh xh\n",
    "auta chai user le deko and next chai by default 0,1,...."
   ]
  },
  {
   "cell_type": "code",
   "execution_count": null,
   "id": "fe125294-cb08-4f7d-a46b-d6a626a9900f",
   "metadata": {},
   "outputs": [],
   "source": [
    "# DataFrame\n",
    "to handle tabular data\n",
    "#dictionary"
   ]
  },
  {
   "cell_type": "code",
   "execution_count": 15,
   "id": "a7634cc9-a628-48e3-96dc-b4f9746355fd",
   "metadata": {},
   "outputs": [
    {
     "name": "stdout",
     "output_type": "stream",
     "text": [
      "   roll   name faculty\n",
      "0     4   puja      DS\n",
      "1     5   kabi      BE\n",
      "2     9  manju   civil\n"
     ]
    }
   ],
   "source": [
    "dis={\n",
    "    'roll':[4,5,9],\n",
    "    'name':['puja', 'kabi','manju'],\n",
    "    'faculty':['DS','BE','civil']\n",
    "}\n",
    "# key ma multiple  value rakh ko lagi list use hunch\n",
    "df=pd.DataFrame(dis)\n",
    "print(df)"
   ]
  },
  {
   "cell_type": "code",
   "execution_count": 16,
   "id": "eecbb9fd-c4f7-4816-ae7f-6920c3acee0e",
   "metadata": {},
   "outputs": [
    {
     "data": {
      "text/plain": [
       "pandas.core.frame.DataFrame"
      ]
     },
     "execution_count": 16,
     "metadata": {},
     "output_type": "execute_result"
    }
   ],
   "source": [
    "type(df) =>for checking type"
   ]
  },
  {
   "cell_type": "markdown",
   "id": "de51d4e2-eeda-473e-80fc-11ec9e2d996d",
   "metadata": {},
   "source": [
    "#dataFrame\n",
    "Atributes\n",
    "-.shape\n",
    "-.columns\n",
    "\n"
   ]
  },
  {
   "cell_type": "code",
   "execution_count": 17,
   "id": "41f8d302-dd40-4861-9555-2b63920bd9f1",
   "metadata": {},
   "outputs": [
    {
     "data": {
      "text/plain": [
       "(3, 3)"
      ]
     },
     "execution_count": 17,
     "metadata": {},
     "output_type": "execute_result"
    }
   ],
   "source": [
    "df.shape => to find no of rows and columns"
   ]
  },
  {
   "cell_type": "code",
   "execution_count": 18,
   "id": "7867f434-25a1-42c3-9652-75e23ebbd98f",
   "metadata": {},
   "outputs": [
    {
     "data": {
      "text/plain": [
       "Index(['roll', 'name', 'faculty'], dtype='object')"
      ]
     },
     "execution_count": 18,
     "metadata": {},
     "output_type": "execute_result"
    }
   ],
   "source": [
    "df.columns"
   ]
  },
  {
   "cell_type": "code",
   "execution_count": null,
   "id": "16091242-c86d-4f27-b30e-29354938e731",
   "metadata": {},
   "outputs": [],
   "source": [
    "#DataFrame\n",
    "Functions\n",
    "=>head()\n",
    "=>tail()\n",
    "=>sample()\n",
    "=>shapes =>no of rows and cols\n",
    "shapes[0]=>no of rows\n",
    "shapes[1]=> no of cols"
   ]
  },
  {
   "cell_type": "code",
   "execution_count": 20,
   "id": "723cffe4-e363-474c-81b4-4beacefbd148",
   "metadata": {},
   "outputs": [],
   "source": [
    "data=pd.read_csv('Salary_Data.csv') # for reading csv file use read_csv with location and name if it lies in different floder else only name"
   ]
  },
  {
   "cell_type": "code",
   "execution_count": 21,
   "id": "e7db4e4b-da79-4997-be7f-1c48c93ae828",
   "metadata": {},
   "outputs": [
    {
     "name": "stdout",
     "output_type": "stream",
     "text": [
      "       Age  Gender    Education Level              Job Title  \\\n",
      "0     32.0    Male         Bachelor's      Software Engineer   \n",
      "1     28.0  Female           Master's           Data Analyst   \n",
      "2     45.0    Male                PhD         Senior Manager   \n",
      "3     36.0  Female         Bachelor's        Sales Associate   \n",
      "4     52.0    Male           Master's               Director   \n",
      "...    ...     ...                ...                    ...   \n",
      "6699  49.0  Female                PhD  Director of Marketing   \n",
      "6700  32.0    Male        High School        Sales Associate   \n",
      "6701  30.0  Female  Bachelor's Degree      Financial Manager   \n",
      "6702  46.0    Male    Master's Degree      Marketing Manager   \n",
      "6703  26.0  Female        High School        Sales Executive   \n",
      "\n",
      "      Years of Experience    Salary  \n",
      "0                     5.0   90000.0  \n",
      "1                     3.0   65000.0  \n",
      "2                    15.0  150000.0  \n",
      "3                     7.0   60000.0  \n",
      "4                    20.0  200000.0  \n",
      "...                   ...       ...  \n",
      "6699                 20.0  200000.0  \n",
      "6700                  3.0   50000.0  \n",
      "6701                  4.0   55000.0  \n",
      "6702                 14.0  140000.0  \n",
      "6703                  1.0   35000.0  \n",
      "\n",
      "[6704 rows x 6 columns]\n"
     ]
    }
   ],
   "source": [
    "print(data)"
   ]
  },
  {
   "cell_type": "code",
   "execution_count": 22,
   "id": "dc3ca609-3015-43ea-b9a5-1709ed30ebcc",
   "metadata": {},
   "outputs": [],
   "source": [
    "#DataFrame -attributes,functions\n",
    "attributues"
   ]
  },
  {
   "cell_type": "code",
   "execution_count": 24,
   "id": "5529f788-790e-499d-86d9-2f9e6ea576b0",
   "metadata": {},
   "outputs": [
    {
     "data": {
      "text/html": [
       "<div>\n",
       "<style scoped>\n",
       "    .dataframe tbody tr th:only-of-type {\n",
       "        vertical-align: middle;\n",
       "    }\n",
       "\n",
       "    .dataframe tbody tr th {\n",
       "        vertical-align: top;\n",
       "    }\n",
       "\n",
       "    .dataframe thead th {\n",
       "        text-align: right;\n",
       "    }\n",
       "</style>\n",
       "<table border=\"1\" class=\"dataframe\">\n",
       "  <thead>\n",
       "    <tr style=\"text-align: right;\">\n",
       "      <th></th>\n",
       "      <th>Age</th>\n",
       "      <th>Gender</th>\n",
       "      <th>Education Level</th>\n",
       "      <th>Job Title</th>\n",
       "      <th>Years of Experience</th>\n",
       "      <th>Salary</th>\n",
       "    </tr>\n",
       "  </thead>\n",
       "  <tbody>\n",
       "    <tr>\n",
       "      <th>0</th>\n",
       "      <td>32.0</td>\n",
       "      <td>Male</td>\n",
       "      <td>Bachelor's</td>\n",
       "      <td>Software Engineer</td>\n",
       "      <td>5.0</td>\n",
       "      <td>90000.0</td>\n",
       "    </tr>\n",
       "    <tr>\n",
       "      <th>1</th>\n",
       "      <td>28.0</td>\n",
       "      <td>Female</td>\n",
       "      <td>Master's</td>\n",
       "      <td>Data Analyst</td>\n",
       "      <td>3.0</td>\n",
       "      <td>65000.0</td>\n",
       "    </tr>\n",
       "    <tr>\n",
       "      <th>2</th>\n",
       "      <td>45.0</td>\n",
       "      <td>Male</td>\n",
       "      <td>PhD</td>\n",
       "      <td>Senior Manager</td>\n",
       "      <td>15.0</td>\n",
       "      <td>150000.0</td>\n",
       "    </tr>\n",
       "    <tr>\n",
       "      <th>3</th>\n",
       "      <td>36.0</td>\n",
       "      <td>Female</td>\n",
       "      <td>Bachelor's</td>\n",
       "      <td>Sales Associate</td>\n",
       "      <td>7.0</td>\n",
       "      <td>60000.0</td>\n",
       "    </tr>\n",
       "    <tr>\n",
       "      <th>4</th>\n",
       "      <td>52.0</td>\n",
       "      <td>Male</td>\n",
       "      <td>Master's</td>\n",
       "      <td>Director</td>\n",
       "      <td>20.0</td>\n",
       "      <td>200000.0</td>\n",
       "    </tr>\n",
       "  </tbody>\n",
       "</table>\n",
       "</div>"
      ],
      "text/plain": [
       "    Age  Gender Education Level          Job Title  Years of Experience  \\\n",
       "0  32.0    Male      Bachelor's  Software Engineer                  5.0   \n",
       "1  28.0  Female        Master's       Data Analyst                  3.0   \n",
       "2  45.0    Male             PhD     Senior Manager                 15.0   \n",
       "3  36.0  Female      Bachelor's    Sales Associate                  7.0   \n",
       "4  52.0    Male        Master's           Director                 20.0   \n",
       "\n",
       "     Salary  \n",
       "0   90000.0  \n",
       "1   65000.0  \n",
       "2  150000.0  \n",
       "3   60000.0  \n",
       "4  200000.0  "
      ]
     },
     "execution_count": 24,
     "metadata": {},
     "output_type": "execute_result"
    }
   ],
   "source": [
    "data.head() # =>it gives top 5 rows\n",
    "#by default top 5"
   ]
  },
  {
   "cell_type": "code",
   "execution_count": 25,
   "id": "bfbd1532-ecd5-4ade-859c-76f7252e0a7c",
   "metadata": {},
   "outputs": [
    {
     "data": {
      "text/html": [
       "<div>\n",
       "<style scoped>\n",
       "    .dataframe tbody tr th:only-of-type {\n",
       "        vertical-align: middle;\n",
       "    }\n",
       "\n",
       "    .dataframe tbody tr th {\n",
       "        vertical-align: top;\n",
       "    }\n",
       "\n",
       "    .dataframe thead th {\n",
       "        text-align: right;\n",
       "    }\n",
       "</style>\n",
       "<table border=\"1\" class=\"dataframe\">\n",
       "  <thead>\n",
       "    <tr style=\"text-align: right;\">\n",
       "      <th></th>\n",
       "      <th>Age</th>\n",
       "      <th>Gender</th>\n",
       "      <th>Education Level</th>\n",
       "      <th>Job Title</th>\n",
       "      <th>Years of Experience</th>\n",
       "      <th>Salary</th>\n",
       "    </tr>\n",
       "  </thead>\n",
       "  <tbody>\n",
       "    <tr>\n",
       "      <th>0</th>\n",
       "      <td>32.0</td>\n",
       "      <td>Male</td>\n",
       "      <td>Bachelor's</td>\n",
       "      <td>Software Engineer</td>\n",
       "      <td>5.0</td>\n",
       "      <td>90000.0</td>\n",
       "    </tr>\n",
       "    <tr>\n",
       "      <th>1</th>\n",
       "      <td>28.0</td>\n",
       "      <td>Female</td>\n",
       "      <td>Master's</td>\n",
       "      <td>Data Analyst</td>\n",
       "      <td>3.0</td>\n",
       "      <td>65000.0</td>\n",
       "    </tr>\n",
       "    <tr>\n",
       "      <th>2</th>\n",
       "      <td>45.0</td>\n",
       "      <td>Male</td>\n",
       "      <td>PhD</td>\n",
       "      <td>Senior Manager</td>\n",
       "      <td>15.0</td>\n",
       "      <td>150000.0</td>\n",
       "    </tr>\n",
       "    <tr>\n",
       "      <th>3</th>\n",
       "      <td>36.0</td>\n",
       "      <td>Female</td>\n",
       "      <td>Bachelor's</td>\n",
       "      <td>Sales Associate</td>\n",
       "      <td>7.0</td>\n",
       "      <td>60000.0</td>\n",
       "    </tr>\n",
       "    <tr>\n",
       "      <th>4</th>\n",
       "      <td>52.0</td>\n",
       "      <td>Male</td>\n",
       "      <td>Master's</td>\n",
       "      <td>Director</td>\n",
       "      <td>20.0</td>\n",
       "      <td>200000.0</td>\n",
       "    </tr>\n",
       "    <tr>\n",
       "      <th>5</th>\n",
       "      <td>29.0</td>\n",
       "      <td>Male</td>\n",
       "      <td>Bachelor's</td>\n",
       "      <td>Marketing Analyst</td>\n",
       "      <td>2.0</td>\n",
       "      <td>55000.0</td>\n",
       "    </tr>\n",
       "    <tr>\n",
       "      <th>6</th>\n",
       "      <td>42.0</td>\n",
       "      <td>Female</td>\n",
       "      <td>Master's</td>\n",
       "      <td>Product Manager</td>\n",
       "      <td>12.0</td>\n",
       "      <td>120000.0</td>\n",
       "    </tr>\n",
       "    <tr>\n",
       "      <th>7</th>\n",
       "      <td>31.0</td>\n",
       "      <td>Male</td>\n",
       "      <td>Bachelor's</td>\n",
       "      <td>Sales Manager</td>\n",
       "      <td>4.0</td>\n",
       "      <td>80000.0</td>\n",
       "    </tr>\n",
       "    <tr>\n",
       "      <th>8</th>\n",
       "      <td>26.0</td>\n",
       "      <td>Female</td>\n",
       "      <td>Bachelor's</td>\n",
       "      <td>Marketing Coordinator</td>\n",
       "      <td>1.0</td>\n",
       "      <td>45000.0</td>\n",
       "    </tr>\n",
       "    <tr>\n",
       "      <th>9</th>\n",
       "      <td>38.0</td>\n",
       "      <td>Male</td>\n",
       "      <td>PhD</td>\n",
       "      <td>Senior Scientist</td>\n",
       "      <td>10.0</td>\n",
       "      <td>110000.0</td>\n",
       "    </tr>\n",
       "  </tbody>\n",
       "</table>\n",
       "</div>"
      ],
      "text/plain": [
       "    Age  Gender Education Level              Job Title  Years of Experience  \\\n",
       "0  32.0    Male      Bachelor's      Software Engineer                  5.0   \n",
       "1  28.0  Female        Master's           Data Analyst                  3.0   \n",
       "2  45.0    Male             PhD         Senior Manager                 15.0   \n",
       "3  36.0  Female      Bachelor's        Sales Associate                  7.0   \n",
       "4  52.0    Male        Master's               Director                 20.0   \n",
       "5  29.0    Male      Bachelor's      Marketing Analyst                  2.0   \n",
       "6  42.0  Female        Master's        Product Manager                 12.0   \n",
       "7  31.0    Male      Bachelor's          Sales Manager                  4.0   \n",
       "8  26.0  Female      Bachelor's  Marketing Coordinator                  1.0   \n",
       "9  38.0    Male             PhD       Senior Scientist                 10.0   \n",
       "\n",
       "     Salary  \n",
       "0   90000.0  \n",
       "1   65000.0  \n",
       "2  150000.0  \n",
       "3   60000.0  \n",
       "4  200000.0  \n",
       "5   55000.0  \n",
       "6  120000.0  \n",
       "7   80000.0  \n",
       "8   45000.0  \n",
       "9  110000.0  "
      ]
     },
     "execution_count": 25,
     "metadata": {},
     "output_type": "execute_result"
    }
   ],
   "source": [
    "data.head(10)"
   ]
  },
  {
   "cell_type": "code",
   "execution_count": 26,
   "id": "036e6258-db13-4bfe-8180-9a553f5ed035",
   "metadata": {},
   "outputs": [
    {
     "data": {
      "text/html": [
       "<div>\n",
       "<style scoped>\n",
       "    .dataframe tbody tr th:only-of-type {\n",
       "        vertical-align: middle;\n",
       "    }\n",
       "\n",
       "    .dataframe tbody tr th {\n",
       "        vertical-align: top;\n",
       "    }\n",
       "\n",
       "    .dataframe thead th {\n",
       "        text-align: right;\n",
       "    }\n",
       "</style>\n",
       "<table border=\"1\" class=\"dataframe\">\n",
       "  <thead>\n",
       "    <tr style=\"text-align: right;\">\n",
       "      <th></th>\n",
       "      <th>Age</th>\n",
       "      <th>Gender</th>\n",
       "      <th>Education Level</th>\n",
       "      <th>Job Title</th>\n",
       "      <th>Years of Experience</th>\n",
       "      <th>Salary</th>\n",
       "    </tr>\n",
       "  </thead>\n",
       "  <tbody>\n",
       "    <tr>\n",
       "      <th>6699</th>\n",
       "      <td>49.0</td>\n",
       "      <td>Female</td>\n",
       "      <td>PhD</td>\n",
       "      <td>Director of Marketing</td>\n",
       "      <td>20.0</td>\n",
       "      <td>200000.0</td>\n",
       "    </tr>\n",
       "    <tr>\n",
       "      <th>6700</th>\n",
       "      <td>32.0</td>\n",
       "      <td>Male</td>\n",
       "      <td>High School</td>\n",
       "      <td>Sales Associate</td>\n",
       "      <td>3.0</td>\n",
       "      <td>50000.0</td>\n",
       "    </tr>\n",
       "    <tr>\n",
       "      <th>6701</th>\n",
       "      <td>30.0</td>\n",
       "      <td>Female</td>\n",
       "      <td>Bachelor's Degree</td>\n",
       "      <td>Financial Manager</td>\n",
       "      <td>4.0</td>\n",
       "      <td>55000.0</td>\n",
       "    </tr>\n",
       "    <tr>\n",
       "      <th>6702</th>\n",
       "      <td>46.0</td>\n",
       "      <td>Male</td>\n",
       "      <td>Master's Degree</td>\n",
       "      <td>Marketing Manager</td>\n",
       "      <td>14.0</td>\n",
       "      <td>140000.0</td>\n",
       "    </tr>\n",
       "    <tr>\n",
       "      <th>6703</th>\n",
       "      <td>26.0</td>\n",
       "      <td>Female</td>\n",
       "      <td>High School</td>\n",
       "      <td>Sales Executive</td>\n",
       "      <td>1.0</td>\n",
       "      <td>35000.0</td>\n",
       "    </tr>\n",
       "  </tbody>\n",
       "</table>\n",
       "</div>"
      ],
      "text/plain": [
       "       Age  Gender    Education Level              Job Title  \\\n",
       "6699  49.0  Female                PhD  Director of Marketing   \n",
       "6700  32.0    Male        High School        Sales Associate   \n",
       "6701  30.0  Female  Bachelor's Degree      Financial Manager   \n",
       "6702  46.0    Male    Master's Degree      Marketing Manager   \n",
       "6703  26.0  Female        High School        Sales Executive   \n",
       "\n",
       "      Years of Experience    Salary  \n",
       "6699                 20.0  200000.0  \n",
       "6700                  3.0   50000.0  \n",
       "6701                  4.0   55000.0  \n",
       "6702                 14.0  140000.0  \n",
       "6703                  1.0   35000.0  "
      ]
     },
     "execution_count": 26,
     "metadata": {},
     "output_type": "execute_result"
    }
   ],
   "source": [
    "data.tail() # by default it last 5 rows"
   ]
  },
  {
   "cell_type": "code",
   "execution_count": 27,
   "id": "e545bed9-54d4-43a9-9070-0f37ba1e2218",
   "metadata": {},
   "outputs": [
    {
     "data": {
      "text/html": [
       "<div>\n",
       "<style scoped>\n",
       "    .dataframe tbody tr th:only-of-type {\n",
       "        vertical-align: middle;\n",
       "    }\n",
       "\n",
       "    .dataframe tbody tr th {\n",
       "        vertical-align: top;\n",
       "    }\n",
       "\n",
       "    .dataframe thead th {\n",
       "        text-align: right;\n",
       "    }\n",
       "</style>\n",
       "<table border=\"1\" class=\"dataframe\">\n",
       "  <thead>\n",
       "    <tr style=\"text-align: right;\">\n",
       "      <th></th>\n",
       "      <th>Age</th>\n",
       "      <th>Gender</th>\n",
       "      <th>Education Level</th>\n",
       "      <th>Job Title</th>\n",
       "      <th>Years of Experience</th>\n",
       "      <th>Salary</th>\n",
       "    </tr>\n",
       "  </thead>\n",
       "  <tbody>\n",
       "    <tr>\n",
       "      <th>6694</th>\n",
       "      <td>27.0</td>\n",
       "      <td>Male</td>\n",
       "      <td>High School</td>\n",
       "      <td>Digital Marketing Manager</td>\n",
       "      <td>2.0</td>\n",
       "      <td>40000.0</td>\n",
       "    </tr>\n",
       "    <tr>\n",
       "      <th>6695</th>\n",
       "      <td>33.0</td>\n",
       "      <td>Female</td>\n",
       "      <td>Bachelor's Degree</td>\n",
       "      <td>Content Marketing Manager</td>\n",
       "      <td>7.0</td>\n",
       "      <td>90000.0</td>\n",
       "    </tr>\n",
       "    <tr>\n",
       "      <th>6696</th>\n",
       "      <td>28.0</td>\n",
       "      <td>Male</td>\n",
       "      <td>PhD</td>\n",
       "      <td>Sales Representative</td>\n",
       "      <td>4.0</td>\n",
       "      <td>55000.0</td>\n",
       "    </tr>\n",
       "    <tr>\n",
       "      <th>6697</th>\n",
       "      <td>51.0</td>\n",
       "      <td>Female</td>\n",
       "      <td>Master's Degree</td>\n",
       "      <td>Senior Product Marketing Manager</td>\n",
       "      <td>19.0</td>\n",
       "      <td>190000.0</td>\n",
       "    </tr>\n",
       "    <tr>\n",
       "      <th>6698</th>\n",
       "      <td>37.0</td>\n",
       "      <td>Male</td>\n",
       "      <td>Bachelor's Degree</td>\n",
       "      <td>Junior Sales Representative</td>\n",
       "      <td>6.0</td>\n",
       "      <td>75000.0</td>\n",
       "    </tr>\n",
       "    <tr>\n",
       "      <th>6699</th>\n",
       "      <td>49.0</td>\n",
       "      <td>Female</td>\n",
       "      <td>PhD</td>\n",
       "      <td>Director of Marketing</td>\n",
       "      <td>20.0</td>\n",
       "      <td>200000.0</td>\n",
       "    </tr>\n",
       "    <tr>\n",
       "      <th>6700</th>\n",
       "      <td>32.0</td>\n",
       "      <td>Male</td>\n",
       "      <td>High School</td>\n",
       "      <td>Sales Associate</td>\n",
       "      <td>3.0</td>\n",
       "      <td>50000.0</td>\n",
       "    </tr>\n",
       "    <tr>\n",
       "      <th>6701</th>\n",
       "      <td>30.0</td>\n",
       "      <td>Female</td>\n",
       "      <td>Bachelor's Degree</td>\n",
       "      <td>Financial Manager</td>\n",
       "      <td>4.0</td>\n",
       "      <td>55000.0</td>\n",
       "    </tr>\n",
       "    <tr>\n",
       "      <th>6702</th>\n",
       "      <td>46.0</td>\n",
       "      <td>Male</td>\n",
       "      <td>Master's Degree</td>\n",
       "      <td>Marketing Manager</td>\n",
       "      <td>14.0</td>\n",
       "      <td>140000.0</td>\n",
       "    </tr>\n",
       "    <tr>\n",
       "      <th>6703</th>\n",
       "      <td>26.0</td>\n",
       "      <td>Female</td>\n",
       "      <td>High School</td>\n",
       "      <td>Sales Executive</td>\n",
       "      <td>1.0</td>\n",
       "      <td>35000.0</td>\n",
       "    </tr>\n",
       "  </tbody>\n",
       "</table>\n",
       "</div>"
      ],
      "text/plain": [
       "       Age  Gender    Education Level                         Job Title  \\\n",
       "6694  27.0    Male        High School         Digital Marketing Manager   \n",
       "6695  33.0  Female  Bachelor's Degree         Content Marketing Manager   \n",
       "6696  28.0    Male                PhD              Sales Representative   \n",
       "6697  51.0  Female    Master's Degree  Senior Product Marketing Manager   \n",
       "6698  37.0    Male  Bachelor's Degree       Junior Sales Representative   \n",
       "6699  49.0  Female                PhD             Director of Marketing   \n",
       "6700  32.0    Male        High School                   Sales Associate   \n",
       "6701  30.0  Female  Bachelor's Degree                 Financial Manager   \n",
       "6702  46.0    Male    Master's Degree                 Marketing Manager   \n",
       "6703  26.0  Female        High School                   Sales Executive   \n",
       "\n",
       "      Years of Experience    Salary  \n",
       "6694                  2.0   40000.0  \n",
       "6695                  7.0   90000.0  \n",
       "6696                  4.0   55000.0  \n",
       "6697                 19.0  190000.0  \n",
       "6698                  6.0   75000.0  \n",
       "6699                 20.0  200000.0  \n",
       "6700                  3.0   50000.0  \n",
       "6701                  4.0   55000.0  \n",
       "6702                 14.0  140000.0  \n",
       "6703                  1.0   35000.0  "
      ]
     },
     "execution_count": 27,
     "metadata": {},
     "output_type": "execute_result"
    }
   ],
   "source": [
    "data.tail(10) # it last 10 data"
   ]
  },
  {
   "cell_type": "code",
   "execution_count": 28,
   "id": "c6fb68d7-2ee5-4d8c-a0cf-bfd978f888bf",
   "metadata": {},
   "outputs": [
    {
     "data": {
      "text/html": [
       "<div>\n",
       "<style scoped>\n",
       "    .dataframe tbody tr th:only-of-type {\n",
       "        vertical-align: middle;\n",
       "    }\n",
       "\n",
       "    .dataframe tbody tr th {\n",
       "        vertical-align: top;\n",
       "    }\n",
       "\n",
       "    .dataframe thead th {\n",
       "        text-align: right;\n",
       "    }\n",
       "</style>\n",
       "<table border=\"1\" class=\"dataframe\">\n",
       "  <thead>\n",
       "    <tr style=\"text-align: right;\">\n",
       "      <th></th>\n",
       "      <th>Age</th>\n",
       "      <th>Gender</th>\n",
       "      <th>Education Level</th>\n",
       "      <th>Job Title</th>\n",
       "      <th>Years of Experience</th>\n",
       "      <th>Salary</th>\n",
       "    </tr>\n",
       "  </thead>\n",
       "  <tbody>\n",
       "    <tr>\n",
       "      <th>5070</th>\n",
       "      <td>21.0</td>\n",
       "      <td>Female</td>\n",
       "      <td>High School</td>\n",
       "      <td>Junior Sales Representative</td>\n",
       "      <td>0.0</td>\n",
       "      <td>25000.0</td>\n",
       "    </tr>\n",
       "  </tbody>\n",
       "</table>\n",
       "</div>"
      ],
      "text/plain": [
       "       Age  Gender Education Level                    Job Title  \\\n",
       "5070  21.0  Female     High School  Junior Sales Representative   \n",
       "\n",
       "      Years of Experience   Salary  \n",
       "5070                  0.0  25000.0  "
      ]
     },
     "execution_count": 28,
     "metadata": {},
     "output_type": "execute_result"
    }
   ],
   "source": [
    "data.sample() # it gives randomly data from table\n",
    "# by default it gives only one data"
   ]
  },
  {
   "cell_type": "code",
   "execution_count": 29,
   "id": "3584acbe-5a7b-4a8b-a884-a0b97a73dc4c",
   "metadata": {},
   "outputs": [
    {
     "data": {
      "text/html": [
       "<div>\n",
       "<style scoped>\n",
       "    .dataframe tbody tr th:only-of-type {\n",
       "        vertical-align: middle;\n",
       "    }\n",
       "\n",
       "    .dataframe tbody tr th {\n",
       "        vertical-align: top;\n",
       "    }\n",
       "\n",
       "    .dataframe thead th {\n",
       "        text-align: right;\n",
       "    }\n",
       "</style>\n",
       "<table border=\"1\" class=\"dataframe\">\n",
       "  <thead>\n",
       "    <tr style=\"text-align: right;\">\n",
       "      <th></th>\n",
       "      <th>Age</th>\n",
       "      <th>Gender</th>\n",
       "      <th>Education Level</th>\n",
       "      <th>Job Title</th>\n",
       "      <th>Years of Experience</th>\n",
       "      <th>Salary</th>\n",
       "    </tr>\n",
       "  </thead>\n",
       "  <tbody>\n",
       "    <tr>\n",
       "      <th>480</th>\n",
       "      <td>29.0</td>\n",
       "      <td>Female</td>\n",
       "      <td>Bachelor's</td>\n",
       "      <td>Software Engineer</td>\n",
       "      <td>4.0</td>\n",
       "      <td>140000.0</td>\n",
       "    </tr>\n",
       "    <tr>\n",
       "      <th>1601</th>\n",
       "      <td>42.0</td>\n",
       "      <td>Male</td>\n",
       "      <td>PhD</td>\n",
       "      <td>Senior Software Engineer</td>\n",
       "      <td>14.0</td>\n",
       "      <td>170000.0</td>\n",
       "    </tr>\n",
       "    <tr>\n",
       "      <th>6699</th>\n",
       "      <td>49.0</td>\n",
       "      <td>Female</td>\n",
       "      <td>PhD</td>\n",
       "      <td>Director of Marketing</td>\n",
       "      <td>20.0</td>\n",
       "      <td>200000.0</td>\n",
       "    </tr>\n",
       "    <tr>\n",
       "      <th>6069</th>\n",
       "      <td>25.0</td>\n",
       "      <td>Male</td>\n",
       "      <td>Bachelor's Degree</td>\n",
       "      <td>Product Manager</td>\n",
       "      <td>1.0</td>\n",
       "      <td>60000.0</td>\n",
       "    </tr>\n",
       "    <tr>\n",
       "      <th>4314</th>\n",
       "      <td>34.0</td>\n",
       "      <td>Male</td>\n",
       "      <td>Bachelor's Degree</td>\n",
       "      <td>Operations Manager</td>\n",
       "      <td>8.0</td>\n",
       "      <td>101000.0</td>\n",
       "    </tr>\n",
       "    <tr>\n",
       "      <th>5994</th>\n",
       "      <td>29.0</td>\n",
       "      <td>Male</td>\n",
       "      <td>Bachelor's Degree</td>\n",
       "      <td>Marketing Analyst</td>\n",
       "      <td>4.0</td>\n",
       "      <td>70000.0</td>\n",
       "    </tr>\n",
       "    <tr>\n",
       "      <th>1222</th>\n",
       "      <td>42.0</td>\n",
       "      <td>Male</td>\n",
       "      <td>PhD</td>\n",
       "      <td>Full Stack Engineer</td>\n",
       "      <td>14.0</td>\n",
       "      <td>180000.0</td>\n",
       "    </tr>\n",
       "    <tr>\n",
       "      <th>865</th>\n",
       "      <td>28.0</td>\n",
       "      <td>Female</td>\n",
       "      <td>Bachelor's</td>\n",
       "      <td>Software Engineer</td>\n",
       "      <td>5.0</td>\n",
       "      <td>160000.0</td>\n",
       "    </tr>\n",
       "    <tr>\n",
       "      <th>6118</th>\n",
       "      <td>40.0</td>\n",
       "      <td>Female</td>\n",
       "      <td>Bachelor's Degree</td>\n",
       "      <td>Financial Manager</td>\n",
       "      <td>16.0</td>\n",
       "      <td>215000.0</td>\n",
       "    </tr>\n",
       "    <tr>\n",
       "      <th>5680</th>\n",
       "      <td>27.0</td>\n",
       "      <td>Male</td>\n",
       "      <td>Bachelor's Degree</td>\n",
       "      <td>Software Engineer</td>\n",
       "      <td>3.0</td>\n",
       "      <td>80000.0</td>\n",
       "    </tr>\n",
       "  </tbody>\n",
       "</table>\n",
       "</div>"
      ],
      "text/plain": [
       "       Age  Gender    Education Level                 Job Title  \\\n",
       "480   29.0  Female         Bachelor's         Software Engineer   \n",
       "1601  42.0    Male                PhD  Senior Software Engineer   \n",
       "6699  49.0  Female                PhD     Director of Marketing   \n",
       "6069  25.0    Male  Bachelor's Degree           Product Manager   \n",
       "4314  34.0    Male  Bachelor's Degree        Operations Manager   \n",
       "5994  29.0    Male  Bachelor's Degree         Marketing Analyst   \n",
       "1222  42.0    Male                PhD       Full Stack Engineer   \n",
       "865   28.0  Female         Bachelor's         Software Engineer   \n",
       "6118  40.0  Female  Bachelor's Degree         Financial Manager   \n",
       "5680  27.0    Male  Bachelor's Degree         Software Engineer   \n",
       "\n",
       "      Years of Experience    Salary  \n",
       "480                   4.0  140000.0  \n",
       "1601                 14.0  170000.0  \n",
       "6699                 20.0  200000.0  \n",
       "6069                  1.0   60000.0  \n",
       "4314                  8.0  101000.0  \n",
       "5994                  4.0   70000.0  \n",
       "1222                 14.0  180000.0  \n",
       "865                   5.0  160000.0  \n",
       "6118                 16.0  215000.0  \n",
       "5680                  3.0   80000.0  "
      ]
     },
     "execution_count": 29,
     "metadata": {},
     "output_type": "execute_result"
    }
   ],
   "source": [
    "data.sample(10)"
   ]
  },
  {
   "cell_type": "code",
   "execution_count": 31,
   "id": "89febb9b-e168-4184-bbd8-a09fa007b4e5",
   "metadata": {},
   "outputs": [],
   "source": [
    "#Exploratory Data Analysis(EDA) FOR EXPLORE DATA IN TABLE"
   ]
  },
  {
   "cell_type": "code",
   "execution_count": 32,
   "id": "633647fc-3e78-4e09-99fb-11a27742d738",
   "metadata": {},
   "outputs": [
    {
     "data": {
      "text/plain": [
       "(6704, 6)"
      ]
     },
     "execution_count": 32,
     "metadata": {},
     "output_type": "execute_result"
    }
   ],
   "source": [
    "data.shape #=> no of rows and no of columns"
   ]
  },
  {
   "cell_type": "code",
   "execution_count": 33,
   "id": "772de96c-b64b-453a-808b-433c80aa2165",
   "metadata": {},
   "outputs": [
    {
     "data": {
      "text/plain": [
       "6704"
      ]
     },
     "execution_count": 33,
     "metadata": {},
     "output_type": "execute_result"
    }
   ],
   "source": [
    "data.shape[0] #=> .shape[0] => it givess no of rows only"
   ]
  },
  {
   "cell_type": "code",
   "execution_count": 34,
   "id": "5097b45f-0f29-45ac-86e2-4c109e24e3ce",
   "metadata": {},
   "outputs": [
    {
     "data": {
      "text/plain": [
       "6"
      ]
     },
     "execution_count": 34,
     "metadata": {},
     "output_type": "execute_result"
    }
   ],
   "source": [
    "data.shape[1] #=> .shape[0] => it givess no of columns only"
   ]
  },
  {
   "cell_type": "code",
   "execution_count": 36,
   "id": "d8c4dd81-be3e-4c27-adf6-29a0d45c22a4",
   "metadata": {},
   "outputs": [
    {
     "name": "stdout",
     "output_type": "stream",
     "text": [
      "Index(['Age', 'Gender', 'Education Level', 'Job Title', 'Years of Experience',\n",
      "       'Salary'],\n",
      "      dtype='object')\n"
     ]
    }
   ],
   "source": [
    "print(data.columns)"
   ]
  },
  {
   "cell_type": "code",
   "execution_count": 37,
   "id": "6a85e28c-53b4-4766-a0c0-3a0108809209",
   "metadata": {},
   "outputs": [],
   "source": [
    "#select particular rows or columns"
   ]
  },
  {
   "cell_type": "code",
   "execution_count": 39,
   "id": "239e2a05-404b-4e37-bbc3-8fa2acf12bb3",
   "metadata": {},
   "outputs": [
    {
     "data": {
      "text/plain": [
       "0       32.0\n",
       "1       28.0\n",
       "2       45.0\n",
       "3       36.0\n",
       "4       52.0\n",
       "        ... \n",
       "6699    49.0\n",
       "6700    32.0\n",
       "6701    30.0\n",
       "6702    46.0\n",
       "6703    26.0\n",
       "Name: Age, Length: 6704, dtype: float64"
      ]
     },
     "execution_count": 39,
     "metadata": {},
     "output_type": "execute_result"
    }
   ],
   "source": [
    "#columns \n",
    "# Syntax : dataframe.column_name\n",
    "data.Age"
   ]
  },
  {
   "cell_type": "code",
   "execution_count": 40,
   "id": "d52fd3fe-4b6e-4617-b181-7a00c14e273b",
   "metadata": {},
   "outputs": [
    {
     "data": {
      "text/plain": [
       "0         Male\n",
       "1       Female\n",
       "2         Male\n",
       "3       Female\n",
       "4         Male\n",
       "         ...  \n",
       "6699    Female\n",
       "6700      Male\n",
       "6701    Female\n",
       "6702      Male\n",
       "6703    Female\n",
       "Name: Gender, Length: 6704, dtype: object"
      ]
     },
     "execution_count": 40,
     "metadata": {},
     "output_type": "execute_result"
    }
   ],
   "source": [
    "data.Gender"
   ]
  },
  {
   "cell_type": "code",
   "execution_count": 41,
   "id": "c94a57aa-f271-4f5c-9627-4be12e45e99b",
   "metadata": {},
   "outputs": [],
   "source": [
    "# another option to access columns \n",
    "# syntax dataframe['columns_name']"
   ]
  },
  {
   "cell_type": "code",
   "execution_count": 42,
   "id": "511fd404-e1a0-414e-a5be-3c4399f78719",
   "metadata": {},
   "outputs": [
    {
     "data": {
      "text/plain": [
       "0         Male\n",
       "1       Female\n",
       "2         Male\n",
       "3       Female\n",
       "4         Male\n",
       "         ...  \n",
       "6699    Female\n",
       "6700      Male\n",
       "6701    Female\n",
       "6702      Male\n",
       "6703    Female\n",
       "Name: Gender, Length: 6704, dtype: object"
      ]
     },
     "execution_count": 42,
     "metadata": {},
     "output_type": "execute_result"
    }
   ],
   "source": [
    "data['Gender']"
   ]
  },
  {
   "cell_type": "code",
   "execution_count": 43,
   "id": "0c4ffe9f-13a9-4da7-955b-a71bbd40e5a3",
   "metadata": {},
   "outputs": [
    {
     "ename": "SyntaxError",
     "evalue": "invalid syntax (417781411.py, line 1)",
     "output_type": "error",
     "traceback": [
      "  \u001b[36mCell\u001b[39m\u001b[36m \u001b[39m\u001b[32mIn[43]\u001b[39m\u001b[32m, line 1\u001b[39m\n\u001b[31m    \u001b[39m\u001b[31mdata.Educations level\u001b[39m\n                    ^\n\u001b[31mSyntaxError\u001b[39m\u001b[31m:\u001b[39m invalid syntax\n"
     ]
    }
   ],
   "source": [
    "data.Educations level "
   ]
  },
  {
   "cell_type": "code",
   "execution_count": 45,
   "id": "e888b434-b2d7-4f04-90cb-4e80a0df152e",
   "metadata": {},
   "outputs": [
    {
     "data": {
      "text/plain": [
       "0              Bachelor's\n",
       "1                Master's\n",
       "2                     PhD\n",
       "3              Bachelor's\n",
       "4                Master's\n",
       "              ...        \n",
       "6699                  PhD\n",
       "6700          High School\n",
       "6701    Bachelor's Degree\n",
       "6702      Master's Degree\n",
       "6703          High School\n",
       "Name: Education Level, Length: 6704, dtype: object"
      ]
     },
     "execution_count": 45,
     "metadata": {},
     "output_type": "execute_result"
    }
   ],
   "source": [
    "# to remove above error we use another way to access columns\n",
    "data['Education Level']"
   ]
  },
  {
   "cell_type": "code",
   "execution_count": 46,
   "id": "77dacaae-ff93-4804-b761-f63f0332ee32",
   "metadata": {},
   "outputs": [],
   "source": [
    "#rows\n"
   ]
  },
  {
   "cell_type": "code",
   "execution_count": 48,
   "id": "25b1baa0-ed5c-4a62-8bab-b9c85490e89a",
   "metadata": {},
   "outputs": [
    {
     "data": {
      "text/plain": [
       "Age                                 32.0\n",
       "Gender                              Male\n",
       "Education Level               Bachelor's\n",
       "Job Title              Software Engineer\n",
       "Years of Experience                  5.0\n",
       "Salary                           90000.0\n",
       "Name: 0, dtype: object"
      ]
     },
     "execution_count": 48,
     "metadata": {},
     "output_type": "execute_result"
    }
   ],
   "source": [
    "data.iloc[0]"
   ]
  },
  {
   "cell_type": "code",
   "execution_count": 49,
   "id": "36fe8abc-b165-4080-bcf6-82f720f37ba6",
   "metadata": {},
   "outputs": [
    {
     "data": {
      "text/html": [
       "<div>\n",
       "<style scoped>\n",
       "    .dataframe tbody tr th:only-of-type {\n",
       "        vertical-align: middle;\n",
       "    }\n",
       "\n",
       "    .dataframe tbody tr th {\n",
       "        vertical-align: top;\n",
       "    }\n",
       "\n",
       "    .dataframe thead th {\n",
       "        text-align: right;\n",
       "    }\n",
       "</style>\n",
       "<table border=\"1\" class=\"dataframe\">\n",
       "  <thead>\n",
       "    <tr style=\"text-align: right;\">\n",
       "      <th></th>\n",
       "      <th>Age</th>\n",
       "      <th>Gender</th>\n",
       "      <th>Education Level</th>\n",
       "      <th>Job Title</th>\n",
       "      <th>Years of Experience</th>\n",
       "      <th>Salary</th>\n",
       "    </tr>\n",
       "  </thead>\n",
       "  <tbody>\n",
       "    <tr>\n",
       "      <th>0</th>\n",
       "      <td>32.0</td>\n",
       "      <td>Male</td>\n",
       "      <td>Bachelor's</td>\n",
       "      <td>Software Engineer</td>\n",
       "      <td>5.0</td>\n",
       "      <td>90000.0</td>\n",
       "    </tr>\n",
       "    <tr>\n",
       "      <th>1</th>\n",
       "      <td>28.0</td>\n",
       "      <td>Female</td>\n",
       "      <td>Master's</td>\n",
       "      <td>Data Analyst</td>\n",
       "      <td>3.0</td>\n",
       "      <td>65000.0</td>\n",
       "    </tr>\n",
       "    <tr>\n",
       "      <th>2</th>\n",
       "      <td>45.0</td>\n",
       "      <td>Male</td>\n",
       "      <td>PhD</td>\n",
       "      <td>Senior Manager</td>\n",
       "      <td>15.0</td>\n",
       "      <td>150000.0</td>\n",
       "    </tr>\n",
       "    <tr>\n",
       "      <th>3</th>\n",
       "      <td>36.0</td>\n",
       "      <td>Female</td>\n",
       "      <td>Bachelor's</td>\n",
       "      <td>Sales Associate</td>\n",
       "      <td>7.0</td>\n",
       "      <td>60000.0</td>\n",
       "    </tr>\n",
       "    <tr>\n",
       "      <th>4</th>\n",
       "      <td>52.0</td>\n",
       "      <td>Male</td>\n",
       "      <td>Master's</td>\n",
       "      <td>Director</td>\n",
       "      <td>20.0</td>\n",
       "      <td>200000.0</td>\n",
       "    </tr>\n",
       "    <tr>\n",
       "      <th>5</th>\n",
       "      <td>29.0</td>\n",
       "      <td>Male</td>\n",
       "      <td>Bachelor's</td>\n",
       "      <td>Marketing Analyst</td>\n",
       "      <td>2.0</td>\n",
       "      <td>55000.0</td>\n",
       "    </tr>\n",
       "  </tbody>\n",
       "</table>\n",
       "</div>"
      ],
      "text/plain": [
       "    Age  Gender Education Level          Job Title  Years of Experience  \\\n",
       "0  32.0    Male      Bachelor's  Software Engineer                  5.0   \n",
       "1  28.0  Female        Master's       Data Analyst                  3.0   \n",
       "2  45.0    Male             PhD     Senior Manager                 15.0   \n",
       "3  36.0  Female      Bachelor's    Sales Associate                  7.0   \n",
       "4  52.0    Male        Master's           Director                 20.0   \n",
       "5  29.0    Male      Bachelor's  Marketing Analyst                  2.0   \n",
       "\n",
       "     Salary  \n",
       "0   90000.0  \n",
       "1   65000.0  \n",
       "2  150000.0  \n",
       "3   60000.0  \n",
       "4  200000.0  \n",
       "5   55000.0  "
      ]
     },
     "execution_count": 49,
     "metadata": {},
     "output_type": "execute_result"
    }
   ],
   "source": [
    "data.loc[0:5] # dataframe.loc[start : stop] \n",
    "# both are inclusive"
   ]
  },
  {
   "cell_type": "code",
   "execution_count": 50,
   "id": "7130e5c2-0ee4-40c4-9944-2ebef3cce702",
   "metadata": {},
   "outputs": [
    {
     "data": {
      "text/html": [
       "<div>\n",
       "<style scoped>\n",
       "    .dataframe tbody tr th:only-of-type {\n",
       "        vertical-align: middle;\n",
       "    }\n",
       "\n",
       "    .dataframe tbody tr th {\n",
       "        vertical-align: top;\n",
       "    }\n",
       "\n",
       "    .dataframe thead th {\n",
       "        text-align: right;\n",
       "    }\n",
       "</style>\n",
       "<table border=\"1\" class=\"dataframe\">\n",
       "  <thead>\n",
       "    <tr style=\"text-align: right;\">\n",
       "      <th></th>\n",
       "      <th>Age</th>\n",
       "      <th>Gender</th>\n",
       "      <th>Education Level</th>\n",
       "      <th>Job Title</th>\n",
       "      <th>Years of Experience</th>\n",
       "      <th>Salary</th>\n",
       "    </tr>\n",
       "  </thead>\n",
       "  <tbody>\n",
       "    <tr>\n",
       "      <th>0</th>\n",
       "      <td>32.0</td>\n",
       "      <td>Male</td>\n",
       "      <td>Bachelor's</td>\n",
       "      <td>Software Engineer</td>\n",
       "      <td>5.0</td>\n",
       "      <td>90000.0</td>\n",
       "    </tr>\n",
       "    <tr>\n",
       "      <th>1</th>\n",
       "      <td>28.0</td>\n",
       "      <td>Female</td>\n",
       "      <td>Master's</td>\n",
       "      <td>Data Analyst</td>\n",
       "      <td>3.0</td>\n",
       "      <td>65000.0</td>\n",
       "    </tr>\n",
       "    <tr>\n",
       "      <th>2</th>\n",
       "      <td>45.0</td>\n",
       "      <td>Male</td>\n",
       "      <td>PhD</td>\n",
       "      <td>Senior Manager</td>\n",
       "      <td>15.0</td>\n",
       "      <td>150000.0</td>\n",
       "    </tr>\n",
       "    <tr>\n",
       "      <th>3</th>\n",
       "      <td>36.0</td>\n",
       "      <td>Female</td>\n",
       "      <td>Bachelor's</td>\n",
       "      <td>Sales Associate</td>\n",
       "      <td>7.0</td>\n",
       "      <td>60000.0</td>\n",
       "    </tr>\n",
       "    <tr>\n",
       "      <th>4</th>\n",
       "      <td>52.0</td>\n",
       "      <td>Male</td>\n",
       "      <td>Master's</td>\n",
       "      <td>Director</td>\n",
       "      <td>20.0</td>\n",
       "      <td>200000.0</td>\n",
       "    </tr>\n",
       "  </tbody>\n",
       "</table>\n",
       "</div>"
      ],
      "text/plain": [
       "    Age  Gender Education Level          Job Title  Years of Experience  \\\n",
       "0  32.0    Male      Bachelor's  Software Engineer                  5.0   \n",
       "1  28.0  Female        Master's       Data Analyst                  3.0   \n",
       "2  45.0    Male             PhD     Senior Manager                 15.0   \n",
       "3  36.0  Female      Bachelor's    Sales Associate                  7.0   \n",
       "4  52.0    Male        Master's           Director                 20.0   \n",
       "\n",
       "     Salary  \n",
       "0   90000.0  \n",
       "1   65000.0  \n",
       "2  150000.0  \n",
       "3   60000.0  \n",
       "4  200000.0  "
      ]
     },
     "execution_count": 50,
     "metadata": {},
     "output_type": "execute_result"
    }
   ],
   "source": [
    "data.iloc[0:5] # dataframe.loc[start : stop] \n",
    "# start only inclusive but not stop"
   ]
  },
  {
   "cell_type": "code",
   "execution_count": 51,
   "id": "3d64ef7f-3260-4e7d-af92-9b7ae5cace35",
   "metadata": {},
   "outputs": [
    {
     "data": {
      "text/html": [
       "<div>\n",
       "<style scoped>\n",
       "    .dataframe tbody tr th:only-of-type {\n",
       "        vertical-align: middle;\n",
       "    }\n",
       "\n",
       "    .dataframe tbody tr th {\n",
       "        vertical-align: top;\n",
       "    }\n",
       "\n",
       "    .dataframe thead th {\n",
       "        text-align: right;\n",
       "    }\n",
       "</style>\n",
       "<table border=\"1\" class=\"dataframe\">\n",
       "  <thead>\n",
       "    <tr style=\"text-align: right;\">\n",
       "      <th></th>\n",
       "      <th>Age</th>\n",
       "      <th>Gender</th>\n",
       "    </tr>\n",
       "  </thead>\n",
       "  <tbody>\n",
       "    <tr>\n",
       "      <th>0</th>\n",
       "      <td>32.0</td>\n",
       "      <td>Male</td>\n",
       "    </tr>\n",
       "    <tr>\n",
       "      <th>1</th>\n",
       "      <td>28.0</td>\n",
       "      <td>Female</td>\n",
       "    </tr>\n",
       "    <tr>\n",
       "      <th>2</th>\n",
       "      <td>45.0</td>\n",
       "      <td>Male</td>\n",
       "    </tr>\n",
       "    <tr>\n",
       "      <th>3</th>\n",
       "      <td>36.0</td>\n",
       "      <td>Female</td>\n",
       "    </tr>\n",
       "    <tr>\n",
       "      <th>4</th>\n",
       "      <td>52.0</td>\n",
       "      <td>Male</td>\n",
       "    </tr>\n",
       "    <tr>\n",
       "      <th>...</th>\n",
       "      <td>...</td>\n",
       "      <td>...</td>\n",
       "    </tr>\n",
       "    <tr>\n",
       "      <th>6699</th>\n",
       "      <td>49.0</td>\n",
       "      <td>Female</td>\n",
       "    </tr>\n",
       "    <tr>\n",
       "      <th>6700</th>\n",
       "      <td>32.0</td>\n",
       "      <td>Male</td>\n",
       "    </tr>\n",
       "    <tr>\n",
       "      <th>6701</th>\n",
       "      <td>30.0</td>\n",
       "      <td>Female</td>\n",
       "    </tr>\n",
       "    <tr>\n",
       "      <th>6702</th>\n",
       "      <td>46.0</td>\n",
       "      <td>Male</td>\n",
       "    </tr>\n",
       "    <tr>\n",
       "      <th>6703</th>\n",
       "      <td>26.0</td>\n",
       "      <td>Female</td>\n",
       "    </tr>\n",
       "  </tbody>\n",
       "</table>\n",
       "<p>6704 rows × 2 columns</p>\n",
       "</div>"
      ],
      "text/plain": [
       "       Age  Gender\n",
       "0     32.0    Male\n",
       "1     28.0  Female\n",
       "2     45.0    Male\n",
       "3     36.0  Female\n",
       "4     52.0    Male\n",
       "...    ...     ...\n",
       "6699  49.0  Female\n",
       "6700  32.0    Male\n",
       "6701  30.0  Female\n",
       "6702  46.0    Male\n",
       "6703  26.0  Female\n",
       "\n",
       "[6704 rows x 2 columns]"
      ]
     },
     "execution_count": 51,
     "metadata": {},
     "output_type": "execute_result"
    }
   ],
   "source": [
    "#to acess multiple columns use list for multiple columns\n",
    "more than coulmn lai acces garnu xh vney we must acces by using dataframe\n",
    "data[['Age','Gender']]"
   ]
  },
  {
   "cell_type": "code",
   "execution_count": 52,
   "id": "48f2e352-0523-4238-9f25-44f0a9db06be",
   "metadata": {},
   "outputs": [
    {
     "data": {
      "text/html": [
       "<div>\n",
       "<style scoped>\n",
       "    .dataframe tbody tr th:only-of-type {\n",
       "        vertical-align: middle;\n",
       "    }\n",
       "\n",
       "    .dataframe tbody tr th {\n",
       "        vertical-align: top;\n",
       "    }\n",
       "\n",
       "    .dataframe thead th {\n",
       "        text-align: right;\n",
       "    }\n",
       "</style>\n",
       "<table border=\"1\" class=\"dataframe\">\n",
       "  <thead>\n",
       "    <tr style=\"text-align: right;\">\n",
       "      <th></th>\n",
       "      <th>Age</th>\n",
       "    </tr>\n",
       "  </thead>\n",
       "  <tbody>\n",
       "    <tr>\n",
       "      <th>0</th>\n",
       "      <td>32.0</td>\n",
       "    </tr>\n",
       "    <tr>\n",
       "      <th>1</th>\n",
       "      <td>28.0</td>\n",
       "    </tr>\n",
       "    <tr>\n",
       "      <th>2</th>\n",
       "      <td>45.0</td>\n",
       "    </tr>\n",
       "    <tr>\n",
       "      <th>3</th>\n",
       "      <td>36.0</td>\n",
       "    </tr>\n",
       "    <tr>\n",
       "      <th>4</th>\n",
       "      <td>52.0</td>\n",
       "    </tr>\n",
       "    <tr>\n",
       "      <th>...</th>\n",
       "      <td>...</td>\n",
       "    </tr>\n",
       "    <tr>\n",
       "      <th>6699</th>\n",
       "      <td>49.0</td>\n",
       "    </tr>\n",
       "    <tr>\n",
       "      <th>6700</th>\n",
       "      <td>32.0</td>\n",
       "    </tr>\n",
       "    <tr>\n",
       "      <th>6701</th>\n",
       "      <td>30.0</td>\n",
       "    </tr>\n",
       "    <tr>\n",
       "      <th>6702</th>\n",
       "      <td>46.0</td>\n",
       "    </tr>\n",
       "    <tr>\n",
       "      <th>6703</th>\n",
       "      <td>26.0</td>\n",
       "    </tr>\n",
       "  </tbody>\n",
       "</table>\n",
       "<p>6704 rows × 1 columns</p>\n",
       "</div>"
      ],
      "text/plain": [
       "       Age\n",
       "0     32.0\n",
       "1     28.0\n",
       "2     45.0\n",
       "3     36.0\n",
       "4     52.0\n",
       "...    ...\n",
       "6699  49.0\n",
       "6700  32.0\n",
       "6701  30.0\n",
       "6702  46.0\n",
       "6703  26.0\n",
       "\n",
       "[6704 rows x 1 columns]"
      ]
     },
     "execution_count": 52,
     "metadata": {},
     "output_type": "execute_result"
    }
   ],
   "source": [
    "data[['Age']]"
   ]
  },
  {
   "cell_type": "code",
   "execution_count": 53,
   "id": "a2bc7d42-0c50-484f-b453-03e5cbbf9f86",
   "metadata": {},
   "outputs": [
    {
     "data": {
      "text/html": [
       "<div>\n",
       "<style scoped>\n",
       "    .dataframe tbody tr th:only-of-type {\n",
       "        vertical-align: middle;\n",
       "    }\n",
       "\n",
       "    .dataframe tbody tr th {\n",
       "        vertical-align: top;\n",
       "    }\n",
       "\n",
       "    .dataframe thead th {\n",
       "        text-align: right;\n",
       "    }\n",
       "</style>\n",
       "<table border=\"1\" class=\"dataframe\">\n",
       "  <thead>\n",
       "    <tr style=\"text-align: right;\">\n",
       "      <th></th>\n",
       "      <th>Age</th>\n",
       "      <th>Gender</th>\n",
       "      <th>Education Level</th>\n",
       "      <th>Job Title</th>\n",
       "      <th>Years of Experience</th>\n",
       "      <th>Salary</th>\n",
       "    </tr>\n",
       "  </thead>\n",
       "  <tbody>\n",
       "    <tr>\n",
       "      <th>0</th>\n",
       "      <td>32.0</td>\n",
       "      <td>Male</td>\n",
       "      <td>Bachelor's</td>\n",
       "      <td>Software Engineer</td>\n",
       "      <td>5.0</td>\n",
       "      <td>90000.0</td>\n",
       "    </tr>\n",
       "    <tr>\n",
       "      <th>1</th>\n",
       "      <td>28.0</td>\n",
       "      <td>Female</td>\n",
       "      <td>Master's</td>\n",
       "      <td>Data Analyst</td>\n",
       "      <td>3.0</td>\n",
       "      <td>65000.0</td>\n",
       "    </tr>\n",
       "    <tr>\n",
       "      <th>2</th>\n",
       "      <td>45.0</td>\n",
       "      <td>Male</td>\n",
       "      <td>PhD</td>\n",
       "      <td>Senior Manager</td>\n",
       "      <td>15.0</td>\n",
       "      <td>150000.0</td>\n",
       "    </tr>\n",
       "    <tr>\n",
       "      <th>3</th>\n",
       "      <td>36.0</td>\n",
       "      <td>Female</td>\n",
       "      <td>Bachelor's</td>\n",
       "      <td>Sales Associate</td>\n",
       "      <td>7.0</td>\n",
       "      <td>60000.0</td>\n",
       "    </tr>\n",
       "    <tr>\n",
       "      <th>4</th>\n",
       "      <td>52.0</td>\n",
       "      <td>Male</td>\n",
       "      <td>Master's</td>\n",
       "      <td>Director</td>\n",
       "      <td>20.0</td>\n",
       "      <td>200000.0</td>\n",
       "    </tr>\n",
       "  </tbody>\n",
       "</table>\n",
       "</div>"
      ],
      "text/plain": [
       "    Age  Gender Education Level          Job Title  Years of Experience  \\\n",
       "0  32.0    Male      Bachelor's  Software Engineer                  5.0   \n",
       "1  28.0  Female        Master's       Data Analyst                  3.0   \n",
       "2  45.0    Male             PhD     Senior Manager                 15.0   \n",
       "3  36.0  Female      Bachelor's    Sales Associate                  7.0   \n",
       "4  52.0    Male        Master's           Director                 20.0   \n",
       "\n",
       "     Salary  \n",
       "0   90000.0  \n",
       "1   65000.0  \n",
       "2  150000.0  \n",
       "3   60000.0  \n",
       "4  200000.0  "
      ]
     },
     "execution_count": 53,
     "metadata": {},
     "output_type": "execute_result"
    }
   ],
   "source": [
    "data.head()"
   ]
  },
  {
   "cell_type": "code",
   "execution_count": null,
   "id": "3cf11398-b9eb-4b60-88c3-dda3e0e8efe5",
   "metadata": {},
   "outputs": [],
   "source": [
    "Numerical(int ,float)\n",
    "Categorical(object)"
   ]
  },
  {
   "cell_type": "code",
   "execution_count": 54,
   "id": "e59cc354-62a9-4567-ab5c-69b70fc26212",
   "metadata": {},
   "outputs": [
    {
     "name": "stdout",
     "output_type": "stream",
     "text": [
      "<class 'pandas.core.frame.DataFrame'>\n",
      "RangeIndex: 6704 entries, 0 to 6703\n",
      "Data columns (total 6 columns):\n",
      " #   Column               Non-Null Count  Dtype  \n",
      "---  ------               --------------  -----  \n",
      " 0   Age                  6702 non-null   float64\n",
      " 1   Gender               6702 non-null   object \n",
      " 2   Education Level      6701 non-null   object \n",
      " 3   Job Title            6702 non-null   object \n",
      " 4   Years of Experience  6701 non-null   float64\n",
      " 5   Salary               6699 non-null   float64\n",
      "dtypes: float64(3), object(3)\n",
      "memory usage: 314.4+ KB\n"
     ]
    }
   ],
   "source": [
    "data.info() # to check data type of all"
   ]
  },
  {
   "cell_type": "code",
   "execution_count": 55,
   "id": "cdfcaa18-5d09-4643-b39e-b21fdbb270eb",
   "metadata": {},
   "outputs": [
    {
     "data": {
      "text/html": [
       "<div>\n",
       "<style scoped>\n",
       "    .dataframe tbody tr th:only-of-type {\n",
       "        vertical-align: middle;\n",
       "    }\n",
       "\n",
       "    .dataframe tbody tr th {\n",
       "        vertical-align: top;\n",
       "    }\n",
       "\n",
       "    .dataframe thead th {\n",
       "        text-align: right;\n",
       "    }\n",
       "</style>\n",
       "<table border=\"1\" class=\"dataframe\">\n",
       "  <thead>\n",
       "    <tr style=\"text-align: right;\">\n",
       "      <th></th>\n",
       "      <th>Age</th>\n",
       "      <th>Years of Experience</th>\n",
       "      <th>Salary</th>\n",
       "    </tr>\n",
       "  </thead>\n",
       "  <tbody>\n",
       "    <tr>\n",
       "      <th>count</th>\n",
       "      <td>6702.000000</td>\n",
       "      <td>6701.000000</td>\n",
       "      <td>6699.000000</td>\n",
       "    </tr>\n",
       "    <tr>\n",
       "      <th>mean</th>\n",
       "      <td>33.620859</td>\n",
       "      <td>8.094687</td>\n",
       "      <td>115326.964771</td>\n",
       "    </tr>\n",
       "    <tr>\n",
       "      <th>std</th>\n",
       "      <td>7.614633</td>\n",
       "      <td>6.059003</td>\n",
       "      <td>52786.183911</td>\n",
       "    </tr>\n",
       "    <tr>\n",
       "      <th>min</th>\n",
       "      <td>21.000000</td>\n",
       "      <td>0.000000</td>\n",
       "      <td>350.000000</td>\n",
       "    </tr>\n",
       "    <tr>\n",
       "      <th>25%</th>\n",
       "      <td>28.000000</td>\n",
       "      <td>3.000000</td>\n",
       "      <td>70000.000000</td>\n",
       "    </tr>\n",
       "    <tr>\n",
       "      <th>50%</th>\n",
       "      <td>32.000000</td>\n",
       "      <td>7.000000</td>\n",
       "      <td>115000.000000</td>\n",
       "    </tr>\n",
       "    <tr>\n",
       "      <th>75%</th>\n",
       "      <td>38.000000</td>\n",
       "      <td>12.000000</td>\n",
       "      <td>160000.000000</td>\n",
       "    </tr>\n",
       "    <tr>\n",
       "      <th>max</th>\n",
       "      <td>62.000000</td>\n",
       "      <td>34.000000</td>\n",
       "      <td>250000.000000</td>\n",
       "    </tr>\n",
       "  </tbody>\n",
       "</table>\n",
       "</div>"
      ],
      "text/plain": [
       "               Age  Years of Experience         Salary\n",
       "count  6702.000000          6701.000000    6699.000000\n",
       "mean     33.620859             8.094687  115326.964771\n",
       "std       7.614633             6.059003   52786.183911\n",
       "min      21.000000             0.000000     350.000000\n",
       "25%      28.000000             3.000000   70000.000000\n",
       "50%      32.000000             7.000000  115000.000000\n",
       "75%      38.000000            12.000000  160000.000000\n",
       "max      62.000000            34.000000  250000.000000"
      ]
     },
     "execution_count": 55,
     "metadata": {},
     "output_type": "execute_result"
    }
   ],
   "source": [
    "data.describe()  to overview/summarize  the relation of data or data kastw xh "
   ]
  },
  {
   "cell_type": "code",
   "execution_count": null,
   "id": "b9ab86ef-0aa3-41af-8cd9-8707bfd42b16",
   "metadata": {},
   "outputs": [],
   "source": [
    "1.import the neccessary libraries and import the dataset(tit"
   ]
  },
  {
   "cell_type": "code",
   "execution_count": null,
   "id": "9982a9db-6a64-41cf-a34d-ea70a55f2ef8",
   "metadata": {},
   "outputs": [],
   "source": []
  },
  {
   "cell_type": "code",
   "execution_count": null,
   "id": "bd77b3ee-d325-4e28-9e15-c633c9b25cc1",
   "metadata": {},
   "outputs": [],
   "source": [
    "\n",
    "\n"
   ]
  }
 ],
 "metadata": {
  "kernelspec": {
   "display_name": "Python 3 (ipykernel)",
   "language": "python",
   "name": "python3"
  },
  "language_info": {
   "codemirror_mode": {
    "name": "ipython",
    "version": 3
   },
   "file_extension": ".py",
   "mimetype": "text/x-python",
   "name": "python",
   "nbconvert_exporter": "python",
   "pygments_lexer": "ipython3",
   "version": "3.13.0"
  }
 },
 "nbformat": 4,
 "nbformat_minor": 5
}
