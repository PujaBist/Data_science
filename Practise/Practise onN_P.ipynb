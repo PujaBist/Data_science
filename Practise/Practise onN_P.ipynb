{
 "cells": [
  {
   "cell_type": "code",
   "execution_count": 22,
   "id": "51204507-71bd-4517-a640-d9a5a8a15984",
   "metadata": {},
   "outputs": [
    {
     "name": "stdout",
     "output_type": "stream",
     "text": [
      "Mean of array [1 2 3 4 5 6] :  3.5\n",
      "Median of array [1 2 3 4 5 6] :  3.5\n",
      "Standard_Deviation of array [1 2 3 4 5 6] :  1.707825127659933\n"
     ]
    }
   ],
   "source": [
    "# How do you compute the mean, median, and standard deviation of a NumPy array?\n",
    "import numpy as np\n",
    "dat=np.array([1,2,3,4,5,6])\n",
    "men=np.mean(dat)\n",
    "md=np.median(dat)\n",
    "std=np.std(dat)\n",
    "print(f\"Mean of array {dat} : \",men)\n",
    "print(f\"Median of array {dat} : \",md)\n",
    "print(f\"Standard_Deviation of array {dat} : \",std)"
   ]
  },
  {
   "cell_type": "code",
   "execution_count": 49,
   "id": "32f57391-c650-434f-8ad3-24f9f05a5e10",
   "metadata": {},
   "outputs": [
    {
     "name": "stdout",
     "output_type": "stream",
     "text": [
      "21\n",
      "3.5\n"
     ]
    }
   ],
   "source": [
    "#What does the axis parameter do in aggregation functions like sum() or mean()?\n",
    "sum=np.sum(dat,axis=0)\n",
    "print(sum)\n",
    "meann=np.mean(dat,axis=0)\n",
    "print(meann)"
   ]
  },
  {
   "cell_type": "code",
   "execution_count": 50,
   "id": "7408cb4c-ad57-4b2c-b5fa-709dd85661bd",
   "metadata": {},
   "outputs": [],
   "source": [
    "#How do you flatten a multidimensional array?\n",
    "#flatten means coverting multidimensional array into 1D"
   ]
  },
  {
   "cell_type": "code",
   "execution_count": 73,
   "id": "af826d20-bfa5-41f1-b7b5-2e36c95f2233",
   "metadata": {},
   "outputs": [
    {
     "name": "stdout",
     "output_type": "stream",
     "text": [
      "y : [ 1  2 10  4  5  6]\n",
      "dat : [ 1  2 10  4  5  6]\n",
      "y : [ 1 12 10  4  5  6]\n",
      "dat : [ 1  2 10  4  5  6]\n"
     ]
    }
   ],
   "source": [
    "#What is the difference between copy() and just assigning an array to another variable?\n",
    "# JUST FOR ASSIGNING\n",
    "y=dat\n",
    "\n",
    "y[1]=2\n",
    "print(\"y :\",y)\n",
    "print(\"dat :\",dat)\n",
    "# while just assigning it give view of original data \n",
    "\n",
    "\n",
    "# using.copy()\n",
    "y=dat.copy()\n",
    "y[1]=12\n",
    "print(\"y :\",y)\n",
    "print(\"dat :\",dat)\n",
    "#while using .copy() we copy the orginal data now this is different array"
   ]
  },
  {
   "cell_type": "code",
   "execution_count": 77,
   "id": "9f6932af-c3a5-49fa-8c18-a2d762eba7c4",
   "metadata": {},
   "outputs": [
    {
     "name": "stdout",
     "output_type": "stream",
     "text": [
      "[ True False  True]\n",
      "False\n"
     ]
    }
   ],
   "source": [
    "#Explain the difference between np.array_equal() and == operator on arrays.\n",
    "a = np.array([1, 2, 3])\n",
    "b = np.array([1, 4, 3])\n",
    "\n",
    "print(a == b)\n",
    "#When you use == between two NumPy arrays, it compares each element one by one and returns a new array of booleans.\n",
    "print(np.array_equal(a,b))\n",
    "np.array_equal(a, b) # Whole Array Comparison\n",
    "#This checks if both arrays are exactly equal — same shape and same values at every index."
   ]
  },
  {
   "cell_type": "code",
   "execution_count": 79,
   "id": "d9cea60a-30e7-457b-86b5-27ef4513278c",
   "metadata": {},
   "outputs": [
    {
     "name": "stdout",
     "output_type": "stream",
     "text": [
      "[10  4  5  6]\n"
     ]
    }
   ],
   "source": [
    "#How do you filter an array based on a condition (e.g., values > 10)?\n",
    "filter=dat[dat> 2]\n",
    "print(filter)"
   ]
  },
  {
   "cell_type": "code",
   "execution_count": 80,
   "id": "f401890b-2ce3-44b8-b316-3431a19fca1c",
   "metadata": {},
   "outputs": [
    {
     "name": "stdout",
     "output_type": "stream",
     "text": [
      "32\n"
     ]
    }
   ],
   "source": [
    "#What is the purpose of the np.dot() function?\n",
    "#  For 1D arrays → Dot Product of Vectors\n",
    "a = np.array([1, 2, 3])\n",
    "b = np.array([4, 5, 6])\n",
    "\n",
    "result = np.dot(a, b) # 1* 4+ 2* 5 + 3*6=32\n",
    "print(result)\n",
    "\n",
    "\n",
    "# For 2D arrays (matrices) → Matrix Multiplication\n",
    "A = np.array([[1, 2],\n",
    "              [3, 4]])\n",
    "\n",
    "B = np.array([[5, 6],\n",
    "              [7, 8]])\n",
    "\n",
    "result = np.dot(A, B)\n",
    "print(result)\n"
   ]
  },
  {
   "cell_type": "code",
   "execution_count": null,
   "id": "3a1796ed-a9ca-4192-bf10-dff6cb3c56d4",
   "metadata": {},
   "outputs": [],
   "source": []
  },
  {
   "cell_type": "code",
   "execution_count": null,
   "id": "53bf0819-1ab1-4f5c-a265-16de9fc1a43d",
   "metadata": {},
   "outputs": [],
   "source": []
  },
  {
   "cell_type": "code",
   "execution_count": 29,
   "id": "e865bb5a-f617-4af5-847c-35d5aae0c9c0",
   "metadata": {},
   "outputs": [
    {
     "name": "stdout",
     "output_type": "stream",
     "text": [
      "Mean of array [[1 2 3]\n",
      " [4 5 6]\n",
      " [7 8 9]] :  5.0\n",
      "Median of array [[1 2 3]\n",
      " [4 5 6]\n",
      " [7 8 9]] :  5.0\n",
      "Standard_Deviation of array [[1 2 3]\n",
      " [4 5 6]\n",
      " [7 8 9]] :  2.581988897471611\n"
     ]
    }
   ],
   "source": [
    "import numpy as np\n",
    "\n",
    "arr = np.array([\n",
    "    [1, 2, 3],\n",
    "    [4, 5, 6],\n",
    "    [7, 8, 9]])\n",
    "men=np.mean(arr)\n",
    "md=np.median(arr)\n",
    "std=np.std(arr)\n",
    "print(f\"Mean of array {arr} : \",men)\n",
    "print(f\"Median of array {arr} : \",md)\n",
    "print(f\"Standard_Deviation of array {arr} : \",std)"
   ]
  },
  {
   "cell_type": "code",
   "execution_count": 39,
   "id": "68d7fe94-bbe3-48fd-aff9-68d671dfed11",
   "metadata": {},
   "outputs": [
    {
     "name": "stdout",
     "output_type": "stream",
     "text": [
      "Column_wise  sum is : [12 15 18]\n",
      "Row_wise sum is : [ 6 15 24]\n"
     ]
    }
   ],
   "source": [
    "#axis=0 fro column\n",
    "#axis=1 fro row\n",
    "sumc=np.sum(arr,axis=0)\n",
    "print(\"Column_wise  sum is :\" ,sumc)\n",
    "sumr=np.sum(arr,axis=1)\n",
    "print(\"Row_wise sum is :\" ,sumr)"
   ]
  },
  {
   "cell_type": "code",
   "execution_count": 42,
   "id": "3fb4ce43-c86d-4d4a-81d9-e71381df6e74",
   "metadata": {},
   "outputs": [
    {
     "name": "stdout",
     "output_type": "stream",
     "text": [
      "Column_wise  mean is : [4. 5. 6.]\n",
      "Row_wise mean is : [2. 5. 8.]\n"
     ]
    }
   ],
   "source": [
    "#axis=0 fro column\n",
    "#axis=1 fro row\n",
    "menc=np.mean(arr,axis=0)\n",
    "print(\"Column_wise  mean is :\" ,menc)\n",
    "menr=np.mean(arr,axis=1)\n",
    "print(\"Row_wise mean is :\" ,menr)"
   ]
  },
  {
   "cell_type": "code",
   "execution_count": 55,
   "id": "042b9487-d303-4861-b66d-fe0b16091ed9",
   "metadata": {},
   "outputs": [
    {
     "name": "stdout",
     "output_type": "stream",
     "text": [
      "Flatten array is :  [1 2 3 4 5 6 7 8 9]\n"
     ]
    }
   ],
   "source": [
    "FLAT_ARRY=arr.flatten()\n",
    "print(\"Flatten array is : \", FLAT_ARRY)\n"
   ]
  },
  {
   "cell_type": "code",
   "execution_count": null,
   "id": "79cf66dd-5ee2-45a0-b4ce-d4a63099a870",
   "metadata": {},
   "outputs": [],
   "source": [
    "### Pandas ....."
   ]
  },
  {
   "cell_type": "code",
   "execution_count": null,
   "id": "2123f9cf-825e-4432-9888-f5a490103eae",
   "metadata": {},
   "outputs": [],
   "source": [
    "#Why Pandas is a must in Data Science\n",
    "for data load,clean,explore , analyze , alice/ filter"
   ]
  },
  {
   "cell_type": "code",
   "execution_count": null,
   "id": "3427904c-6ed4-445c-aa8d-16a5434a2064",
   "metadata": {},
   "outputs": [],
   "source": [
    "#What are the two main data structures in Pandas?\n",
    "#Series\n",
    "# DataFrame\n"
   ]
  },
  {
   "cell_type": "code",
   "execution_count": 86,
   "id": "d03239b4-6c0a-4af4-a240-b0ddc93cee77",
   "metadata": {},
   "outputs": [
    {
     "name": "stdout",
     "output_type": "stream",
     "text": [
      "  Name     Level  Faculty\n",
      "0  Puja  Bachelor     ICT\n"
     ]
    }
   ],
   "source": [
    "#How do you create a DataFrame from a dictionary?\n",
    "import pandas as  pd\n",
    "dic={\n",
    "    'Name ' : ['Puja'] ,\n",
    "    'Level ': ['Bachelor'],\n",
    "    'Faculty' : ['ICT']}\n",
    "DF=pd.DataFrame(dic)\n",
    "print(DF)"
   ]
  },
  {
   "cell_type": "code",
   "execution_count": null,
   "id": "7dc3271a-30e1-43a1-ab4f-fdb567b6f412",
   "metadata": {},
   "outputs": [],
   "source": [
    "#How do you read a CSV file into a DataFrame?\n",
    "df=pd.read_csv('filename.csv')"
   ]
  },
  {
   "cell_type": "code",
   "execution_count": null,
   "id": "ca09ea47-8180-46d0-a8e8-2518aaf6d39a",
   "metadata": {},
   "outputs": [],
   "source": [
    "#How do you check the shape, data types, and basic info of a DataFrame?\n",
    "df.shape\n",
    "df.dtypes\n",
    "df.info()"
   ]
  },
  {
   "cell_type": "code",
   "execution_count": null,
   "id": "abea56b4-2f73-4da9-a861-c75baa545c46",
   "metadata": {},
   "outputs": [],
   "source": [
    "#How do you view the first and last few rows of a DataFrame?\n",
    "df.head()\n",
    "df.tail()"
   ]
  },
  {
   "cell_type": "code",
   "execution_count": null,
   "id": "694f0637-2c59-4404-b7ea-4f73ea3d9917",
   "metadata": {},
   "outputs": [],
   "source": [
    "#How do you select a single column from a DataFrame?\n",
    "df.coulmnname\n",
    "df['columnname']"
   ]
  },
  {
   "cell_type": "code",
   "execution_count": null,
   "id": "394a4e9a-b308-437c-b834-f07496f8fef3",
   "metadata": {},
   "outputs": [],
   "source": [
    "#How do you select multiple columns?\n",
    "df[['column-name', 'coulmn-name',------- 'columnname']]"
   ]
  },
  {
   "cell_type": "code",
   "execution_count": null,
   "id": "4a7fb574-f33a-4595-b338-353173a61802",
   "metadata": {},
   "outputs": [],
   "source": [
    "#How do you filter rows based on a condition?\n",
    "by using index loc\n",
    ".loc[]"
   ]
  },
  {
   "cell_type": "code",
   "execution_count": null,
   "id": "b04f12f1-3ab8-4639-8d2b-429379d8a5e9",
   "metadata": {},
   "outputs": [],
   "source": [
    "#What is the difference between .loc[] and .iloc[]?\n",
    "# .loc[] is used for call through label based indexing\n",
    "# .iloc[]  is used for call through  position based indexing\n",
    "\n"
   ]
  },
  {
   "cell_type": "code",
   "execution_count": null,
   "id": "666650c5-b97f-4e13-a7cb-513124d3da8b",
   "metadata": {},
   "outputs": [],
   "source": [
    "#How do you access a specific cell value in a DataFrame?\n",
    "df.at[row_label , 'colun_name'] \n",
    "#Use this when you know the index label and column name.\n",
    "#It’s very fast for scalar (single cell) access\n",
    "df.iat[row_position, column_position]\n",
    "#Use this when you want to access by number, like row 0, column 1."
   ]
  },
  {
   "cell_type": "code",
   "execution_count": null,
   "id": "b10578e4-51ba-4e1f-b4df-8f4fed7787b7",
   "metadata": {},
   "outputs": [],
   "source": [
    "#How do you add a new column to a DataFrame?\n",
    "df['new_column_name'] = values\n"
   ]
  },
  {
   "cell_type": "code",
   "execution_count": null,
   "id": "bb7c9758-a1db-4f76-b2c5-d381aaaa5fdd",
   "metadata": {},
   "outputs": [],
   "source": [
    "#How do you rename columns in a DataFrame?\n",
    "df.rename(columns={'c_Name': 'column_name'}, inplace=True)"
   ]
  },
  {
   "cell_type": "code",
   "execution_count": null,
   "id": "60e04708-1d7f-439b-96a8-a568b828c65e",
   "metadata": {},
   "outputs": [],
   "source": [
    "#How do you drop rows or columns?\n",
    "#coulmn\n",
    "df.drop('column_name' , axis=1)\n",
    "#rOW\n",
    "df.drop(index_label, axis=0)"
   ]
  },
  {
   "cell_type": "code",
   "execution_count": null,
   "id": "94502392-a3d6-4d38-9a64-246beb3fcff9",
   "metadata": {},
   "outputs": [],
   "source": [
    "#How do you fill or drop missing values (NaN)?\n",
    "df.dropna(inplace=True)\n",
    "df.fillna(value, inplace=True)"
   ]
  },
  {
   "cell_type": "code",
   "execution_count": null,
   "id": "b3b0d7ea-e602-40f3-9f59-f6e719a70fe3",
   "metadata": {},
   "outputs": [],
   "source": [
    "#How do you change data types of columns?\n",
    "df['column_name'] = df['column_name'].astype(new_type)\n"
   ]
  }
 ],
 "metadata": {
  "kernelspec": {
   "display_name": "Python 3 (ipykernel)",
   "language": "python",
   "name": "python3"
  },
  "language_info": {
   "codemirror_mode": {
    "name": "ipython",
    "version": 3
   },
   "file_extension": ".py",
   "mimetype": "text/x-python",
   "name": "python",
   "nbconvert_exporter": "python",
   "pygments_lexer": "ipython3",
   "version": "3.12.7"
  }
 },
 "nbformat": 4,
 "nbformat_minor": 5
}
