{
 "cells": [
  {
   "cell_type": "code",
   "execution_count": null,
   "id": "2d48c14f-0e37-426f-9511-b7c13aee9c8e",
   "metadata": {},
   "outputs": [],
   "source": [
    "Create database Database_name[stduent];\n",
    "DDL => create table , create database,  drop, Alter \n",
    "DML=> select ,insert,update , delete\n",
    "create table Record(\n",
    "    Id int,\n",
    "    Name varchar(30),\n",
    "    Address varchar(30),\n",
    "    Phone char(10),\n",
    "    Fee decimal (6,2),\n",
    "    DOB date\n",
    "    );\n",
    "insert into Record (  [(Id, Name, Address,Phone, Fee, DOB)] =>optional part) values\n",
    "(101 , \"puja\" ,\"ktm\" , \"9862464340\", 500.00, \"1945-12-12\");\n",
    "\n",
    "\n",
    "select * from Record;\n",
    "\n",
    "\n",
    "\n",
    "\n"
   ]
  },
  {
   "cell_type": "code",
   "execution_count": null,
   "id": "0e0d5563-80ac-492c-992c-42281025f266",
   "metadata": {},
   "outputs": [],
   "source": [
    "Create table Account(\n",
    "    room_no int ,\n",
    "    name vaarchar(15));\n",
    "select * from Account;\n",
    "drop table account;\n",
    "truncate table Record;\n",
    "select * from Record;\n"
   ]
  }
 ],
 "metadata": {
  "kernelspec": {
   "display_name": "Python 3 (ipykernel)",
   "language": "python",
   "name": "python3"
  },
  "language_info": {
   "codemirror_mode": {
    "name": "ipython",
    "version": 3
   },
   "file_extension": ".py",
   "mimetype": "text/x-python",
   "name": "python",
   "nbconvert_exporter": "python",
   "pygments_lexer": "ipython3",
   "version": "3.12.7"
  }
 },
 "nbformat": 4,
 "nbformat_minor": 5
}
