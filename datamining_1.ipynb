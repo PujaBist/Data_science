{
 "cells": [
  {
   "cell_type": "code",
   "execution_count": null,
   "id": "4393934e-ef62-41c4-bf6b-aaa36ae43f44",
   "metadata": {},
   "outputs": [],
   "source": [
    "#Text-mining\n",
    "its all about text\n"
   ]
  },
  {
   "cell_type": "code",
   "execution_count": null,
   "id": "9d428d7e-261c-480b-881f-747774c356a2",
   "metadata": {},
   "outputs": [],
   "source": [
    "1. Structured data =>strict format is followed\n",
    "tabular=> row and columns\n",
    "2. Semi- structured data \n",
    "=> json file, xml file\n",
    "{\n",
    "    id :\n",
    "    name :\n",
    "    faculty :\n",
    "}\n",
    "xml file ma user define tag bauna sakinch \n",
    "tag means <id> <title>\n",
    "<end>\n",
    "3. Unstructured data=> audio, video, image text there is no any order\n",
    "No any format"
   ]
  },
  {
   "cell_type": "code",
   "execution_count": 1,
   "id": "502abc03-9b4a-4a5e-bc83-eb89e418b036",
   "metadata": {},
   "outputs": [],
   "source": [
    "text='''\n",
    "Artificial intelligence (AI) is the capability of computational systems to perform tasks typically associated with human intelligence, such as learning, reasoning, problem-solving, perception, and decision-making. It is a field of research in computer science that develops and studies methods and software that enable machines to perceive their environment and use learning and intelligence to take actions that maximize their chances of achieving defined goals.[1]\n",
    "\n",
    "High-profile applications of AI include advanced web search engines (e.g., Google Search); recommendation systems (used by YouTube, Amazon, and Netflix); virtual assistants (e.g., Google Assistant, Siri, and Alexa); autonomous vehicles (e.g., Waymo); generative and creative tools (e.g., language models and AI art); and superhuman play and analysis in strategy games (e.g., chess and Go). However, many AI applications are not perceived as AI: \"A lot of cutting edge AI has filtered into general applications, often without being called AI because once something becomes useful enough and common enough it's not labeled AI anymore.\"[2][3]\n",
    "\n",
    "Various subfields of AI research are centered around particular goals and the use of particular tools. The traditional goals of AI research include learning, reasoning, knowledge representation, planning, natural language processing, perception, and support for robotics.[a] To reach these goals, AI researchers have adapted and integrated a wide range of techniques, including search and mathematical optimization, formal logic, artificial neural networks, and methods based on statistics, operations research, and economics.[b] AI also draws upon psychology, linguistics, philosophy, neuroscience, and other fields.[4] Some companies, such as OpenAI, Google DeepMind and Meta,[5] aim to create artificial general intelligence (AGI)—AI that can complete virtually any cognitive task at least as well as a human.\n",
    "\n",
    "Artificial intelligence was founded as an academic discipline in 1956,[6] and the field went through multiple cycles of optimism throughout its history,[7][8] followed by periods of disappointment and loss of funding, known as AI winters.[9][10] Funding and interest vastly increased after 2012 when graphics processing units started being used to accelerate neural networks and deep learning outperformed previous AI techniques.[11] This growth accelerated further after 2017 with the transformer architecture.[12] In the 2020s, an ongoing period of rapid progress in advanced generative AI became known as the AI boom. Generative AI's ability to create and modify content has led to several unintended consequences and harms, while raising ethical concerns about AI's long-term effects and potential existential risks, prompting discussions about regulatory policies to ensure the safety and benefits of the technology.\n",
    "\n",
    "Goals\n",
    "The general problem of simulating (or creating) intelligence has been broken into subproblems. These consist of particular traits or capabilities that researchers expect an intelligent system to display. The traits described below have received the most attention and cover the scope of AI research.[a]\n",
    "\n",
    "Reasoning and problem-solving\n",
    "Early researchers developed algorithms that imitated step-by-step reasoning that humans use when they solve puzzles or make logical deductions.[13] By the late 1980s and 1990s, methods were developed for dealing with uncertain or incomplete information, employing concepts from probability and economics.[14]\n",
    "\n",
    "Many of these algorithms are insufficient for solving large reasoning problems because they experience a \"combinatorial explosion\": They become exponentially slower as the problems grow.[15] Even humans rarely use the step-by-step deduction that early AI research could model. They solve most of their problems using fast, intuitive judgments.[16] Accurate and efficient reasoning is an unsolved problem.\n",
    "'''"
   ]
  },
  {
   "cell_type": "code",
   "execution_count": 2,
   "id": "5b453865-dabc-4146-9bce-2946c5c8a314",
   "metadata": {},
   "outputs": [
    {
     "name": "stdout",
     "output_type": "stream",
     "text": [
      "\n",
      "Artificial intelligence (AI) is the capability of computational systems to perform tasks typically associated with human intelligence, such as learning, reasoning, problem-solving, perception, and decision-making. It is a field of research in computer science that develops and studies methods and software that enable machines to perceive their environment and use learning and intelligence to take actions that maximize their chances of achieving defined goals.[1]\n",
      "\n",
      "High-profile applications of AI include advanced web search engines (e.g., Google Search); recommendation systems (used by YouTube, Amazon, and Netflix); virtual assistants (e.g., Google Assistant, Siri, and Alexa); autonomous vehicles (e.g., Waymo); generative and creative tools (e.g., language models and AI art); and superhuman play and analysis in strategy games (e.g., chess and Go). However, many AI applications are not perceived as AI: \"A lot of cutting edge AI has filtered into general applications, often without being called AI because once something becomes useful enough and common enough it's not labeled AI anymore.\"[2][3]\n",
      "\n",
      "Various subfields of AI research are centered around particular goals and the use of particular tools. The traditional goals of AI research include learning, reasoning, knowledge representation, planning, natural language processing, perception, and support for robotics.[a] To reach these goals, AI researchers have adapted and integrated a wide range of techniques, including search and mathematical optimization, formal logic, artificial neural networks, and methods based on statistics, operations research, and economics.[b] AI also draws upon psychology, linguistics, philosophy, neuroscience, and other fields.[4] Some companies, such as OpenAI, Google DeepMind and Meta,[5] aim to create artificial general intelligence (AGI)—AI that can complete virtually any cognitive task at least as well as a human.\n",
      "\n",
      "Artificial intelligence was founded as an academic discipline in 1956,[6] and the field went through multiple cycles of optimism throughout its history,[7][8] followed by periods of disappointment and loss of funding, known as AI winters.[9][10] Funding and interest vastly increased after 2012 when graphics processing units started being used to accelerate neural networks and deep learning outperformed previous AI techniques.[11] This growth accelerated further after 2017 with the transformer architecture.[12] In the 2020s, an ongoing period of rapid progress in advanced generative AI became known as the AI boom. Generative AI's ability to create and modify content has led to several unintended consequences and harms, while raising ethical concerns about AI's long-term effects and potential existential risks, prompting discussions about regulatory policies to ensure the safety and benefits of the technology.\n",
      "\n",
      "Goals\n",
      "The general problem of simulating (or creating) intelligence has been broken into subproblems. These consist of particular traits or capabilities that researchers expect an intelligent system to display. The traits described below have received the most attention and cover the scope of AI research.[a]\n",
      "\n",
      "Reasoning and problem-solving\n",
      "Early researchers developed algorithms that imitated step-by-step reasoning that humans use when they solve puzzles or make logical deductions.[13] By the late 1980s and 1990s, methods were developed for dealing with uncertain or incomplete information, employing concepts from probability and economics.[14]\n",
      "\n",
      "Many of these algorithms are insufficient for solving large reasoning problems because they experience a \"combinatorial explosion\": They become exponentially slower as the problems grow.[15] Even humans rarely use the step-by-step deduction that early AI research could model. They solve most of their problems using fast, intuitive judgments.[16] Accurate and efficient reasoning is an unsolved problem.\n",
      "\n"
     ]
    }
   ],
   "source": [
    "print(text)"
   ]
  },
  {
   "cell_type": "code",
   "execution_count": null,
   "id": "f9ff45d0-ca16-486d-b04f-8f36406f2f63",
   "metadata": {},
   "outputs": [],
   "source": []
  },
  {
   "cell_type": "code",
   "execution_count": null,
   "id": "7678fe08-2177-4dad-bc52-4bdce7652404",
   "metadata": {},
   "outputs": [],
   "source": []
  },
  {
   "cell_type": "code",
   "execution_count": null,
   "id": "7308f456-378d-447d-beef-16d4265e9ae1",
   "metadata": {},
   "outputs": [],
   "source": [
    "\n",
    "with open (filename, mode, encoding) as var_name: => syntax\n",
    "    content =var.read()"
   ]
  },
  {
   "cell_type": "code",
   "execution_count": null,
   "id": "d064b169-f9a2-42be-9cb7-82060fac1f18",
   "metadata": {},
   "outputs": [],
   "source": [
    "# for reading file\n",
    "encoding is used for original  format as it is copy garney ho like emoji photo je ch tae  laidinch"
   ]
  },
  {
   "cell_type": "code",
   "execution_count": null,
   "id": "69d36f3b-a5c3-4791-bb86-09d356c5e34b",
   "metadata": {},
   "outputs": [],
   "source": [
    "Mode- prupose to open that file\n",
    "'r' : read mode\n",
    "'w' : write mode\n",
    "'a' : append mode (aleardy vako mode paxadi  bat add gardinch)\n",
    "'rb' : \n",
    "'wb' :"
   ]
  },
  {
   "cell_type": "code",
   "execution_count": 3,
   "id": "586698ee-5bdd-4d40-96ab-4b08b44e9a27",
   "metadata": {},
   "outputs": [],
   "source": [
    "with open ('text_mining.txt' , 'r' , encoding='utf-8') as file:\n",
    "    content =file.read()\n",
    "    "
   ]
  },
  {
   "cell_type": "code",
   "execution_count": 4,
   "id": "49ced463-d133-4188-a66a-3f6797f02075",
   "metadata": {},
   "outputs": [
    {
     "name": "stdout",
     "output_type": "stream",
     "text": [
      "Artificial intelligence (AI) is the capability of computational systems to perform tasks typically associated with human intelligence, such as learning, reasoning, problem-solving, perception, and decision-making. It is a field of research in computer science that develops and studies methods and software that enable machines to perceive their environment and use learning and intelligence to take actions that maximize their chances of achieving defined goals.[1]\n",
      "\n",
      "High-profile applications of AI include advanced web search engines (e.g., Google Search); recommendation systems (used by YouTube, Amazon, and Netflix); virtual assistants (e.g., Google Assistant, Siri, and Alexa); autonomous vehicles (e.g., Waymo); generative and creative tools (e.g., language models and AI art); and superhuman play and analysis in strategy games (e.g., chess and Go). However, many AI applications are not perceived as AI: \"A lot of cutting edge AI has filtered into general applications, often without being called AI because once something becomes useful enough and common enough it's not labeled AI anymore.\"[2][3]\n",
      "\n",
      "Various subfields of AI research are centered around particular goals and the use of particular tools. The traditional goals of AI research include learning, reasoning, knowledge representation, planning, natural language processing, perception, and support for robotics.[a] To reach these goals, AI researchers have adapted and integrated a wide range of techniques, including search and mathematical optimization, formal logic, artificial neural networks, and methods based on statistics, operations research, and economics.[b] AI also draws upon psychology, linguistics, philosophy, neuroscience, and other fields.[4] Some companies, such as OpenAI, Google DeepMind and Meta,[5] aim to create artificial general intelligence (AGI)—AI that can complete virtually any cognitive task at least as well as a human.\n",
      "\n",
      "Artificial intelligence was founded as an academic discipline in 1956,[6] and the field went through multiple cycles of optimism throughout its history,[7][8] followed by periods of disappointment and loss of funding, known as AI winters.[9][10] Funding and interest vastly increased after 2012 when graphics processing units started being used to accelerate neural networks and deep learning outperformed previous AI techniques.[11] This growth accelerated further after 2017 with the transformer architecture.[12] In the 2020s, an ongoing period of rapid progress in advanced generative AI became known as the AI boom. Generative AI's ability to create and modify content has led to several unintended consequences and harms, while raising ethical concerns about AI's long-term effects and potential existential risks, prompting discussions about regulatory policies to ensure the safety and benefits of the technology.\n",
      "\n",
      "Goals\n",
      "The general problem of simulating (or creating) intelligence has been broken into subproblems. These consist of particular traits or capabilities that researchers expect an intelligent system to display. The traits described below have received the most attention and cover the scope of AI research.[a]\n",
      "\n",
      "Reasoning and problem-solving\n",
      "Early researchers developed algorithms that imitated step-by-step reasoning that humans use when they solve puzzles or make logical deductions.[13] By the late 1980s and 1990s, methods were developed for dealing with uncertain or incomplete information, employing concepts from probability and economics.[14]\n",
      "\n",
      "Many of these algorithms are insufficient for solving large reasoning problems because they experience a \"combinatorial explosion\": They become exponentially slower as the problems grow.[15] Even humans rarely use the step-by-step deduction that early AI research could model. They solve most of their problems using fast, intuitive judgments.[16] Accurate and efficient reasoning is an unsolved problem.\n"
     ]
    }
   ],
   "source": [
    "print(content)"
   ]
  },
  {
   "cell_type": "code",
   "execution_count": null,
   "id": "ece6cd7f-561b-4938-b7a2-a9f1c56afd02",
   "metadata": {},
   "outputs": [],
   "source": [
    "utf-8 => this is one type of emcoding"
   ]
  },
  {
   "cell_type": "code",
   "execution_count": 8,
   "id": "8b2a09b9-5878-4174-92f9-41863f2e835f",
   "metadata": {},
   "outputs": [],
   "source": [
    "text='''\n",
    "  Accurate and efficient reasoning is an unsolved problem.'''"
   ]
  },
  {
   "cell_type": "code",
   "execution_count": 10,
   "id": "244f2671-cc2c-480f-a13f-cb09070af9f1",
   "metadata": {},
   "outputs": [],
   "source": [
    "with open ('textmini.txt' , 'w') as file:\n",
    "    file.write(text) #=> file exsiting xaen vnye it create file aslo"
   ]
  },
  {
   "cell_type": "code",
   "execution_count": null,
   "id": "bd7f53fc-4a94-48ac-841b-71ff661eb36c",
   "metadata": {},
   "outputs": [],
   "source": [
    "# append is used for adding some text  in which  file is already existing"
   ]
  },
  {
   "cell_type": "code",
   "execution_count": 9,
   "id": "5b8a9805-9a89-46a4-932f-eb5bf5c0e580",
   "metadata": {},
   "outputs": [],
   "source": [
    "with open ('textmini.txt' , 'w') as file:\n",
    "    file.write(text)# write => if we add some text by using wite mode it replace the whole code add that particular text only"
   ]
  },
  {
   "cell_type": "code",
   "execution_count": 11,
   "id": "9458dec1-8b1b-4797-a7ee-a98151843a7e",
   "metadata": {},
   "outputs": [],
   "source": [
    "text='''# append is used for adding some text  in which  file is already existing'''"
   ]
  },
  {
   "cell_type": "code",
   "execution_count": 12,
   "id": "13f3b176-2df1-475e-82db-6717f332f530",
   "metadata": {},
   "outputs": [],
   "source": [
    "# for append\n",
    "with open ('textmini.txt' , 'a') as file:\n",
    "    file.write(text) "
   ]
  },
  {
   "cell_type": "code",
   "execution_count": null,
   "id": "df305101-e4c3-4a7f-bf5e-42066622f4fc",
   "metadata": {},
   "outputs": [],
   "source": [
    "operations done in text miniing\n",
    "\n",
    "steps:\n",
    "1. Tokenization => 1 word = 1 token . Breaking down our entire texts into individual tokens\n",
    "2. Most frequent ==> most repated kun xh herna sakincha and display gardinch\n",
    "3. Punctuation removal (, . ? / \"; \")= > these are punctuations \n",
    "4. Stopwords removal ( a, an ,the , or , but ...... ) it removals all these stopwords means these are common in evry text\n",
    "5. stemming/lemmatizaation => back to root word : stemming : prefix => we use only root form\n",
    "    lemmatization : run , ran, running ,runs : run\n",
    "6. Pos tagging : (part of speech tagging ) "
   ]
  },
  {
   "cell_type": "code",
   "execution_count": null,
   "id": "84f18b3f-cf0a-4a3c-b881-f4caef131c03",
   "metadata": {},
   "outputs": [],
   "source": [
    "nltk\n",
    "spacy\n"
   ]
  },
  {
   "cell_type": "code",
   "execution_count": 13,
   "id": "c74d64fc-8b3d-41a3-b334-41a8a4967410",
   "metadata": {},
   "outputs": [
    {
     "name": "stdout",
     "output_type": "stream",
     "text": [
      "Requirement already satisfied: nltk in c:\\users\\admin\\anaconda3\\lib\\site-packages (3.9.1)\n",
      "Requirement already satisfied: click in c:\\users\\admin\\anaconda3\\lib\\site-packages (from nltk) (8.1.7)\n",
      "Requirement already satisfied: joblib in c:\\users\\admin\\anaconda3\\lib\\site-packages (from nltk) (1.4.2)\n",
      "Requirement already satisfied: regex>=2021.8.3 in c:\\users\\admin\\anaconda3\\lib\\site-packages (from nltk) (2024.9.11)\n",
      "Requirement already satisfied: tqdm in c:\\users\\admin\\anaconda3\\lib\\site-packages (from nltk) (4.66.5)\n",
      "Requirement already satisfied: colorama in c:\\users\\admin\\anaconda3\\lib\\site-packages (from click->nltk) (0.4.6)\n",
      "Note: you may need to restart the kernel to use updated packages.\n"
     ]
    }
   ],
   "source": [
    "pip install nltk\n"
   ]
  },
  {
   "cell_type": "code",
   "execution_count": null,
   "id": "548b7fa5-18d3-4292-94f7-ddaaef5fd8da",
   "metadata": {},
   "outputs": [],
   "source": []
  }
 ],
 "metadata": {
  "kernelspec": {
   "display_name": "Python 3 (ipykernel)",
   "language": "python",
   "name": "python3"
  },
  "language_info": {
   "codemirror_mode": {
    "name": "ipython",
    "version": 3
   },
   "file_extension": ".py",
   "mimetype": "text/x-python",
   "name": "python",
   "nbconvert_exporter": "python",
   "pygments_lexer": "ipython3",
   "version": "3.12.7"
  }
 },
 "nbformat": 4,
 "nbformat_minor": 5
}
