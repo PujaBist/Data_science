{
 "cells": [
  {
   "cell_type": "code",
   "execution_count": 52,
   "id": "985dc458-714d-47d0-8dd5-e952b45dc199",
   "metadata": {},
   "outputs": [
    {
     "name": "stdout",
     "output_type": "stream",
     "text": [
      "[7 6 8 3]\n"
     ]
    }
   ],
   "source": [
    "import numpy as np\n",
    "x=np.array([5,4,6,1])\n",
    "y=np.array([2,1,3,4])\n",
    "z=x+2\n",
    "print(z)"
   ]
  },
  {
   "cell_type": "code",
   "execution_count": 53,
   "id": "80a839d0-ad96-4e8c-a1d6-b28da4933b50",
   "metadata": {},
   "outputs": [
    {
     "data": {
      "text/plain": [
       "[5, 4, 6, 1, 2, 2, 2, 2]"
      ]
     },
     "execution_count": 53,
     "metadata": {},
     "output_type": "execute_result"
    }
   ],
   "source": [
    "#Broadcasting\n",
    "[5,4,6,1] + [2,2,2,2]"
   ]
  },
  {
   "cell_type": "code",
   "execution_count": 54,
   "id": "aa9dfb66-bff7-4807-a967-44a3af0bb2df",
   "metadata": {},
   "outputs": [
    {
     "name": "stdout",
     "output_type": "stream",
     "text": [
      "(4,)\n"
     ]
    }
   ],
   "source": [
    "#Reshaping\n",
    "print(x.shape)\n"
   ]
  },
  {
   "cell_type": "code",
   "execution_count": 55,
   "id": "873e2352-5e67-4fc3-bc75-949f8bc7e1c4",
   "metadata": {},
   "outputs": [
    {
     "data": {
      "text/plain": [
       "array([[5, 4],\n",
       "       [6, 1]])"
      ]
     },
     "execution_count": 55,
     "metadata": {},
     "output_type": "execute_result"
    }
   ],
   "source": [
    "x.reshape(2,2)"
   ]
  },
  {
   "cell_type": "code",
   "execution_count": 7,
   "id": "9eefc641-1450-4c6a-b3f6-5d4d0e0f40c9",
   "metadata": {},
   "outputs": [],
   "source": [
    "x=np.array([4,6,2,7,9,12]) # vector"
   ]
  },
  {
   "cell_type": "code",
   "execution_count": 8,
   "id": "1cd4135d-43ea-41d4-9de2-a5a907c54c99",
   "metadata": {},
   "outputs": [
    {
     "name": "stdout",
     "output_type": "stream",
     "text": [
      "(6,)\n"
     ]
    }
   ],
   "source": [
    "print(x.shape)"
   ]
  },
  {
   "cell_type": "code",
   "execution_count": null,
   "id": "ecb4edcc-93d0-41b8-81d4-6dc95b085719",
   "metadata": {},
   "outputs": [],
   "source": [
    "(3,2)\n",
    "(2,3)\n",
    "(1,6)\n",
    "(6,1)\n"
   ]
  },
  {
   "cell_type": "code",
   "execution_count": 10,
   "id": "7c22feee-7c08-450d-badd-abf365f94ff3",
   "metadata": {},
   "outputs": [
    {
     "data": {
      "text/plain": [
       "array([[ 4,  6],\n",
       "       [ 2,  7],\n",
       "       [ 9, 12]])"
      ]
     },
     "execution_count": 10,
     "metadata": {},
     "output_type": "execute_result"
    }
   ],
   "source": [
    "x.reshape(3,2)"
   ]
  },
  {
   "cell_type": "code",
   "execution_count": 11,
   "id": "d57d5f49-51f2-4697-903d-1cb456c88cf1",
   "metadata": {},
   "outputs": [
    {
     "data": {
      "text/plain": [
       "array([[ 4,  6,  2],\n",
       "       [ 7,  9, 12]])"
      ]
     },
     "execution_count": 11,
     "metadata": {},
     "output_type": "execute_result"
    }
   ],
   "source": [
    "x.reshape(2,3)"
   ]
  },
  {
   "cell_type": "code",
   "execution_count": 13,
   "id": "46b82d6b-9680-493a-8c49-40774088ad63",
   "metadata": {},
   "outputs": [
    {
     "name": "stdout",
     "output_type": "stream",
     "text": [
      "[[ 4  6  2  7  9 12]]\n"
     ]
    }
   ],
   "source": [
    "print(x.reshape(1,6)) # row matrix"
   ]
  },
  {
   "cell_type": "code",
   "execution_count": 14,
   "id": "63f2fe2f-e93c-45c4-91a3-ec31efdca8ab",
   "metadata": {},
   "outputs": [
    {
     "name": "stdout",
     "output_type": "stream",
     "text": [
      "[[ 4]\n",
      " [ 6]\n",
      " [ 2]\n",
      " [ 7]\n",
      " [ 9]\n",
      " [12]]\n"
     ]
    }
   ],
   "source": [
    "print(x.reshape(6,1)) # column matrix"
   ]
  },
  {
   "cell_type": "code",
   "execution_count": 15,
   "id": "a23e5f8e-3531-41a6-accd-63a3a6a8701c",
   "metadata": {},
   "outputs": [
    {
     "name": "stdout",
     "output_type": "stream",
     "text": [
      "[0. 0. 0. 0. 0.]\n"
     ]
    }
   ],
   "source": [
    "x=np.zeros(5)\n",
    "print(x)"
   ]
  },
  {
   "cell_type": "code",
   "execution_count": 25,
   "id": "ffb7e78b-5bba-4b72-82dc-fe25fbb9ab71",
   "metadata": {},
   "outputs": [
    {
     "name": "stdout",
     "output_type": "stream",
     "text": [
      "[5 6 2 7 9]\n",
      "[5 9 6 2 7]\n"
     ]
    }
   ],
   "source": [
    "x=np.array([5,6,2,7]) \n",
    "# to append elemnets at the last\n",
    "print(np.append(x,9))\n",
    "# to append elements at particular index\n",
    "# syntax => np.insert(array_name, index,elemnets)\n",
    "print(np.insert(x,1,9))\n",
    "x[1]=9"
   ]
  },
  {
   "cell_type": "code",
   "execution_count": 28,
   "id": "0e28ba5a-ed8a-437b-915e-62a255d8f0fb",
   "metadata": {},
   "outputs": [
    {
     "name": "stdout",
     "output_type": "stream",
     "text": [
      "[[0. 0. 0. 0. 0.]\n",
      " [0. 0. 0. 0. 0.]]\n"
     ]
    }
   ],
   "source": [
    "x=np.zeros((2,5))\n",
    "print(x)"
   ]
  },
  {
   "cell_type": "code",
   "execution_count": 29,
   "id": "869aba9b-df85-4944-b63c-d9b449561f09",
   "metadata": {},
   "outputs": [
    {
     "name": "stdout",
     "output_type": "stream",
     "text": [
      "[[0. 0. 0. 0. 0.]\n",
      " [0. 0. 0. 0. 0.]]\n"
     ]
    }
   ],
   "source": [
    "x=np.zeros(10).reshape(2,5)\n",
    "print(x)"
   ]
  },
  {
   "cell_type": "code",
   "execution_count": 30,
   "id": "6be06436-32d8-459f-9477-f8242e1ff120",
   "metadata": {},
   "outputs": [
    {
     "name": "stdout",
     "output_type": "stream",
     "text": [
      "[1. 1. 1. 1. 1.]\n"
     ]
    }
   ],
   "source": [
    "x=np.ones(5)\n",
    "print(x)"
   ]
  },
  {
   "cell_type": "code",
   "execution_count": 31,
   "id": "79043b70-3eda-4653-9bec-6da76948a345",
   "metadata": {},
   "outputs": [
    {
     "name": "stdout",
     "output_type": "stream",
     "text": [
      "[5 5 5 5 5 5 5]\n"
     ]
    }
   ],
   "source": [
    "# np.full()\n",
    "z=np.full(7,5)\n",
    "print(z)"
   ]
  },
  {
   "cell_type": "code",
   "execution_count": 33,
   "id": "d97c5caa-db37-47f4-92d3-e33ff51c7f8b",
   "metadata": {},
   "outputs": [
    {
     "name": "stdout",
     "output_type": "stream",
     "text": [
      "[[7 7 7]\n",
      " [7 7 7]]\n"
     ]
    }
   ],
   "source": [
    "z=np.full((2,3),7)\n",
    "print(z)"
   ]
  },
  {
   "cell_type": "code",
   "execution_count": 37,
   "id": "6f385456-2ffd-4e0b-9942-3f72d1da7f9a",
   "metadata": {},
   "outputs": [
    {
     "name": "stdout",
     "output_type": "stream",
     "text": [
      "[[2 4]\n",
      " [6 8]]\n"
     ]
    }
   ],
   "source": [
    "# np.arrange\n",
    "x=np.arange(2,10,2).reshape(2,2)   # syntax=> np.arange(start,stop,step) \n",
    "print(x)"
   ]
  },
  {
   "cell_type": "code",
   "execution_count": 38,
   "id": "0136d012-b106-4a4b-9eb3-278242fe2d7a",
   "metadata": {},
   "outputs": [
    {
     "name": "stdout",
     "output_type": "stream",
     "text": [
      "[ 1.    3.25  5.5   7.75 10.  ]\n"
     ]
    }
   ],
   "source": [
    "#np.linspace\n",
    "x=np.linspace(1,10,5) # syntax => np.linspace(start,stop, no of elements)\n",
    "print(x)\n"
   ]
  },
  {
   "cell_type": "code",
   "execution_count": 39,
   "id": "d833ab90-a203-40e0-ad29-5bc5a910ac73",
   "metadata": {},
   "outputs": [
    {
     "name": "stdout",
     "output_type": "stream",
     "text": [
      "[ 1.          1.64285714  2.28571429  2.92857143  3.57142857  4.21428571\n",
      "  4.85714286  5.5         6.14285714  6.78571429  7.42857143  8.07142857\n",
      "  8.71428571  9.35714286 10.        ]\n"
     ]
    }
   ],
   "source": [
    "#np.linspace\n",
    "x=np.linspace(1,10,15) # syntax => np.linspace(start,stop, no of elements)\n",
    "print(x)\n"
   ]
  },
  {
   "cell_type": "code",
   "execution_count": 41,
   "id": "69d409cd-9f6c-49a5-92c4-98c5d9eace49",
   "metadata": {},
   "outputs": [
    {
     "name": "stdout",
     "output_type": "stream",
     "text": [
      "[0.96755256 0.09722016 0.67702567 0.3861993  0.08023806 0.53006215]\n"
     ]
    }
   ],
   "source": [
    "x=np.random.random(6)    #genraetes random number between 0 t0 1 \n",
    "# syntax=> np.random.random(no_of_elements)\n",
    "print(x)"
   ]
  },
  {
   "cell_type": "code",
   "execution_count": 43,
   "id": "b5e4acfa-e417-4fa7-9db4-fc4977723433",
   "metadata": {},
   "outputs": [
    {
     "name": "stdout",
     "output_type": "stream",
     "text": [
      "[[0.14402183 0.64852159]\n",
      " [0.52493757 0.98872516]\n",
      " [0.00460269 0.50968463]\n",
      " [0.89416489 0.04000989]\n",
      " [0.85984738 0.84457235]]\n"
     ]
    }
   ],
   "source": [
    "x=np.random.random((5,2) )\n",
    "print(x)"
   ]
  },
  {
   "cell_type": "code",
   "execution_count": 45,
   "id": "c6399daf-7cec-44ee-9c8b-d4c2429bc4b7",
   "metadata": {},
   "outputs": [
    {
     "name": "stdout",
     "output_type": "stream",
     "text": [
      "[4 5 3 6 5]\n"
     ]
    }
   ],
   "source": [
    "x=np.random.randint(0,10,5)   # synatx np.random.randint(start , stop_range , size=kati ota number chayo herney)\n",
    "print(x)"
   ]
  },
  {
   "cell_type": "code",
   "execution_count": 46,
   "id": "6fab20ba-5f6b-4858-b1d0-8cd223b13a83",
   "metadata": {},
   "outputs": [
    {
     "name": "stdout",
     "output_type": "stream",
     "text": [
      "[2 7 2 4 2 6 8 3 6 1 2 2 7 1 1]\n"
     ]
    }
   ],
   "source": [
    "x=np.random.randint(0,10,15)   # synatx np.random.randint(start , stop_range , size=kati ota number chayo herney)\n",
    "print(x)"
   ]
  },
  {
   "cell_type": "code",
   "execution_count": 50,
   "id": "d80fa482-d354-4e7d-85a6-4fc190c3b6ba",
   "metadata": {},
   "outputs": [
    {
     "name": "stdout",
     "output_type": "stream",
     "text": [
      "[2.48275144 1.974712   4.40989137 6.10985571 7.96694676]\n"
     ]
    }
   ],
   "source": [
    "z=np.random.uniform(0,10,5) # syntax np.random.uniform(start_range, stop_range, size=kati ota number )\n",
    "# it generates only float\n",
    "print(z)"
   ]
  },
  {
   "cell_type": "code",
   "execution_count": null,
   "id": "76abba2d-9cd4-4b3d-9c11-b75177b4ab1c",
   "metadata": {},
   "outputs": [],
   "source": []
  }
 ],
 "metadata": {
  "kernelspec": {
   "display_name": "Python 3 (ipykernel)",
   "language": "python",
   "name": "python3"
  },
  "language_info": {
   "codemirror_mode": {
    "name": "ipython",
    "version": 3
   },
   "file_extension": ".py",
   "mimetype": "text/x-python",
   "name": "python",
   "nbconvert_exporter": "python",
   "pygments_lexer": "ipython3",
   "version": "3.13.0"
  }
 },
 "nbformat": 4,
 "nbformat_minor": 5
}
