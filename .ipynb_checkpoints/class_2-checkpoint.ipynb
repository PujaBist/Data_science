{
 "cells": [
  {
   "cell_type": "markdown",
   "id": "547650e6-69dc-4380-8f4b-a21a35d66bdb",
   "metadata": {},
   "source": [
    "# Atrributes\n",
    "- .shape\n",
    "- .size\n",
    "- .ndim\n",
    "- .dtype\n"
   ]
  },
  {
   "cell_type": "code",
   "execution_count": 1,
   "id": "e41cfff2-1e4c-4142-8c28-eec06b59ce38",
   "metadata": {},
   "outputs": [
    {
     "name": "stdout",
     "output_type": "stream",
     "text": [
      "[5 6 7 8 9 3]\n"
     ]
    }
   ],
   "source": [
    "import numpy as np\n",
    "x=np.array([5,6,7,8,9,3])\n",
    "print(x)"
   ]
  },
  {
   "cell_type": "code",
   "execution_count": 2,
   "id": "cfea6a4c-a341-4226-ac25-cec37c0fa722",
   "metadata": {},
   "outputs": [
    {
     "name": "stdout",
     "output_type": "stream",
     "text": [
      "(6,)\n"
     ]
    }
   ],
   "source": [
    "#shape => no of elements\n",
    "print(x.shape)"
   ]
  },
  {
   "cell_type": "code",
   "execution_count": 8,
   "id": "090e001d-f4ed-4999-a4b5-0a0f96e61240",
   "metadata": {},
   "outputs": [
    {
     "name": "stdout",
     "output_type": "stream",
     "text": [
      "6\n"
     ]
    }
   ],
   "source": [
    "# size => no of elements\n",
    "print(x.size)"
   ]
  },
  {
   "cell_type": "code",
   "execution_count": 10,
   "id": "9437df42-87ff-404c-a77e-5e578e19cc3b",
   "metadata": {},
   "outputs": [
    {
     "name": "stdout",
     "output_type": "stream",
     "text": [
      "1\n"
     ]
    }
   ],
   "source": [
    "#ndim=> no of dimension\n",
    "print(x.ndim)"
   ]
  },
  {
   "cell_type": "code",
   "execution_count": 3,
   "id": "e7c05b39-8409-494b-a17b-90138284e94e",
   "metadata": {},
   "outputs": [
    {
     "name": "stdout",
     "output_type": "stream",
     "text": [
      "int64\n"
     ]
    }
   ],
   "source": [
    "print(x.dtype)"
   ]
  },
  {
   "cell_type": "code",
   "execution_count": 6,
   "id": "61aed6d8-b523-4158-bf08-2918531f6578",
   "metadata": {},
   "outputs": [
    {
     "name": "stdout",
     "output_type": "stream",
     "text": [
      "[[5 4 3]\n",
      " [9 7 6]]\n",
      "(2, 3)\n"
     ]
    }
   ],
   "source": [
    "mat=np.array([[5,4,3],\n",
    "              [9,7,6]])\n",
    "print(mat)\n",
    "print(mat.shape)"
   ]
  },
  {
   "cell_type": "code",
   "execution_count": 7,
   "id": "05bf5905-b5b3-4eb7-b2e5-7923ae8416c2",
   "metadata": {},
   "outputs": [
    {
     "name": "stdout",
     "output_type": "stream",
     "text": [
      "6\n"
     ]
    }
   ],
   "source": [
    "print(mat.size)"
   ]
  },
  {
   "cell_type": "code",
   "execution_count": 11,
   "id": "900ec4eb-aa08-447e-9816-6a52ce642976",
   "metadata": {},
   "outputs": [
    {
     "name": "stdout",
     "output_type": "stream",
     "text": [
      "2\n"
     ]
    }
   ],
   "source": [
    "print(mat.ndim)"
   ]
  },
  {
   "cell_type": "code",
   "execution_count": 6,
   "id": "9d808ce3-7901-4435-88dd-08835be93e28",
   "metadata": {},
   "outputs": [
    {
     "name": "stdout",
     "output_type": "stream",
     "text": [
      "This is 3D :  [[[1 2]\n",
      "  [3 4]]\n",
      "\n",
      " [[5 6]\n",
      "  [7 8]]]\n"
     ]
    }
   ],
   "source": [
    "mat=np.array([[[1,2],[3,4]],[[5,6],[7,8]]])\n",
    "print(\"This is 3D : \",mat)"
   ]
  },
  {
   "cell_type": "markdown",
   "id": "61fec970-969d-4646-a4f6-ef9f4e98faff",
   "metadata": {},
   "source": [
    "# Slicing/indexing"
   ]
  },
  {
   "cell_type": "code",
   "execution_count": 18,
   "id": "1662d773-9948-420b-b477-e706c1194e59",
   "metadata": {},
   "outputs": [
    {
     "name": "stdout",
     "output_type": "stream",
     "text": [
      "[ 5  7  2  9 10]\n"
     ]
    }
   ],
   "source": [
    "#indexing\n",
    "x=np.array([5,7,2,9,10])\n",
    "print(x)"
   ]
  },
  {
   "cell_type": "code",
   "execution_count": 20,
   "id": "7097ac88-a9fe-4ca3-97ab-99c92ba5ef2f",
   "metadata": {},
   "outputs": [
    {
     "name": "stdout",
     "output_type": "stream",
     "text": [
      "5\n"
     ]
    }
   ],
   "source": [
    "print(x[0])"
   ]
  },
  {
   "cell_type": "code",
   "execution_count": 21,
   "id": "f952015f-cfa3-4d16-a452-03eef8f6df71",
   "metadata": {},
   "outputs": [
    {
     "name": "stdout",
     "output_type": "stream",
     "text": [
      "10\n"
     ]
    }
   ],
   "source": [
    "print(x[-1])\n",
    "'-' helps in time complexity"
   ]
  },
  {
   "cell_type": "code",
   "execution_count": 22,
   "id": "336875d6-dbdc-4d52-b2ef-810cfde1fa64",
   "metadata": {},
   "outputs": [
    {
     "name": "stdout",
     "output_type": "stream",
     "text": [
      "[5 7 2]\n"
     ]
    }
   ],
   "source": [
    "## slicing\n",
    "# syntax : x[startindex: stopindex : increment/decrement]\n",
    "# stopindex is exclusive\n",
    "x=np.array([5,7,2,9,10])\n",
    "print(x[ 0: 3])"
   ]
  },
  {
   "cell_type": "code",
   "execution_count": null,
   "id": "f52a8e73-d43d-4b25-865b-4419200621de",
   "metadata": {},
   "outputs": [],
   "source": [
    " # syntax : x[startidex : stopindex : step] \n",
    "# By Defualt step=1"
   ]
  },
  {
   "cell_type": "code",
   "execution_count": 24,
   "id": "222b876f-7990-487d-bcec-b4f101fd6bc1",
   "metadata": {},
   "outputs": [
    {
     "name": "stdout",
     "output_type": "stream",
     "text": [
      "[ 5  2 10]\n"
     ]
    }
   ],
   "source": [
    "x=np.array([5,7,2,9,10])\n",
    "print(x[: 5 : 2])"
   ]
  },
  {
   "cell_type": "code",
   "execution_count": 25,
   "id": "6915cf09-7167-4e74-95de-dad26db84fc2",
   "metadata": {},
   "outputs": [
    {
     "data": {
      "text/plain": [
       "array([ 5,  7,  2,  9, 10])"
      ]
     },
     "execution_count": 25,
     "metadata": {},
     "output_type": "execute_result"
    }
   ],
   "source": [
    "x[ : : -1]"
   ]
  },
  {
   "cell_type": "code",
   "execution_count": 29,
   "id": "70f97d8b-d3dc-4e21-ab14-1503405e0ed4",
   "metadata": {},
   "outputs": [
    {
     "data": {
      "text/plain": [
       "array([10,  9,  2,  7,  5])"
      ]
     },
     "execution_count": 29,
     "metadata": {},
     "output_type": "execute_result"
    }
   ],
   "source": [
    "x [-1 : -6 :-1]"
   ]
  },
  {
   "cell_type": "code",
   "execution_count": 30,
   "id": "e2199d33-7d74-4140-bb6d-28b06caf0883",
   "metadata": {},
   "outputs": [
    {
     "data": {
      "text/plain": [
       "array([10,  9,  2,  7,  5])"
      ]
     },
     "execution_count": 30,
     "metadata": {},
     "output_type": "execute_result"
    }
   ],
   "source": [
    "x[ : : -1]"
   ]
  },
  {
   "cell_type": "code",
   "execution_count": 31,
   "id": "6101eca9-a5bd-4c5c-a6f1-56235414e26e",
   "metadata": {},
   "outputs": [
    {
     "data": {
      "text/plain": [
       "array([7, 2, 9])"
      ]
     },
     "execution_count": 31,
     "metadata": {},
     "output_type": "execute_result"
    }
   ],
   "source": [
    "x[1 :-1] "
   ]
  },
  {
   "cell_type": "code",
   "execution_count": 33,
   "id": "bcf3836a-2f54-452d-ac7f-66a5025f091e",
   "metadata": {},
   "outputs": [
    {
     "data": {
      "text/plain": [
       "array([9, 2])"
      ]
     },
     "execution_count": 33,
     "metadata": {},
     "output_type": "execute_result"
    }
   ],
   "source": [
    "x[-2: 1 : -1]"
   ]
  },
  {
   "cell_type": "code",
   "execution_count": 36,
   "id": "9ad92056-97a5-4941-9324-ff39de1a7449",
   "metadata": {},
   "outputs": [
    {
     "name": "stdout",
     "output_type": "stream",
     "text": [
      "[ 5  7  2  9 10]\n"
     ]
    }
   ],
   "source": [
    "#modifying\n",
    "print(x)"
   ]
  },
  {
   "cell_type": "code",
   "execution_count": 40,
   "id": "cd587195-e453-4b98-bfb7-3ce9ec8c51e0",
   "metadata": {},
   "outputs": [
    {
     "name": "stdout",
     "output_type": "stream",
     "text": [
      "[ 5  7  1 12 10]\n"
     ]
    }
   ],
   "source": [
    "x[2]=1\n",
    "print(x)"
   ]
  },
  {
   "cell_type": "code",
   "execution_count": 35,
   "id": "113f04a5-f0cf-4f43-a04e-1f76fb90dd2a",
   "metadata": {},
   "outputs": [
    {
     "name": "stdout",
     "output_type": "stream",
     "text": [
      "[5 7 2]\n"
     ]
    }
   ],
   "source": [
    "y=x[0:3]\n",
    "print(y)"
   ]
  },
  {
   "cell_type": "code",
   "execution_count": 41,
   "id": "6f4b8653-b8fc-4439-b883-1e7ba8ecc6c3",
   "metadata": {},
   "outputs": [
    {
     "name": "stdout",
     "output_type": "stream",
     "text": [
      "[15  7  1]\n"
     ]
    }
   ],
   "source": [
    "y[0]=15\n",
    "print(y)"
   ]
  },
  {
   "cell_type": "code",
   "execution_count": 42,
   "id": "5e5d67ec-b7d2-4fe6-9e52-9759857a2728",
   "metadata": {},
   "outputs": [
    {
     "name": "stdout",
     "output_type": "stream",
     "text": [
      "[15  7  1 12 10]\n"
     ]
    }
   ],
   "source": [
    "print(x)"
   ]
  },
  {
   "cell_type": "code",
   "execution_count": null,
   "id": "ffd27d98-cb48-4c48-a7e5-792a9b874db5",
   "metadata": {},
   "outputs": [],
   "source": [
    "#copy  view"
   ]
  },
  {
   "cell_type": "code",
   "execution_count": 50,
   "id": "b060383f-2f52-4908-b197-3126957cf989",
   "metadata": {},
   "outputs": [],
   "source": [
    "x=np.array([5,7,2,9,10])"
   ]
  },
  {
   "cell_type": "code",
   "execution_count": 51,
   "id": "a1b4c5fa-f838-4a92-88f5-0ee024954825",
   "metadata": {},
   "outputs": [
    {
     "name": "stdout",
     "output_type": "stream",
     "text": [
      "[5 7 2]\n"
     ]
    }
   ],
   "source": [
    "#independent of x\n",
    "y=x[0:3].copy()\n",
    "print(y)"
   ]
  },
  {
   "cell_type": "code",
   "execution_count": 52,
   "id": "af03b951-b7c1-41f9-a37b-192620c959b4",
   "metadata": {},
   "outputs": [
    {
     "name": "stdout",
     "output_type": "stream",
     "text": [
      "[25  7  2]\n"
     ]
    }
   ],
   "source": [
    "y[0]=25\n",
    "print(y)"
   ]
  },
  {
   "cell_type": "code",
   "execution_count": 53,
   "id": "a38433c8-28aa-4c60-8322-46a87a92fd93",
   "metadata": {},
   "outputs": [
    {
     "name": "stdout",
     "output_type": "stream",
     "text": [
      "[ 5  7  2  9 10]\n"
     ]
    }
   ],
   "source": [
    "print(x)"
   ]
  },
  {
   "cell_type": "code",
   "execution_count": null,
   "id": "fcc1e10b-19f3-487d-940a-b02e38054276",
   "metadata": {},
   "outputs": [],
   "source": [
    "#functions\n",
    "np.sum()\n",
    "np.prod()\n",
    "\n",
    "np.min()\n",
    "np.max()\n",
    "\n",
    "np.mean()\n",
    "np.std()\n",
    "np.median()\n",
    "np.sort()\n",
    "np.unique()"
   ]
  },
  {
   "cell_type": "code",
   "execution_count": 89,
   "id": "b7e53df8-6bf3-49cb-b1a8-dfec2713e36e",
   "metadata": {},
   "outputs": [],
   "source": [
    "x=np.array([5,7,8,2,9,15])\n"
   ]
  },
  {
   "cell_type": "code",
   "execution_count": 59,
   "id": "a2bfb09e-de61-4183-8a0b-c085f4ebb474",
   "metadata": {},
   "outputs": [
    {
     "name": "stdout",
     "output_type": "stream",
     "text": [
      "46\n"
     ]
    }
   ],
   "source": [
    "sum=np.sum(x)\n",
    "print(sum)"
   ]
  },
  {
   "cell_type": "code",
   "execution_count": 60,
   "id": "355e702b-9e9a-4da0-8d55-349cbe609a54",
   "metadata": {},
   "outputs": [
    {
     "name": "stdout",
     "output_type": "stream",
     "text": [
      "75600\n"
     ]
    }
   ],
   "source": [
    "prod=np.prod(x)\n",
    "print(prod)"
   ]
  },
  {
   "cell_type": "code",
   "execution_count": 61,
   "id": "87855e44-c412-4231-a401-d84927ca0597",
   "metadata": {},
   "outputs": [
    {
     "name": "stdout",
     "output_type": "stream",
     "text": [
      "2\n"
     ]
    }
   ],
   "source": [
    "min=np.min(x)\n",
    "print(min)"
   ]
  },
  {
   "cell_type": "code",
   "execution_count": 62,
   "id": "64483429-e41f-46c6-99dd-c38c5e2b234d",
   "metadata": {},
   "outputs": [
    {
     "name": "stdout",
     "output_type": "stream",
     "text": [
      "15\n"
     ]
    }
   ],
   "source": [
    "max=np.max(x)\n",
    "print(max)"
   ]
  },
  {
   "cell_type": "code",
   "execution_count": 7,
   "id": "18f92e01-dac0-4e35-971e-f1a67c551514",
   "metadata": {},
   "outputs": [
    {
     "name": "stdout",
     "output_type": "stream",
     "text": [
      "Avg :  6.33\n"
     ]
    }
   ],
   "source": [
    "mean=np.mean(x)\n",
    "print(f'Avg : {mean : .2f}')\n"
   ]
  },
  {
   "cell_type": "code",
   "execution_count": 64,
   "id": "3ee54b9b-9de5-4c3c-a851-eac46ea0b8d0",
   "metadata": {},
   "outputs": [
    {
     "name": "stdout",
     "output_type": "stream",
     "text": [
      "7.5\n"
     ]
    }
   ],
   "source": [
    "median=np.median(x)\n",
    "print(median)"
   ]
  },
  {
   "cell_type": "code",
   "execution_count": 67,
   "id": "8440b6b8-0e3f-4cef-93a1-3c3cd47c1752",
   "metadata": {},
   "outputs": [
    {
     "name": "stdout",
     "output_type": "stream",
     "text": [
      "[ 2  5  7  8  9 15]\n"
     ]
    }
   ],
   "source": [
    "s=np.sort(x)\n",
    "print(s)"
   ]
  },
  {
   "cell_type": "code",
   "execution_count": null,
   "id": "6f62cee0-fe45-4c55-9ade-cc67930f8fcc",
   "metadata": {},
   "outputs": [],
   "source": [
    "s=np.sort(x)[ : : -1]\n",
    "print(s)\n",
    "help(np.sort)"
   ]
  },
  {
   "cell_type": "code",
   "execution_count": 78,
   "id": "1e038d5d-9793-4944-b321-0082f379402c",
   "metadata": {},
   "outputs": [
    {
     "name": "stdout",
     "output_type": "stream",
     "text": [
      "3.986086914367133\n"
     ]
    }
   ],
   "source": [
    "sd=np.std(x)\n",
    "print(sd)"
   ]
  },
  {
   "cell_type": "code",
   "execution_count": 88,
   "id": "6e75852d-548d-44cc-b8df-71e1feb8696c",
   "metadata": {},
   "outputs": [
    {
     "name": "stdout",
     "output_type": "stream",
     "text": [
      "[ 2  5  7  8  9 15]\n"
     ]
    }
   ],
   "source": [
    "u=np.unique(x)\n",
    "print(u)"
   ]
  },
  {
   "cell_type": "code",
   "execution_count": null,
   "id": "07e48b45-9041-4a29-b659-fe209d604461",
   "metadata": {},
   "outputs": [],
   "source": [
    "# array arithmetic\n",
    "np.add()\n",
    "np.multiply()\n",
    "np.divide()\n",
    "np.floor_divide()\n",
    "np.mod()\n",
    "np.power()\n",
    "np.sqrt()\n"
   ]
  },
  {
   "cell_type": "code",
   "execution_count": 93,
   "id": "45952f80-76bc-468b-ae48-5181a9b9fffd",
   "metadata": {},
   "outputs": [
    {
     "name": "stdout",
     "output_type": "stream",
     "text": [
      "[7 5 9 5]\n"
     ]
    }
   ],
   "source": [
    "x=np.array([5,4,6,1])\n",
    "y=np.array([2,1,3,4])\n",
    "z=np.add(x,y)\n",
    "print(z)"
   ]
  },
  {
   "cell_type": "code",
   "execution_count": 95,
   "id": "0bcb2078-dd69-422e-a2c8-a260d24df28c",
   "metadata": {},
   "outputs": [
    {
     "name": "stdout",
     "output_type": "stream",
     "text": [
      "[7 5 9 5]\n"
     ]
    }
   ],
   "source": [
    "z=x+y\n",
    "print(z)"
   ]
  },
  {
   "cell_type": "code",
   "execution_count": 94,
   "id": "b2f89065-61ce-483f-bc9a-0bef13afbef2",
   "metadata": {},
   "outputs": [
    {
     "name": "stdout",
     "output_type": "stream",
     "text": [
      "[10  4 18  4]\n"
     ]
    }
   ],
   "source": [
    "x=np.array([5,4,6,1])\n",
    "y=np.array([2,1,3,4])\n",
    "z=np.multiply(x,y)\n",
    "print(z)"
   ]
  },
  {
   "cell_type": "code",
   "execution_count": 96,
   "id": "e16419a3-fdb6-4dab-bb52-b1a89b141565",
   "metadata": {},
   "outputs": [
    {
     "name": "stdout",
     "output_type": "stream",
     "text": [
      "[2.5  4.   2.   0.25]\n"
     ]
    }
   ],
   "source": [
    "x=np.array([5,4,6,1])\n",
    "y=np.array([2,1,3,4])\n",
    "z=np.divide(x,y)\n",
    "print(z)"
   ]
  },
  {
   "cell_type": "code",
   "execution_count": 97,
   "id": "9b48fc0c-e4bb-4350-8ca3-990092a73963",
   "metadata": {},
   "outputs": [
    {
     "name": "stdout",
     "output_type": "stream",
     "text": [
      "[2 4 2 0]\n"
     ]
    }
   ],
   "source": [
    "x=np.array([5,4,6,1])\n",
    "y=np.array([2,1,3,4])\n",
    "z=np.floor_divide(x,y)\n",
    "print(z)"
   ]
  },
  {
   "cell_type": "code",
   "execution_count": 98,
   "id": "9e95adb7-1dc0-4335-adc1-26fa649f1998",
   "metadata": {},
   "outputs": [
    {
     "name": "stdout",
     "output_type": "stream",
     "text": [
      "[1 0 0 1]\n"
     ]
    }
   ],
   "source": [
    "x=np.array([5,4,6,1])\n",
    "y=np.array([2,1,3,4])\n",
    "z=np.mod(x,y)\n",
    "print(z)"
   ]
  },
  {
   "cell_type": "code",
   "execution_count": 100,
   "id": "f70e6634-ebb8-492b-9d1d-617682ca69d7",
   "metadata": {},
   "outputs": [
    {
     "name": "stdout",
     "output_type": "stream",
     "text": [
      "[ 25   4 216   1]\n"
     ]
    }
   ],
   "source": [
    "x=np.array([5,4,6,1])\n",
    "y=np.array([2,1,3,4])\n",
    "z=np.power(x,y)\n",
    "print(z)"
   ]
  },
  {
   "cell_type": "code",
   "execution_count": 107,
   "id": "6a204992-dd79-4005-8852-099515d48492",
   "metadata": {},
   "outputs": [
    {
     "name": "stdout",
     "output_type": "stream",
     "text": [
      "[2.23606798 2.         2.44948974 1.        ]\n",
      "[1.41421356 1.         1.73205081 2.        ]\n"
     ]
    }
   ],
   "source": [
    "x=np.array([5,4,6,1])\n",
    "y=np.array([2,1,3,4])\n",
    "z=np.sqrt(x)\n",
    "print(z)\n",
    "z=np.sqrt(y)\n",
    "print(z)\n"
   ]
  }
 ],
 "metadata": {
  "kernelspec": {
   "display_name": "Python 3 (ipykernel)",
   "language": "python",
   "name": "python3"
  },
  "language_info": {
   "codemirror_mode": {
    "name": "ipython",
    "version": 3
   },
   "file_extension": ".py",
   "mimetype": "text/x-python",
   "name": "python",
   "nbconvert_exporter": "python",
   "pygments_lexer": "ipython3",
   "version": "3.13.0"
  }
 },
 "nbformat": 4,
 "nbformat_minor": 5
}
