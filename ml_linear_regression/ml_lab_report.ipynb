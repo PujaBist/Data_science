{
 "cells": [
  {
   "cell_type": "markdown",
   "id": "f7dcf27b-7d35-4a96-8056-6dfc3f5642df",
   "metadata": {},
   "source": [
    "## Text editor vs IDE\n",
    " ##### A text editor is a lightweight tool primarily used for writing and editing code or text. Examples include Notepad++, Sublime Text, or VS Code.\n",
    " ##### An IDE, or Integrated Development Environment, is a more powerful tool that not only allows you to write code but also includes features like debugging, code suggestions, auto-completion, version control integration, and built-in terminal support. Examples include PyCharm, IntelliJ IDEA, Eclipse, and even VS Code when enhanced with extensions.\n",
    "###### So, while a text editor is great for small projects or quick edits, an IDE is better suited for larger projects where development efficiency, debugging, and project management are crucial.\""
   ]
  },
  {
   "cell_type": "markdown",
   "id": "40e3879b-64ac-4a21-aa86-16223cb36ae6",
   "metadata": {},
   "source": [
    "## py \n",
    "##### A .py file is a plain Python script—it contains lines of Python code that can be executed from start to finish. It's ideal for building full applications, scripts, or modules. It's also easier to version control and integrates well with most IDEs.\n",
    "## ipynb\n",
    "##### a .ipynb file stands for IPython Notebook, used in Jupyter Notebooks. It allows you to write code in cells, along with formatted text, images, equations, and output below each cell. This is especially helpful in data science, machine learning, and teaching, where step-by-step explanation and visualization matter."
   ]
  },
  {
   "cell_type": "markdown",
   "id": "79372c0c-ad1f-46c8-b8f9-072153af60df",
   "metadata": {},
   "source": [
    "## Different types of data structure in python\n",
    "#### Numeric Types\n",
    "###### int – for integers like 5, 100, -3\n",
    "###### float – for decimal numbers like 3.14, -0.5\n",
    "###### complex – for complex numbers like 3 + 4j\n",
    "#### Text Type\n",
    "###### str – for strings like 'Hello', \"Python\"\n",
    "#### Sequence Types\n",
    "###### list – ordered, mutable, e.g., [1, 2, 3]\n",
    "###### tuple – ordered, immutable, e.g., (1, 2, 3)\n",
    "###### range – sequence of numbers, often used in loops\n",
    "#### Set Types\n",
    "###### set – unordered, unique elements, e.g., {1, 2, 3}\n",
    "###### rozenset – like set, but immutable\n",
    "#### Mapping Type\n",
    "###### dict – key-value pairs, e.g., {\"name\": \"Puja\", \"age\": 21}\n",
    "#### Boolean Type\n",
    "###### bool – either True or False\n",
    "#### Binary Types\n",
    "###### bytes, bytearray, and memoryview – used for binary data handling"
   ]
  },
  {
   "cell_type": "markdown",
   "id": "4596b046-873f-424c-bb76-43fa26c6bca6",
   "metadata": {},
   "source": [
    "#### Strings in Python are:\n",
    "###### Immutable – once created, they cannot be changed.\n",
    "###### Indexed – you can access characters by index, e.g., name[0].\n",
    "###### Iterable – you can loop through them."
   ]
  },
  {
   "cell_type": "markdown",
   "id": "f06b138c-9e35-4084-a4aa-dc42e32b7de0",
   "metadata": {},
   "source": [
    "#### Operators\n",
    "###### \"Operators in Python are special symbols or keywords used to perform operations on variables and values."
   ]
  },
  {
   "cell_type": "markdown",
   "id": "797e647a-47f3-419c-89dc-cfc680666f7d",
   "metadata": {},
   "source": [
    "#### List\n",
    "##### \"Lists are one of the most commonly used data structures in Python. A list is an ordered, mutable collection that can store elements of any data type—integers, strings, other lists, and even mixed types.\n",
    "##### append(), insert(index, value), remove(value), pop(),sort(), reverse(), len() ,in "
   ]
  },
  {
   "cell_type": "markdown",
   "id": "e38fc20a-3e90-466f-ad25-2eb5516983f8",
   "metadata": {},
   "source": [
    "#### Set\n",
    "#####  A set is an unordered, mutable collection that stores unique elements. Unlike lists, sets do not allow duplicates, and the order of elements is not guaranteed.\n",
    "##### add(value), update([values]), remove(value), discard(value), pop(), clear(),len(set), in ,set1.union(set2),set1.intersection(set2),set1.difference(set2) \n"
   ]
  },
  {
   "cell_type": "markdown",
   "id": "8221bf4b-a55d-4491-94db-cf76e73b138a",
   "metadata": {},
   "source": [
    "#### Tuple\n",
    "##### It is an ordered, immutable collection that can hold elements of any data type, including mixed types—just like lists. However, once a tuple is created, its elements cannot be changed.\n",
    "##### len(),in, count(value), index(value)"
   ]
  },
  {
   "cell_type": "markdown",
   "id": "db44fd45-8ec4-4bcf-b215-0bdf510658a1",
   "metadata": {},
   "source": [
    "#### Tuples can be converted to lists and vice versa using list() and tuple() functions"
   ]
  },
  {
   "cell_type": "markdown",
   "id": "b72183fe-a64c-44d5-87d0-7cfaac51352f",
   "metadata": {},
   "source": [
    "#### Dictionary\n",
    "##### \"A dictionary in Python is a powerful and flexible data structure that stores data in key-value pairs. It is unordered (in versions before Python 3.7), mutable, and allows fast lookups by keys.\n",
    "##### get(key) , keys(), values() , items(),update({key: value}), pop(key), popitem(), del dict[key], clear(), in, len(dict) "
   ]
  },
  {
   "cell_type": "markdown",
   "id": "0c4d68c3-45ea-40ee-8f05-63a374ff1000",
   "metadata": {},
   "source": [
    "### if .... else ..., Loop\n",
    "##### , control flow statements like if..else and loops (for, while) allow you to write programs that make decisions and repeat actions. They are fundamental for logic building.\"\n",
    "#### if..else Statements:\n",
    "##### These are used to execute code conditionally based on whether a condition is True or False.\n",
    "#### Syntax:\n",
    "###### if condition:\n",
    "    # code if condition is true\n",
    "###### elif another_condition:\n",
    "    # code if the second condition is true\n",
    " ###### else:\n"
   ]
  },
  {
   "cell_type": "markdown",
   "id": "f5722bdf-2cf3-4c17-b6a5-2b64e3510b99",
   "metadata": {},
   "source": [
    "#### Loops in Python:\n",
    "##### Loops are used to repeat a block of code multiple times.\n",
    "### for Loop:\n",
    " ##### Used to iterate over a sequence (like a list, string, tuple, dictionary, or range)\n",
    "#### for variable in sequence:\n",
    "    # code to execute"
   ]
  },
  {
   "cell_type": "markdown",
   "id": "c32927a9-5382-4eac-acc6-f00fc3be4507",
   "metadata": {},
   "source": [
    "#### while Loop:\n",
    "###### Repeats a block of code as long as the condition is True.\n",
    "\n",
    "##### Syntax:\n",
    "###### while condition:\n",
    "    # code to execute"
   ]
  },
  {
   "cell_type": "markdown",
   "id": "08defa10-5328-4636-b2ea-b511cbcf6b95",
   "metadata": {},
   "source": [
    "#### Break,Continue, Pass\n",
    "##### control statements like break, continue, and pass are used within loops to change the normal flow of execution. They allow you to interrupt, skip, or hold the execution of certain parts of your code as needed.\"\n",
    "##### :break\n",
    "###### Use: Exit the loop immediately.\n",
    "#### continue\n",
    "###### Use: Skip the current iteration, go to the next.\n",
    "##### pass :\n",
    "###### The pass statement is a placeholder. It does nothing and is often used when a statement is syntactically required, but you don't want to execute any code.\n",
    "\n",
    "\n",
    "\n"
   ]
  },
  {
   "cell_type": "markdown",
   "id": "c14696a2-6ba5-494e-8650-0f0cd3fad1a4",
   "metadata": {},
   "source": [
    "#### Functions\n",
    "###### a function is a reusable block of code that performs a specific task. Functions help you organize code, avoid repetition, and make programs modular and readable.\"\n",
    "###### Defining a Function:\n",
    "###### Functions are defined using the def keyword.\n",
    "###### Syntax:\n",
    "###### def function_name(parameters):\n",
    "    # code block\n",
    "   ###### return result"
   ]
  },
  {
   "cell_type": "markdown",
   "id": "32d1f1f3-a507-4fc2-a575-ce8260ab9b5b",
   "metadata": {},
   "source": [
    "#### Array\n",
    "###### an array is a data structure used to store multiple values of the same data type in a single variable. While lists are more commonly used in Python, arrays can be more memory-efficient and faster for numerical operations.\"\n"
   ]
  },
  {
   "cell_type": "markdown",
   "id": "cec97120-6f73-44f2-9ebf-830823bfa0c7",
   "metadata": {},
   "source": [
    "##### Module\n",
    "###### a module is simply a file containing Python code.this could include functions, classes, or variables—which can be imported and used in other programs. Modules help you organize code into reusable components and keep your code clean and maintainable.\""
   ]
  },
  {
   "cell_type": "markdown",
   "id": "552a2011-32e0-4a4c-9627-5230e65cbc48",
   "metadata": {},
   "source": [
    " Mutable vs Imutable\n",
    "Aspect\t             Mutable     \t                   Immutable\n",
    "Changeable\t      Values can be modified\t     Values cannot be modified\n",
    "Memory (ID)       Remains same after change\t     New object is created on change\n",
    "Common Types\t  list, dict, set, bytearray\t int, float, str, tuple, bool, frozenset\n",
    "Dictionary Key\t  Cannot be used\t             Can be used\n",
    "Suitability\t      Dynamic data\t                 Constant or fixed data\n",
    "Behavior\t      Affects original object\t     Original stays intact\n"
   ]
  },
  {
   "cell_type": "markdown",
   "id": "40922618-700e-43fb-9a27-d8be4aa5a183",
   "metadata": {},
   "source": [
    "##### List comprehension\n",
    "###### List comprehension is a compact and elegant way to create lists in Python. It allows you to write loops and conditions in a single line to generate a new list, which makes the code more readable and efficient.\n",
    "\n",
    "###### The basic syntax is:\n",
    "###### [expression for item in iterable if condition]"
   ]
  },
  {
   "cell_type": "markdown",
   "id": "536076e0-da9b-41c1-bd56-180153b96a5c",
   "metadata": {},
   "source": [
    "##### Dictionary comprehension \n",
    "###### Dictionary comprehension is a concise way to create dictionaries in Python using a single line of code. It works similarly to list comprehension but builds key-value pairs instead of individual values.\n",
    "\n",
    "###### The basic syntax is:\n",
    "###### {key_expression: value_expression for item in iterable if condition}"
   ]
  },
  {
   "cell_type": "markdown",
   "id": "917c749e-7f6e-4b22-bf9c-ce77ad7f53cf",
   "metadata": {},
   "source": [
    "##### lambda function\n",
    "###### A lambda function in Python is an anonymous function—meaning it doesn’t have a name. It is defined using the lambda keyword and is typically used for short, simple functions, especially when passing functions as arguments.\n",
    "###### => lambda arguments: expression for eg lambda x,y :x+y\n",
    "###### It can have any number of arguments, but only one expression—which is automatically returned."
   ]
  },
  {
   "cell_type": "markdown",
   "id": "670946ac-2188-4d3c-a349-f2cee527a394",
   "metadata": {},
   "source": [
    "##### Map()\n",
    "###### The map() function in Python is used to apply a function to every item in an iterable (like a list, tuple, etc.) and returns a new map object, which can be converted to a list or other collection.\n",
    "\n",
    "###### map(function, iterable)\n",
    "###### It takes a function and an iterable as arguments.\n",
    "\n",
    "###### It applies the function to each item of the iterable.\n",
    "###### example \n",
    "###### nums = [1, 2, 3, 4]\n",
    "###### squares = list(map(lambda x: x*x, nums))\n",
    "###### print(squares)  # Output: [1, 4, 9, 16]"
   ]
  },
  {
   "cell_type": "markdown",
   "id": "cf11caa8-9411-46b7-bb5f-2d14fd98165e",
   "metadata": {},
   "source": [
    "##### Filter()\n",
    "###### The filter() function in Python is used to filter elements from an iterable based on a condition. It takes a function that returns either True or False and applies it to each element. Only the elements for which the function returns True are included in the result.\n",
    "###### filter(function, iterable)\n",
    "###### function: a function that returns True or False\n",
    "\n",
    "###### iterable: a sequence (like list, tuple, etc.)\n",
    "\n",
    "###### It returns a filter object, which we usually convert to a list().\n",
    "\n",
    "\n",
    "\n",
    "                                                                                                                                                                                                         \n",
    "                                                                                                                                                                                                         \n",
    "                                                                                                                                                                                                         \n",
    "                                                                                                        "
   ]
  },
  {
   "cell_type": "markdown",
   "id": "f0967796-6cdd-4a10-9598-500e9e0edfca",
   "metadata": {},
   "source": [
    "##### Reduce\n",
    "###### Reduce function is used to perform a rolling computation on a sequence by applying a function cumulatively to the elements. It’s part of the functools module, so we need to import it before using.\n",
    "######  **** from functools import reduce\n",
    "###### reduce(function, iterable)\n",
    "###### The function takes two arguments\n",
    "###### It reduces the iterable to a single value by applying the function repeatedly\n",
    "\n",
    "\n",
    "\n"
   ]
  },
  {
   "cell_type": "code",
   "execution_count": null,
   "id": "6694c65c-efea-452f-bf7a-61815647d187",
   "metadata": {},
   "outputs": [],
   "source": []
  }
 ],
 "metadata": {
  "kernelspec": {
   "display_name": "Python 3 (ipykernel)",
   "language": "python",
   "name": "python3"
  },
  "language_info": {
   "codemirror_mode": {
    "name": "ipython",
    "version": 3
   },
   "file_extension": ".py",
   "mimetype": "text/x-python",
   "name": "python",
   "nbconvert_exporter": "python",
   "pygments_lexer": "ipython3",
   "version": "3.12.7"
  }
 },
 "nbformat": 4,
 "nbformat_minor": 5
}
