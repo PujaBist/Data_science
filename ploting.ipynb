{
 "cells": [
  {
   "cell_type": "code",
   "execution_count": 4,
   "id": "31a8bde3-5587-4d71-9203-5080621be8e2",
   "metadata": {},
   "outputs": [],
   "source": [
    "import pandas as pd\n"
   ]
  },
  {
   "cell_type": "code",
   "execution_count": 5,
   "id": "bd012e35-c569-4b4b-a0b3-0076405b286e",
   "metadata": {},
   "outputs": [],
   "source": [
    "df=pd.read_csv('Salary_Data.csv')"
   ]
  },
  {
   "cell_type": "code",
   "execution_count": 6,
   "id": "23da922e-60b3-4403-b967-08aecee83002",
   "metadata": {},
   "outputs": [
    {
     "name": "stdout",
     "output_type": "stream",
     "text": [
      "       Age  Gender    Education Level              Job Title  \\\n",
      "0     32.0    Male         Bachelor's      Software Engineer   \n",
      "1     28.0  Female           Master's           Data Analyst   \n",
      "2     45.0    Male                PhD         Senior Manager   \n",
      "3     36.0  Female         Bachelor's        Sales Associate   \n",
      "4     52.0    Male           Master's               Director   \n",
      "...    ...     ...                ...                    ...   \n",
      "6699  49.0  Female                PhD  Director of Marketing   \n",
      "6700  32.0    Male        High School        Sales Associate   \n",
      "6701  30.0  Female  Bachelor's Degree      Financial Manager   \n",
      "6702  46.0    Male    Master's Degree      Marketing Manager   \n",
      "6703  26.0  Female        High School        Sales Executive   \n",
      "\n",
      "      Years of Experience    Salary  \n",
      "0                     5.0   90000.0  \n",
      "1                     3.0   65000.0  \n",
      "2                    15.0  150000.0  \n",
      "3                     7.0   60000.0  \n",
      "4                    20.0  200000.0  \n",
      "...                   ...       ...  \n",
      "6699                 20.0  200000.0  \n",
      "6700                  3.0   50000.0  \n",
      "6701                  4.0   55000.0  \n",
      "6702                 14.0  140000.0  \n",
      "6703                  1.0   35000.0  \n",
      "\n",
      "[6704 rows x 6 columns]\n"
     ]
    }
   ],
   "source": [
    "print(df)"
   ]
  },
  {
   "cell_type": "code",
   "execution_count": 2,
   "id": "91d70b4e-006d-4ad7-8e04-b50312bfcd97",
   "metadata": {},
   "outputs": [],
   "source": [
    "import matplotlib.pyplot as plt"
   ]
  },
  {
   "cell_type": "code",
   "execution_count": null,
   "id": "4a0484a0-43a8-46fe-b2a3-a8741a050ea0",
   "metadata": {},
   "outputs": [],
   "source": [
    "Data Read\n",
    "issues : Missing values, inconsistency\n",
    "        Visaulization\n"
   ]
  },
  {
   "cell_type": "code",
   "execution_count": 7,
   "id": "1294feb7-572a-405f-9152-5327d30f06f4",
   "metadata": {},
   "outputs": [],
   "source": [
    "import seaborn as sns"
   ]
  },
  {
   "cell_type": "code",
   "execution_count": 15,
   "id": "3df0ef30-b3ab-480d-ba09-c6ed3ae29f58",
   "metadata": {},
   "outputs": [
    {
     "data": {
      "text/html": [
       "<div>\n",
       "<style scoped>\n",
       "    .dataframe tbody tr th:only-of-type {\n",
       "        vertical-align: middle;\n",
       "    }\n",
       "\n",
       "    .dataframe tbody tr th {\n",
       "        vertical-align: top;\n",
       "    }\n",
       "\n",
       "    .dataframe thead th {\n",
       "        text-align: right;\n",
       "    }\n",
       "</style>\n",
       "<table border=\"1\" class=\"dataframe\">\n",
       "  <thead>\n",
       "    <tr style=\"text-align: right;\">\n",
       "      <th></th>\n",
       "      <th>Age</th>\n",
       "      <th>Gender</th>\n",
       "      <th>Education Level</th>\n",
       "      <th>Job Title</th>\n",
       "      <th>Years of Experience</th>\n",
       "      <th>Salary</th>\n",
       "    </tr>\n",
       "  </thead>\n",
       "  <tbody>\n",
       "    <tr>\n",
       "      <th>0</th>\n",
       "      <td>32.0</td>\n",
       "      <td>Male</td>\n",
       "      <td>Bachelor's</td>\n",
       "      <td>Software Engineer</td>\n",
       "      <td>5.0</td>\n",
       "      <td>90000.0</td>\n",
       "    </tr>\n",
       "    <tr>\n",
       "      <th>1</th>\n",
       "      <td>28.0</td>\n",
       "      <td>Female</td>\n",
       "      <td>Master's</td>\n",
       "      <td>Data Analyst</td>\n",
       "      <td>3.0</td>\n",
       "      <td>65000.0</td>\n",
       "    </tr>\n",
       "    <tr>\n",
       "      <th>2</th>\n",
       "      <td>45.0</td>\n",
       "      <td>Male</td>\n",
       "      <td>PhD</td>\n",
       "      <td>Senior Manager</td>\n",
       "      <td>15.0</td>\n",
       "      <td>150000.0</td>\n",
       "    </tr>\n",
       "    <tr>\n",
       "      <th>3</th>\n",
       "      <td>36.0</td>\n",
       "      <td>Female</td>\n",
       "      <td>Bachelor's</td>\n",
       "      <td>Sales Associate</td>\n",
       "      <td>7.0</td>\n",
       "      <td>60000.0</td>\n",
       "    </tr>\n",
       "    <tr>\n",
       "      <th>4</th>\n",
       "      <td>52.0</td>\n",
       "      <td>Male</td>\n",
       "      <td>Master's</td>\n",
       "      <td>Director</td>\n",
       "      <td>20.0</td>\n",
       "      <td>200000.0</td>\n",
       "    </tr>\n",
       "  </tbody>\n",
       "</table>\n",
       "</div>"
      ],
      "text/plain": [
       "    Age  Gender Education Level          Job Title  Years of Experience  \\\n",
       "0  32.0    Male      Bachelor's  Software Engineer                  5.0   \n",
       "1  28.0  Female        Master's       Data Analyst                  3.0   \n",
       "2  45.0    Male             PhD     Senior Manager                 15.0   \n",
       "3  36.0  Female      Bachelor's    Sales Associate                  7.0   \n",
       "4  52.0    Male        Master's           Director                 20.0   \n",
       "\n",
       "     Salary  \n",
       "0   90000.0  \n",
       "1   65000.0  \n",
       "2  150000.0  \n",
       "3   60000.0  \n",
       "4  200000.0  "
      ]
     },
     "execution_count": 15,
     "metadata": {},
     "output_type": "execute_result"
    }
   ],
   "source": [
    "df.head()"
   ]
  },
  {
   "cell_type": "code",
   "execution_count": 38,
   "id": "17caef82-4448-4b9e-b8cf-6cc9d3e39185",
   "metadata": {},
   "outputs": [],
   "source": [
    "df.dropna(inplace=True)"
   ]
  },
  {
   "cell_type": "code",
   "execution_count": null,
   "id": "6b4d0129-92ea-4c17-a03a-6979beb4091a",
   "metadata": {},
   "outputs": [],
   "source": [
    "pip install seaborn"
   ]
  },
  {
   "cell_type": "code",
   "execution_count": null,
   "id": "092e1db2-fa6b-4bc2-b352-834362d77c1a",
   "metadata": {},
   "outputs": [],
   "source": [
    "#Histogram -To see the distribution\n",
    "#(single, Numeric)"
   ]
  },
  {
   "cell_type": "code",
   "execution_count": 7,
   "id": "1a253ff5-02e1-44d3-8040-67fb8520a14f",
   "metadata": {},
   "outputs": [
    {
     "data": {
      "image/png": "[encoded data removed]",
      "text/plain": [
       "<Figure size 640x480 with 1 Axes>"
      ]
     },
     "metadata": {},
     "output_type": "display_data"
    }
   ],
   "source": [
    "plt.hist(df.Age,bins=5,color='red',edgecolor='black')\n",
    "plt.title('Histogram of Age')\n",
    "plt.xlabel('Age')\n",
    "plt.ylabel('Count')\n",
    "plt.show()"
   ]
  },
  {
   "cell_type": "code",
   "execution_count": 23,
   "id": "7c08b88d-56e7-45af-bb07-8c85bb4f69d6",
   "metadata": {},
   "outputs": [
    {
     "data": {
      "image/png": "[encoded data removed]",
      "text/plain": [
       "<Figure size 640x480 with 1 Axes>"
      ]
     },
     "metadata": {},
     "output_type": "display_data"
    }
   ],
   "source": [
    "plt.hist(df.Age, edgecolor='green')\n",
    "plt.title('Histogram of Age')\n",
    "plt.xlabel('Age')\n",
    "plt.ylabel('Count')\n",
    "plt.show()"
   ]
  },
  {
   "cell_type": "code",
   "execution_count": 16,
   "id": "8ccd5ed1-0221-435e-b51a-ed90e9627467",
   "metadata": {},
   "outputs": [
    {
     "data": {
      "image/png": "[encoded data removed]",
      "text/plain": [
       "<Figure size 640x480 with 1 Axes>"
      ]
     },
     "metadata": {},
     "output_type": "display_data"
    }
   ],
   "source": [
    "sns.histplot(x='Age' , data=df)\n",
    "plt.show() # sabae function  manually lekhna pardaena"
   ]
  },
  {
   "cell_type": "code",
   "execution_count": 22,
   "id": "0014cb25-e912-46ac-88c5-f4ccc61ffcec",
   "metadata": {},
   "outputs": [
    {
     "data": {
      "image/png": "[encoded data removed]",
      "text/plain": [
       "<Figure size 640x480 with 1 Axes>"
      ]
     },
     "metadata": {},
     "output_type": "display_data"
    }
   ],
   "source": [
    "sns.histplot(x='Age' , data=df, color='green')\n",
    "#sns.histplot(df,x='Age') # parameter positional matter gradaena if we column name as parameter\n",
    "plt.show() # sabae function  manually lekhna pardaena"
   ]
  },
  {
   "cell_type": "code",
   "execution_count": null,
   "id": "414340f0-18ae-41fc-b5b9-34fc14df0d99",
   "metadata": {},
   "outputs": [],
   "source": [
    "help(sns.histplot)"
   ]
  },
  {
   "cell_type": "code",
   "execution_count": null,
   "id": "5fd3d7fd-43e8-4d00-ace4-bb10395fa893",
   "metadata": {},
   "outputs": [],
   "source": [
    "plt.hist()         sns.histplt()"
   ]
  },
  {
   "cell_type": "code",
   "execution_count": null,
   "id": "a94d0dab-4311-43b3-b7c4-66d5c067c20b",
   "metadata": {},
   "outputs": [],
   "source": [
    "\n",
    "# Barplot \n",
    "# used for 2 varibles \n",
    "=> one is categorical\n",
    "=>another is its value"
   ]
  },
  {
   "cell_type": "code",
   "execution_count": 25,
   "id": "20bc6314-1242-48f8-98f9-008880c1ad2c",
   "metadata": {},
   "outputs": [
    {
     "data": {
      "text/html": [
       "<div>\n",
       "<style scoped>\n",
       "    .dataframe tbody tr th:only-of-type {\n",
       "        vertical-align: middle;\n",
       "    }\n",
       "\n",
       "    .dataframe tbody tr th {\n",
       "        vertical-align: top;\n",
       "    }\n",
       "\n",
       "    .dataframe thead th {\n",
       "        text-align: right;\n",
       "    }\n",
       "</style>\n",
       "<table border=\"1\" class=\"dataframe\">\n",
       "  <thead>\n",
       "    <tr style=\"text-align: right;\">\n",
       "      <th></th>\n",
       "      <th>Item</th>\n",
       "      <th>Sales</th>\n",
       "    </tr>\n",
       "  </thead>\n",
       "  <tbody>\n",
       "    <tr>\n",
       "      <th>0</th>\n",
       "      <td>Phone</td>\n",
       "      <td>600</td>\n",
       "    </tr>\n",
       "    <tr>\n",
       "      <th>1</th>\n",
       "      <td>Laptop</td>\n",
       "      <td>100</td>\n",
       "    </tr>\n",
       "    <tr>\n",
       "      <th>2</th>\n",
       "      <td>PC</td>\n",
       "      <td>150</td>\n",
       "    </tr>\n",
       "    <tr>\n",
       "      <th>3</th>\n",
       "      <td>Earbuds</td>\n",
       "      <td>300</td>\n",
       "    </tr>\n",
       "    <tr>\n",
       "      <th>4</th>\n",
       "      <td>Smartwatch</td>\n",
       "      <td>400</td>\n",
       "    </tr>\n",
       "  </tbody>\n",
       "</table>\n",
       "</div>"
      ],
      "text/plain": [
       "         Item  Sales\n",
       "0       Phone    600\n",
       "1      Laptop    100\n",
       "2          PC    150\n",
       "3     Earbuds    300\n",
       "4  Smartwatch    400"
      ]
     },
     "execution_count": 25,
     "metadata": {},
     "output_type": "execute_result"
    }
   ],
   "source": [
    "dis={\n",
    "    'Item' : ['Phone' , 'Laptop' , 'PC' , 'Earbuds' ,'Smartwatch'],\n",
    "    'Sales' : [600,100,150,300,400]\n",
    "}\n",
    "datafram=pd.DataFrame(dis)\n",
    "datafram.head()"
   ]
  },
  {
   "cell_type": "code",
   "execution_count": null,
   "id": "3b63a8ce-c39d-4a33-ac40-e6593c77c6c1",
   "metadata": {},
   "outputs": [],
   "source": [
    "# used for comparision of 2 variables"
   ]
  },
  {
   "cell_type": "code",
   "execution_count": 28,
   "id": "bbdca085-27b5-44c2-8f8b-d36b0ba3a9a3",
   "metadata": {},
   "outputs": [
    {
     "data": {
      "image/png": "[encoded data removed]",
      "text/plain": [
       "<Figure size 640x480 with 1 Axes>"
      ]
     },
     "metadata": {},
     "output_type": "display_data"
    }
   ],
   "source": [
    "# plt.bar(x,y)\n",
    "plt.bar(datafram.Item , datafram.Sales)\n",
    "plt.title(\"item vs Sales\")\n",
    "plt.xlabel('Item')\n",
    "plt.ylabel('Sales')\n",
    "plt.show()"
   ]
  },
  {
   "cell_type": "code",
   "execution_count": 31,
   "id": "a1d0dfa4-f32b-40f9-a8ff-b9a146d5da4e",
   "metadata": {},
   "outputs": [
    {
     "data": {
      "image/png": "[encoded data removed]",
      "text/plain": [
       "<Figure size 640x480 with 1 Axes>"
      ]
     },
     "metadata": {},
     "output_type": "display_data"
    }
   ],
   "source": [
    "# plt.bar(x,y)\n",
    "plt.barh(datafram.Item , datafram.Sales) # barh for horizontal show\n",
    "plt.title(\"item vs Sales\")\n",
    "plt.xlabel('Item')\n",
    "plt.ylabel('Sales')\n",
    "plt.show()"
   ]
  },
  {
   "cell_type": "code",
   "execution_count": null,
   "id": "6553048c-e904-4e9d-912e-380e3055b8b4",
   "metadata": {},
   "outputs": [],
   "source": [
    "plt.bar()\n",
    "plt.barh()\n",
    "# plt aaune bitikai this is mataplotlib ho\n"
   ]
  },
  {
   "cell_type": "code",
   "execution_count": 35,
   "id": "8158e49e-9a16-4613-907d-fac07dec6d0d",
   "metadata": {},
   "outputs": [
    {
     "data": {
      "image/png": "[encoded data removed]",
      "text/plain": [
       "<Figure size 640x480 with 1 Axes>"
      ]
     },
     "metadata": {},
     "output_type": "display_data"
    }
   ],
   "source": [
    "#sns.barplot(x, y, data)\n",
    "sns.barplot(data=datafram,x='Item' , y='Sales')\n",
    "plt.show()"
   ]
  },
  {
   "cell_type": "code",
   "execution_count": 36,
   "id": "2eda2f16-fc84-4abf-925e-afc0594582c4",
   "metadata": {},
   "outputs": [
    {
     "data": {
      "image/png": "[encoded data removed]",
      "text/plain": [
       "<Figure size 640x480 with 1 Axes>"
      ]
     },
     "metadata": {},
     "output_type": "display_data"
    }
   ],
   "source": [
    "sns.barplot(data=datafram,y='Item' , x='Sales')\n",
    "plt.show()"
   ]
  },
  {
   "cell_type": "code",
   "execution_count": null,
   "id": "1c75738f-443a-4ac9-80a3-53c07e9575e5",
   "metadata": {},
   "outputs": [],
   "source": [
    "plt.bar(column_1 , column_2)                                                     sns.barplot(data, x=column_1, y=column_2)\n",
    "plt.barh                                                                        sns.barplot(data, y=column_1, x=column_2)"
   ]
  },
  {
   "cell_type": "code",
   "execution_count": 37,
   "id": "13057ce6-6998-4911-b614-10c336990e1a",
   "metadata": {},
   "outputs": [
    {
     "data": {
      "text/html": [
       "<div>\n",
       "<style scoped>\n",
       "    .dataframe tbody tr th:only-of-type {\n",
       "        vertical-align: middle;\n",
       "    }\n",
       "\n",
       "    .dataframe tbody tr th {\n",
       "        vertical-align: top;\n",
       "    }\n",
       "\n",
       "    .dataframe thead th {\n",
       "        text-align: right;\n",
       "    }\n",
       "</style>\n",
       "<table border=\"1\" class=\"dataframe\">\n",
       "  <thead>\n",
       "    <tr style=\"text-align: right;\">\n",
       "      <th></th>\n",
       "      <th>Age</th>\n",
       "      <th>Gender</th>\n",
       "      <th>Education Level</th>\n",
       "      <th>Job Title</th>\n",
       "      <th>Years of Experience</th>\n",
       "      <th>Salary</th>\n",
       "    </tr>\n",
       "  </thead>\n",
       "  <tbody>\n",
       "    <tr>\n",
       "      <th>0</th>\n",
       "      <td>32.0</td>\n",
       "      <td>Male</td>\n",
       "      <td>Bachelor's</td>\n",
       "      <td>Software Engineer</td>\n",
       "      <td>5.0</td>\n",
       "      <td>90000.0</td>\n",
       "    </tr>\n",
       "    <tr>\n",
       "      <th>1</th>\n",
       "      <td>28.0</td>\n",
       "      <td>Female</td>\n",
       "      <td>Master's</td>\n",
       "      <td>Data Analyst</td>\n",
       "      <td>3.0</td>\n",
       "      <td>65000.0</td>\n",
       "    </tr>\n",
       "    <tr>\n",
       "      <th>2</th>\n",
       "      <td>45.0</td>\n",
       "      <td>Male</td>\n",
       "      <td>PhD</td>\n",
       "      <td>Senior Manager</td>\n",
       "      <td>15.0</td>\n",
       "      <td>150000.0</td>\n",
       "    </tr>\n",
       "    <tr>\n",
       "      <th>3</th>\n",
       "      <td>36.0</td>\n",
       "      <td>Female</td>\n",
       "      <td>Bachelor's</td>\n",
       "      <td>Sales Associate</td>\n",
       "      <td>7.0</td>\n",
       "      <td>60000.0</td>\n",
       "    </tr>\n",
       "    <tr>\n",
       "      <th>4</th>\n",
       "      <td>52.0</td>\n",
       "      <td>Male</td>\n",
       "      <td>Master's</td>\n",
       "      <td>Director</td>\n",
       "      <td>20.0</td>\n",
       "      <td>200000.0</td>\n",
       "    </tr>\n",
       "    <tr>\n",
       "      <th>...</th>\n",
       "      <td>...</td>\n",
       "      <td>...</td>\n",
       "      <td>...</td>\n",
       "      <td>...</td>\n",
       "      <td>...</td>\n",
       "      <td>...</td>\n",
       "    </tr>\n",
       "    <tr>\n",
       "      <th>6699</th>\n",
       "      <td>49.0</td>\n",
       "      <td>Female</td>\n",
       "      <td>PhD</td>\n",
       "      <td>Director of Marketing</td>\n",
       "      <td>20.0</td>\n",
       "      <td>200000.0</td>\n",
       "    </tr>\n",
       "    <tr>\n",
       "      <th>6700</th>\n",
       "      <td>32.0</td>\n",
       "      <td>Male</td>\n",
       "      <td>High School</td>\n",
       "      <td>Sales Associate</td>\n",
       "      <td>3.0</td>\n",
       "      <td>50000.0</td>\n",
       "    </tr>\n",
       "    <tr>\n",
       "      <th>6701</th>\n",
       "      <td>30.0</td>\n",
       "      <td>Female</td>\n",
       "      <td>Bachelor's Degree</td>\n",
       "      <td>Financial Manager</td>\n",
       "      <td>4.0</td>\n",
       "      <td>55000.0</td>\n",
       "    </tr>\n",
       "    <tr>\n",
       "      <th>6702</th>\n",
       "      <td>46.0</td>\n",
       "      <td>Male</td>\n",
       "      <td>Master's Degree</td>\n",
       "      <td>Marketing Manager</td>\n",
       "      <td>14.0</td>\n",
       "      <td>140000.0</td>\n",
       "    </tr>\n",
       "    <tr>\n",
       "      <th>6703</th>\n",
       "      <td>26.0</td>\n",
       "      <td>Female</td>\n",
       "      <td>High School</td>\n",
       "      <td>Sales Executive</td>\n",
       "      <td>1.0</td>\n",
       "      <td>35000.0</td>\n",
       "    </tr>\n",
       "  </tbody>\n",
       "</table>\n",
       "<p>6704 rows × 6 columns</p>\n",
       "</div>"
      ],
      "text/plain": [
       "       Age  Gender    Education Level              Job Title  \\\n",
       "0     32.0    Male         Bachelor's      Software Engineer   \n",
       "1     28.0  Female           Master's           Data Analyst   \n",
       "2     45.0    Male                PhD         Senior Manager   \n",
       "3     36.0  Female         Bachelor's        Sales Associate   \n",
       "4     52.0    Male           Master's               Director   \n",
       "...    ...     ...                ...                    ...   \n",
       "6699  49.0  Female                PhD  Director of Marketing   \n",
       "6700  32.0    Male        High School        Sales Associate   \n",
       "6701  30.0  Female  Bachelor's Degree      Financial Manager   \n",
       "6702  46.0    Male    Master's Degree      Marketing Manager   \n",
       "6703  26.0  Female        High School        Sales Executive   \n",
       "\n",
       "      Years of Experience    Salary  \n",
       "0                     5.0   90000.0  \n",
       "1                     3.0   65000.0  \n",
       "2                    15.0  150000.0  \n",
       "3                     7.0   60000.0  \n",
       "4                    20.0  200000.0  \n",
       "...                   ...       ...  \n",
       "6699                 20.0  200000.0  \n",
       "6700                  3.0   50000.0  \n",
       "6701                  4.0   55000.0  \n",
       "6702                 14.0  140000.0  \n",
       "6703                  1.0   35000.0  \n",
       "\n",
       "[6704 rows x 6 columns]"
      ]
     },
     "execution_count": 37,
     "metadata": {},
     "output_type": "execute_result"
    }
   ],
   "source": [
    "df"
   ]
  },
  {
   "cell_type": "code",
   "execution_count": 39,
   "id": "5b5e404e-f224-4be5-864a-496353b73d37",
   "metadata": {},
   "outputs": [
    {
     "data": {
      "text/plain": [
       "array(['Male', 'Female', 'Other'], dtype=object)"
      ]
     },
     "execution_count": 39,
     "metadata": {},
     "output_type": "execute_result"
    }
   ],
   "source": [
    "df['Gender'].unique()"
   ]
  },
  {
   "cell_type": "code",
   "execution_count": 42,
   "id": "bdc729ff-f84c-4dfd-bf54-0c4585cd717b",
   "metadata": {},
   "outputs": [
    {
     "data": {
      "text/plain": [
       "Gender\n",
       "Male      3671\n",
       "Female    3013\n",
       "Other       14\n",
       "Name: count, dtype: int64"
      ]
     },
     "execution_count": 42,
     "metadata": {},
     "output_type": "execute_result"
    }
   ],
   "source": [
    "gendercount=df['Gender'].value_counts()\n",
    "gendercount"
   ]
  },
  {
   "cell_type": "code",
   "execution_count": 43,
   "id": "f09f4c06-6cb9-4fe3-8a17-23c8165c4ee4",
   "metadata": {},
   "outputs": [
    {
     "data": {
      "text/plain": [
       "Index(['Male', 'Female', 'Other'], dtype='object', name='Gender')"
      ]
     },
     "execution_count": 43,
     "metadata": {},
     "output_type": "execute_result"
    }
   ],
   "source": [
    "gendercount.index"
   ]
  },
  {
   "cell_type": "code",
   "execution_count": 44,
   "id": "b376ce02-dfce-4471-8a1e-dbeef19e30ae",
   "metadata": {},
   "outputs": [
    {
     "data": {
      "text/plain": [
       "array([3671, 3013,   14])"
      ]
     },
     "execution_count": 44,
     "metadata": {},
     "output_type": "execute_result"
    }
   ],
   "source": [
    "gendercount.values"
   ]
  },
  {
   "cell_type": "code",
   "execution_count": 50,
   "id": "679ae30a-1448-4877-a2b7-b00c2049e67c",
   "metadata": {},
   "outputs": [
    {
     "data": {
      "image/png": "[encoded data removed]",
      "text/plain": [
       "<Figure size 640x480 with 1 Axes>"
      ]
     },
     "metadata": {},
     "output_type": "display_data"
    }
   ],
   "source": [
    "plt.bar(gendercount.index, gendercount.values)\n",
    "plt.xlabel('Gender')\n",
    "plt.title('Gender vs Count baragraph')\n",
    "plt.ylabel('Count')\n",
    "plt.show()"
   ]
  },
  {
   "cell_type": "code",
   "execution_count": 51,
   "id": "ff611613-8826-4035-bcb4-ee7c991590b4",
   "metadata": {},
   "outputs": [],
   "source": [
    "# scatter plot \n",
    "# two numeric variables - show the relationship or association of two variables\n",
    "# Gives idea of correlation also\n",
    "# plt.scatter(column_1 , column_2)\n"
   ]
  },
  {
   "cell_type": "code",
   "execution_count": 52,
   "id": "07fce441-ae20-4fd1-abb3-d23858f8a4be",
   "metadata": {},
   "outputs": [
    {
     "data": {
      "text/plain": [
       "(28, 6500)"
      ]
     },
     "execution_count": 52,
     "metadata": {},
     "output_type": "execute_result"
    }
   ],
   "source": [
    "#Age and Salary\n",
    "(32,9000)\n",
    "(28,6500)"
   ]
  },
  {
   "cell_type": "code",
   "execution_count": 56,
   "id": "4c8eabe6-8de3-47ac-87a4-8eef23d9415e",
   "metadata": {},
   "outputs": [
    {
     "data": {
      "image/png": "[encoded data removed]",
      "text/plain": [
       "<Figure size 640x480 with 1 Axes>"
      ]
     },
     "metadata": {},
     "output_type": "display_data"
    }
   ],
   "source": [
    "plt.scatter(df.Age, df.Salary)\n",
    "plt.xlabel('Age')\n",
    "plt.ylabel('Salary')\n",
    "plt.show()"
   ]
  },
  {
   "cell_type": "code",
   "execution_count": 57,
   "id": "e522b780-d26f-4569-859a-714370779d8c",
   "metadata": {},
   "outputs": [],
   "source": [
    "# Positive  Correlation ( ak var increase vayo vney arkho pani  increase hunch and decrease huda decrese hunxh)\n",
    "# negative Correlation (ak var increase huda arkho decrease hunch )\n",
    "# No correlation (  no pattern occurence "
   ]
  },
  {
   "cell_type": "code",
   "execution_count": null,
   "id": "3c30c028-4828-4c41-9b5c-54e2ae917877",
   "metadata": {},
   "outputs": [],
   "source": [
    "compute -> (-1 ,1)\n",
    "closed to -1 indicate : negative correlation \n",
    "closed to +1 indicate: positive correlation\n",
    "0: no correlation\n"
   ]
  },
  {
   "cell_type": "code",
   "execution_count": 58,
   "id": "b599a615-8666-4d2f-93cd-b05a03164e3f",
   "metadata": {},
   "outputs": [
    {
     "name": "stdout",
     "output_type": "stream",
     "text": [
      "0.7280606296367429\n"
     ]
    }
   ],
   "source": [
    "# .corr\n",
    "corage_salary = df['Age'].corr(df['Salary'])\n",
    "print(corage_salary)"
   ]
  },
  {
   "cell_type": "code",
   "execution_count": null,
   "id": "5532d98d-59bd-4ace-b698-b313532cac3c",
   "metadata": {},
   "outputs": [],
   "source": [
    "# 0.7 vanda badi aayo vaney strongly correlated\n",
    "0-0.4999 :Weak_correlation\n",
    "0.5- 0.699 : Average_correlation\n",
    "0.7 -1.0 :Strong Postive  correlation"
   ]
  },
  {
   "cell_type": "code",
   "execution_count": 63,
   "id": "a5b1a6d5-e17f-40e2-91bf-8977089aaaf7",
   "metadata": {},
   "outputs": [
    {
     "data": {
      "image/png": "[encoded data removed]",
      "text/plain": [
       "<Figure size 640x480 with 1 Axes>"
      ]
     },
     "metadata": {},
     "output_type": "display_data"
    }
   ],
   "source": [
    "sns.scatterplot(df, x='Age' ,y='Salary')\n",
    "plt.show()"
   ]
  },
  {
   "cell_type": "code",
   "execution_count": null,
   "id": "ea124258-69ee-482b-a548-fd19e9ac1514",
   "metadata": {},
   "outputs": [],
   "source": [
    "Plot - number and types of columns, intrepretation"
   ]
  },
  {
   "cell_type": "code",
   "execution_count": null,
   "id": "08357be5-c1f4-4da1-a750-5853ab9bda94",
   "metadata": {},
   "outputs": [],
   "source": [
    "# Boxplot\n",
    "Single column ,numeric,"
   ]
  },
  {
   "cell_type": "code",
   "execution_count": 64,
   "id": "690e7215-6efc-4ef9-9170-2fcbb0711ca1",
   "metadata": {},
   "outputs": [
    {
     "data": {
      "image/png": "[encoded data removed]",
      "text/plain": [
       "<Figure size 640x480 with 1 Axes>"
      ]
     },
     "metadata": {},
     "output_type": "display_data"
    }
   ],
   "source": [
    "plt.boxplot(df.Age)\n",
    "plt.show()"
   ]
  },
  {
   "cell_type": "code",
   "execution_count": 65,
   "id": "0342d1d4-9a13-4c8f-8d39-5e29b7bbd3dd",
   "metadata": {},
   "outputs": [],
   "source": [
    "# line respresent wisker \n",
    "# orange color indicate => medain\n",
    "# box ko intial line indicate Q3\n",
    "# box \n",
    "# data , q1, ............ md........ q3.........\n",
    " 25%     25%         25%         25%"
   ]
  },
  {
   "cell_type": "code",
   "execution_count": 73,
   "id": "3d074078-611c-4e14-a787-502f12def20f",
   "metadata": {},
   "outputs": [
    {
     "data": {
      "text/html": [
       "<div>\n",
       "<style scoped>\n",
       "    .dataframe tbody tr th:only-of-type {\n",
       "        vertical-align: middle;\n",
       "    }\n",
       "\n",
       "    .dataframe tbody tr th {\n",
       "        vertical-align: top;\n",
       "    }\n",
       "\n",
       "    .dataframe thead th {\n",
       "        text-align: right;\n",
       "    }\n",
       "</style>\n",
       "<table border=\"1\" class=\"dataframe\">\n",
       "  <thead>\n",
       "    <tr style=\"text-align: right;\">\n",
       "      <th></th>\n",
       "      <th>Age</th>\n",
       "      <th>Gender</th>\n",
       "      <th>Education Level</th>\n",
       "      <th>Job Title</th>\n",
       "      <th>Years of Experience</th>\n",
       "      <th>Salary</th>\n",
       "    </tr>\n",
       "  </thead>\n",
       "  <tbody>\n",
       "    <tr>\n",
       "      <th>1211</th>\n",
       "      <td>61.0</td>\n",
       "      <td>Male</td>\n",
       "      <td>PhD</td>\n",
       "      <td>Software Engineer Manager</td>\n",
       "      <td>20.0</td>\n",
       "      <td>200000.0</td>\n",
       "    </tr>\n",
       "    <tr>\n",
       "      <th>1223</th>\n",
       "      <td>57.0</td>\n",
       "      <td>Male</td>\n",
       "      <td>PhD</td>\n",
       "      <td>Software Engineer Manager</td>\n",
       "      <td>18.0</td>\n",
       "      <td>195000.0</td>\n",
       "    </tr>\n",
       "    <tr>\n",
       "      <th>1225</th>\n",
       "      <td>62.0</td>\n",
       "      <td>Male</td>\n",
       "      <td>PhD</td>\n",
       "      <td>Software Engineer Manager</td>\n",
       "      <td>19.0</td>\n",
       "      <td>200000.0</td>\n",
       "    </tr>\n",
       "    <tr>\n",
       "      <th>1236</th>\n",
       "      <td>62.0</td>\n",
       "      <td>Male</td>\n",
       "      <td>PhD</td>\n",
       "      <td>Software Engineer Manager</td>\n",
       "      <td>20.0</td>\n",
       "      <td>200000.0</td>\n",
       "    </tr>\n",
       "    <tr>\n",
       "      <th>1246</th>\n",
       "      <td>56.0</td>\n",
       "      <td>Male</td>\n",
       "      <td>PhD</td>\n",
       "      <td>Software Engineer Manager</td>\n",
       "      <td>17.0</td>\n",
       "      <td>195000.0</td>\n",
       "    </tr>\n",
       "    <tr>\n",
       "      <th>1258</th>\n",
       "      <td>62.0</td>\n",
       "      <td>Male</td>\n",
       "      <td>PhD</td>\n",
       "      <td>Software Engineer Manager</td>\n",
       "      <td>19.0</td>\n",
       "      <td>200000.0</td>\n",
       "    </tr>\n",
       "    <tr>\n",
       "      <th>1260</th>\n",
       "      <td>60.0</td>\n",
       "      <td>Male</td>\n",
       "      <td>PhD</td>\n",
       "      <td>Software Engineer Manager</td>\n",
       "      <td>18.0</td>\n",
       "      <td>195000.0</td>\n",
       "    </tr>\n",
       "    <tr>\n",
       "      <th>1266</th>\n",
       "      <td>57.0</td>\n",
       "      <td>Male</td>\n",
       "      <td>PhD</td>\n",
       "      <td>Software Engineer Manager</td>\n",
       "      <td>16.0</td>\n",
       "      <td>195000.0</td>\n",
       "    </tr>\n",
       "    <tr>\n",
       "      <th>1269</th>\n",
       "      <td>58.0</td>\n",
       "      <td>Male</td>\n",
       "      <td>PhD</td>\n",
       "      <td>Software Engineer Manager</td>\n",
       "      <td>17.0</td>\n",
       "      <td>200000.0</td>\n",
       "    </tr>\n",
       "    <tr>\n",
       "      <th>1277</th>\n",
       "      <td>61.0</td>\n",
       "      <td>Male</td>\n",
       "      <td>PhD</td>\n",
       "      <td>Software Engineer Manager</td>\n",
       "      <td>20.0</td>\n",
       "      <td>200000.0</td>\n",
       "    </tr>\n",
       "    <tr>\n",
       "      <th>1304</th>\n",
       "      <td>62.0</td>\n",
       "      <td>Male</td>\n",
       "      <td>PhD</td>\n",
       "      <td>Software Engineer Manager</td>\n",
       "      <td>20.0</td>\n",
       "      <td>200000.0</td>\n",
       "    </tr>\n",
       "    <tr>\n",
       "      <th>1305</th>\n",
       "      <td>62.0</td>\n",
       "      <td>Male</td>\n",
       "      <td>PhD</td>\n",
       "      <td>Software Engineer Manager</td>\n",
       "      <td>19.0</td>\n",
       "      <td>200000.0</td>\n",
       "    </tr>\n",
       "    <tr>\n",
       "      <th>1308</th>\n",
       "      <td>58.0</td>\n",
       "      <td>Female</td>\n",
       "      <td>PhD</td>\n",
       "      <td>Software Engineer Manager</td>\n",
       "      <td>17.0</td>\n",
       "      <td>195000.0</td>\n",
       "    </tr>\n",
       "    <tr>\n",
       "      <th>1309</th>\n",
       "      <td>56.0</td>\n",
       "      <td>Male</td>\n",
       "      <td>PhD</td>\n",
       "      <td>Software Engineer Manager</td>\n",
       "      <td>17.0</td>\n",
       "      <td>195000.0</td>\n",
       "    </tr>\n",
       "    <tr>\n",
       "      <th>1350</th>\n",
       "      <td>56.0</td>\n",
       "      <td>Male</td>\n",
       "      <td>PhD</td>\n",
       "      <td>Software Engineer Manager</td>\n",
       "      <td>18.0</td>\n",
       "      <td>195000.0</td>\n",
       "    </tr>\n",
       "    <tr>\n",
       "      <th>1370</th>\n",
       "      <td>58.0</td>\n",
       "      <td>Male</td>\n",
       "      <td>PhD</td>\n",
       "      <td>Software Engineer Manager</td>\n",
       "      <td>17.0</td>\n",
       "      <td>200000.0</td>\n",
       "    </tr>\n",
       "    <tr>\n",
       "      <th>1379</th>\n",
       "      <td>56.0</td>\n",
       "      <td>Male</td>\n",
       "      <td>PhD</td>\n",
       "      <td>Software Engineer Manager</td>\n",
       "      <td>17.0</td>\n",
       "      <td>195000.0</td>\n",
       "    </tr>\n",
       "    <tr>\n",
       "      <th>1402</th>\n",
       "      <td>56.0</td>\n",
       "      <td>Male</td>\n",
       "      <td>PhD</td>\n",
       "      <td>Software Engineer Manager</td>\n",
       "      <td>17.0</td>\n",
       "      <td>195000.0</td>\n",
       "    </tr>\n",
       "    <tr>\n",
       "      <th>1405</th>\n",
       "      <td>58.0</td>\n",
       "      <td>Male</td>\n",
       "      <td>PhD</td>\n",
       "      <td>Software Engineer Manager</td>\n",
       "      <td>17.0</td>\n",
       "      <td>195000.0</td>\n",
       "    </tr>\n",
       "    <tr>\n",
       "      <th>1416</th>\n",
       "      <td>57.0</td>\n",
       "      <td>Male</td>\n",
       "      <td>PhD</td>\n",
       "      <td>Software Engineer Manager</td>\n",
       "      <td>18.0</td>\n",
       "      <td>200000.0</td>\n",
       "    </tr>\n",
       "    <tr>\n",
       "      <th>1453</th>\n",
       "      <td>58.0</td>\n",
       "      <td>Male</td>\n",
       "      <td>PhD</td>\n",
       "      <td>Software Engineer Manager</td>\n",
       "      <td>17.0</td>\n",
       "      <td>200000.0</td>\n",
       "    </tr>\n",
       "    <tr>\n",
       "      <th>1462</th>\n",
       "      <td>56.0</td>\n",
       "      <td>Male</td>\n",
       "      <td>PhD</td>\n",
       "      <td>Software Engineer Manager</td>\n",
       "      <td>17.0</td>\n",
       "      <td>195000.0</td>\n",
       "    </tr>\n",
       "    <tr>\n",
       "      <th>1499</th>\n",
       "      <td>56.0</td>\n",
       "      <td>Male</td>\n",
       "      <td>PhD</td>\n",
       "      <td>Software Engineer Manager</td>\n",
       "      <td>17.0</td>\n",
       "      <td>195000.0</td>\n",
       "    </tr>\n",
       "    <tr>\n",
       "      <th>1531</th>\n",
       "      <td>56.0</td>\n",
       "      <td>Female</td>\n",
       "      <td>PhD</td>\n",
       "      <td>Software Engineer Manager</td>\n",
       "      <td>18.0</td>\n",
       "      <td>210000.0</td>\n",
       "    </tr>\n",
       "    <tr>\n",
       "      <th>1594</th>\n",
       "      <td>56.0</td>\n",
       "      <td>Male</td>\n",
       "      <td>PhD</td>\n",
       "      <td>Software Engineer Manager</td>\n",
       "      <td>17.0</td>\n",
       "      <td>195000.0</td>\n",
       "    </tr>\n",
       "    <tr>\n",
       "      <th>1640</th>\n",
       "      <td>56.0</td>\n",
       "      <td>Male</td>\n",
       "      <td>PhD</td>\n",
       "      <td>Software Engineer Manager</td>\n",
       "      <td>17.0</td>\n",
       "      <td>195000.0</td>\n",
       "    </tr>\n",
       "    <tr>\n",
       "      <th>2387</th>\n",
       "      <td>57.0</td>\n",
       "      <td>Female</td>\n",
       "      <td>PhD</td>\n",
       "      <td>Full Stack Engineer</td>\n",
       "      <td>30.0</td>\n",
       "      <td>121450.0</td>\n",
       "    </tr>\n",
       "    <tr>\n",
       "      <th>2396</th>\n",
       "      <td>60.0</td>\n",
       "      <td>Female</td>\n",
       "      <td>PhD</td>\n",
       "      <td>Software Engineer Manager</td>\n",
       "      <td>33.0</td>\n",
       "      <td>179180.0</td>\n",
       "    </tr>\n",
       "    <tr>\n",
       "      <th>2398</th>\n",
       "      <td>58.0</td>\n",
       "      <td>Male</td>\n",
       "      <td>Master's Degree</td>\n",
       "      <td>Senior Software Engineer</td>\n",
       "      <td>27.0</td>\n",
       "      <td>190004.0</td>\n",
       "    </tr>\n",
       "    <tr>\n",
       "      <th>2401</th>\n",
       "      <td>57.0</td>\n",
       "      <td>Female</td>\n",
       "      <td>PhD</td>\n",
       "      <td>Software Engineer Manager</td>\n",
       "      <td>33.0</td>\n",
       "      <td>191790.0</td>\n",
       "    </tr>\n",
       "    <tr>\n",
       "      <th>2421</th>\n",
       "      <td>60.0</td>\n",
       "      <td>Female</td>\n",
       "      <td>PhD</td>\n",
       "      <td>Software Engineer Manager</td>\n",
       "      <td>34.0</td>\n",
       "      <td>188651.0</td>\n",
       "    </tr>\n",
       "    <tr>\n",
       "      <th>2435</th>\n",
       "      <td>57.0</td>\n",
       "      <td>Female</td>\n",
       "      <td>Master's Degree</td>\n",
       "      <td>Full Stack Engineer</td>\n",
       "      <td>33.0</td>\n",
       "      <td>188232.0</td>\n",
       "    </tr>\n",
       "    <tr>\n",
       "      <th>2467</th>\n",
       "      <td>57.0</td>\n",
       "      <td>Female</td>\n",
       "      <td>PhD</td>\n",
       "      <td>Full Stack Engineer</td>\n",
       "      <td>30.0</td>\n",
       "      <td>121450.0</td>\n",
       "    </tr>\n",
       "    <tr>\n",
       "      <th>2476</th>\n",
       "      <td>60.0</td>\n",
       "      <td>Female</td>\n",
       "      <td>PhD</td>\n",
       "      <td>Software Engineer Manager</td>\n",
       "      <td>33.0</td>\n",
       "      <td>179180.0</td>\n",
       "    </tr>\n",
       "    <tr>\n",
       "      <th>2478</th>\n",
       "      <td>58.0</td>\n",
       "      <td>Male</td>\n",
       "      <td>Master's Degree</td>\n",
       "      <td>Senior Software Engineer</td>\n",
       "      <td>27.0</td>\n",
       "      <td>190004.0</td>\n",
       "    </tr>\n",
       "    <tr>\n",
       "      <th>2481</th>\n",
       "      <td>57.0</td>\n",
       "      <td>Female</td>\n",
       "      <td>PhD</td>\n",
       "      <td>Software Engineer Manager</td>\n",
       "      <td>33.0</td>\n",
       "      <td>191790.0</td>\n",
       "    </tr>\n",
       "    <tr>\n",
       "      <th>2501</th>\n",
       "      <td>60.0</td>\n",
       "      <td>Female</td>\n",
       "      <td>PhD</td>\n",
       "      <td>Software Engineer Manager</td>\n",
       "      <td>34.0</td>\n",
       "      <td>188651.0</td>\n",
       "    </tr>\n",
       "    <tr>\n",
       "      <th>2515</th>\n",
       "      <td>57.0</td>\n",
       "      <td>Female</td>\n",
       "      <td>Master's Degree</td>\n",
       "      <td>Full Stack Engineer</td>\n",
       "      <td>33.0</td>\n",
       "      <td>188232.0</td>\n",
       "    </tr>\n",
       "    <tr>\n",
       "      <th>2632</th>\n",
       "      <td>56.0</td>\n",
       "      <td>Female</td>\n",
       "      <td>PhD</td>\n",
       "      <td>Software Engineer Manager</td>\n",
       "      <td>31.0</td>\n",
       "      <td>197354.0</td>\n",
       "    </tr>\n",
       "  </tbody>\n",
       "</table>\n",
       "</div>"
      ],
      "text/plain": [
       "       Age  Gender  Education Level                  Job Title  \\\n",
       "1211  61.0    Male              PhD  Software Engineer Manager   \n",
       "1223  57.0    Male              PhD  Software Engineer Manager   \n",
       "1225  62.0    Male              PhD  Software Engineer Manager   \n",
       "1236  62.0    Male              PhD  Software Engineer Manager   \n",
       "1246  56.0    Male              PhD  Software Engineer Manager   \n",
       "1258  62.0    Male              PhD  Software Engineer Manager   \n",
       "1260  60.0    Male              PhD  Software Engineer Manager   \n",
       "1266  57.0    Male              PhD  Software Engineer Manager   \n",
       "1269  58.0    Male              PhD  Software Engineer Manager   \n",
       "1277  61.0    Male              PhD  Software Engineer Manager   \n",
       "1304  62.0    Male              PhD  Software Engineer Manager   \n",
       "1305  62.0    Male              PhD  Software Engineer Manager   \n",
       "1308  58.0  Female              PhD  Software Engineer Manager   \n",
       "1309  56.0    Male              PhD  Software Engineer Manager   \n",
       "1350  56.0    Male              PhD  Software Engineer Manager   \n",
       "1370  58.0    Male              PhD  Software Engineer Manager   \n",
       "1379  56.0    Male              PhD  Software Engineer Manager   \n",
       "1402  56.0    Male              PhD  Software Engineer Manager   \n",
       "1405  58.0    Male              PhD  Software Engineer Manager   \n",
       "1416  57.0    Male              PhD  Software Engineer Manager   \n",
       "1453  58.0    Male              PhD  Software Engineer Manager   \n",
       "1462  56.0    Male              PhD  Software Engineer Manager   \n",
       "1499  56.0    Male              PhD  Software Engineer Manager   \n",
       "1531  56.0  Female              PhD  Software Engineer Manager   \n",
       "1594  56.0    Male              PhD  Software Engineer Manager   \n",
       "1640  56.0    Male              PhD  Software Engineer Manager   \n",
       "2387  57.0  Female              PhD        Full Stack Engineer   \n",
       "2396  60.0  Female              PhD  Software Engineer Manager   \n",
       "2398  58.0    Male  Master's Degree   Senior Software Engineer   \n",
       "2401  57.0  Female              PhD  Software Engineer Manager   \n",
       "2421  60.0  Female              PhD  Software Engineer Manager   \n",
       "2435  57.0  Female  Master's Degree        Full Stack Engineer   \n",
       "2467  57.0  Female              PhD        Full Stack Engineer   \n",
       "2476  60.0  Female              PhD  Software Engineer Manager   \n",
       "2478  58.0    Male  Master's Degree   Senior Software Engineer   \n",
       "2481  57.0  Female              PhD  Software Engineer Manager   \n",
       "2501  60.0  Female              PhD  Software Engineer Manager   \n",
       "2515  57.0  Female  Master's Degree        Full Stack Engineer   \n",
       "2632  56.0  Female              PhD  Software Engineer Manager   \n",
       "\n",
       "      Years of Experience    Salary  \n",
       "1211                 20.0  200000.0  \n",
       "1223                 18.0  195000.0  \n",
       "1225                 19.0  200000.0  \n",
       "1236                 20.0  200000.0  \n",
       "1246                 17.0  195000.0  \n",
       "1258                 19.0  200000.0  \n",
       "1260                 18.0  195000.0  \n",
       "1266                 16.0  195000.0  \n",
       "1269                 17.0  200000.0  \n",
       "1277                 20.0  200000.0  \n",
       "1304                 20.0  200000.0  \n",
       "1305                 19.0  200000.0  \n",
       "1308                 17.0  195000.0  \n",
       "1309                 17.0  195000.0  \n",
       "1350                 18.0  195000.0  \n",
       "1370                 17.0  200000.0  \n",
       "1379                 17.0  195000.0  \n",
       "1402                 17.0  195000.0  \n",
       "1405                 17.0  195000.0  \n",
       "1416                 18.0  200000.0  \n",
       "1453                 17.0  200000.0  \n",
       "1462                 17.0  195000.0  \n",
       "1499                 17.0  195000.0  \n",
       "1531                 18.0  210000.0  \n",
       "1594                 17.0  195000.0  \n",
       "1640                 17.0  195000.0  \n",
       "2387                 30.0  121450.0  \n",
       "2396                 33.0  179180.0  \n",
       "2398                 27.0  190004.0  \n",
       "2401                 33.0  191790.0  \n",
       "2421                 34.0  188651.0  \n",
       "2435                 33.0  188232.0  \n",
       "2467                 30.0  121450.0  \n",
       "2476                 33.0  179180.0  \n",
       "2478                 27.0  190004.0  \n",
       "2481                 33.0  191790.0  \n",
       "2501                 34.0  188651.0  \n",
       "2515                 33.0  188232.0  \n",
       "2632                 31.0  197354.0  "
      ]
     },
     "execution_count": 73,
     "metadata": {},
     "output_type": "execute_result"
    }
   ],
   "source": [
    "df[df['Age'] > 55]"
   ]
  },
  {
   "cell_type": "code",
   "execution_count": null,
   "id": "c5057ae9-e354-41ca-9e2f-66ce8a914aa8",
   "metadata": {},
   "outputs": [],
   "source": []
  }
 ],
 "metadata": {
  "kernelspec": {
   "display_name": "Python 3 (ipykernel)",
   "language": "python",
   "name": "python3"
  },
  "language_info": {
   "codemirror_mode": {
    "name": "ipython",
    "version": 3
   },
   "file_extension": ".py",
   "mimetype": "text/x-python",
   "name": "python",
   "nbconvert_exporter": "python",
   "pygments_lexer": "ipython3",
   "version": "3.13.0"
  }
 },
 "nbformat": 4,
 "nbformat_minor": 5
}
