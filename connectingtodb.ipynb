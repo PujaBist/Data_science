{
 "cells": [
  {
   "cell_type": "code",
   "execution_count": 1,
   "id": "26801baa-0f2b-44ca-9c6c-fec459c9a238",
   "metadata": {},
   "outputs": [],
   "source": [
    "import pyodbc"
   ]
  },
  {
   "cell_type": "code",
   "execution_count": 2,
   "id": "a611eb0e-296c-4359-be2d-ffb4380e4f9a",
   "metadata": {},
   "outputs": [
    {
     "name": "stdout",
     "output_type": "stream",
     "text": [
      "['SQL Server', 'Tally ODBC Driver64', 'MySQL ODBC 8.4 Unicode Driver', 'MySQL ODBC 8.4 ANSI Driver', 'MySQL ODBC 9.0 ANSI Driver', 'MySQL ODBC 9.0 Unicode Driver', 'Microsoft Access Driver (*.mdb, *.accdb)', 'Microsoft Excel Driver (*.xls, *.xlsx, *.xlsm, *.xlsb)', 'Microsoft Access Text Driver (*.txt, *.csv)', 'SQL Server Native Client RDA 11.0', 'ODBC Driver 17 for SQL Server', 'ODBC Driver 18 for SQL Server']\n"
     ]
    }
   ],
   "source": [
    "print(pyodbc.drivers())"
   ]
  },
  {
   "cell_type": "code",
   "execution_count": 5,
   "id": "f9782c01-3967-41c3-8e06-f92bf2abaa31",
   "metadata": {},
   "outputs": [],
   "source": [
    "conn=('DRIVER={SQL SERVER};'\n",
    "'SERVER=localhost\\\\SQLEXPRESS;'\n",
    "'DATABASE=Employee;'\n",
    "'Trusted_Connection=yes;')"
   ]
  },
  {
   "cell_type": "code",
   "execution_count": 6,
   "id": "85d51a35-06f0-42f4-a321-5d2048668cb0",
   "metadata": {},
   "outputs": [
    {
     "data": {
      "text/plain": [
       "'DRIVER={SQL SERVER};SERVER=localhost\\\\SQLEXPRESS;DATABASE=Employee;Trusted_Connection=yes;'"
      ]
     },
     "execution_count": 6,
     "metadata": {},
     "output_type": "execute_result"
    }
   ],
   "source": [
    "conn"
   ]
  },
  {
   "cell_type": "code",
   "execution_count": null,
   "id": "57d91ce7-7801-415b-afb3-e0a51b416afd",
   "metadata": {},
   "outputs": [],
   "source": [
    "Streamlit:ML Model"
   ]
  },
  {
   "cell_type": "code",
   "execution_count": 7,
   "id": "35af7e5e-a824-4994-83bf-f8635b00a4bb",
   "metadata": {},
   "outputs": [],
   "source": [
    "from sklearn.ensemble import  RandomForestClassifier"
   ]
  },
  {
   "cell_type": "code",
   "execution_count": 8,
   "id": "9df13ca3-d584-43da-b484-661aff436c95",
   "metadata": {},
   "outputs": [
    {
     "ename": "NameError",
     "evalue": "name 'data' is not defined",
     "output_type": "error",
     "traceback": [
      "\u001b[1;31m---------------------------------------------------------------------------\u001b[0m",
      "\u001b[1;31mNameError\u001b[0m                                 Traceback (most recent call last)",
      "Cell \u001b[1;32mIn[8], line 1\u001b[0m\n\u001b[1;32m----> 1\u001b[0m y\u001b[38;5;241m=\u001b[39mdata\u001b[38;5;241m.\u001b[39mOutcome\n",
      "\u001b[1;31mNameError\u001b[0m: name 'data' is not defined"
     ]
    }
   ],
   "source": [
    "y=data.Outcome"
   ]
  },
  {
   "cell_type": "code",
   "execution_count": null,
   "id": "5c940541-1065-4f3d-b955-af9fce1fe6b5",
   "metadata": {},
   "outputs": [],
   "source": []
  }
 ],
 "metadata": {
  "kernelspec": {
   "display_name": "Python 3 (ipykernel)",
   "language": "python",
   "name": "python3"
  },
  "language_info": {
   "codemirror_mode": {
    "name": "ipython",
    "version": 3
   },
   "file_extension": ".py",
   "mimetype": "text/x-python",
   "name": "python",
   "nbconvert_exporter": "python",
   "pygments_lexer": "ipython3",
   "version": "3.12.7"
  }
 },
 "nbformat": 4,
 "nbformat_minor": 5
}
